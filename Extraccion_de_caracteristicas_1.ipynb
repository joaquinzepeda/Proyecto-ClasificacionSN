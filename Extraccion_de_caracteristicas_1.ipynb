{
 "cells": [
  {
   "cell_type": "markdown",
   "id": "047042f3",
   "metadata": {
    "id": "047042f3"
   },
   "source": [
    "# Extracción de caracteristicas proyecto:\n",
    "# Clasificación de supernovas de ALeRCE - ZTF\n",
    "### Por Joaquin Zepeda y Benjamin Irarrazabal - Tutor: Pablo Montero"
   ]
  },
  {
   "cell_type": "markdown",
   "id": "r_MLNTkLOH4o",
   "metadata": {
    "id": "r_MLNTkLOH4o"
   },
   "source": [
    "#Bloque Inicial\n",
    "Ejecutar una vez y luego reiniciar el entorno de ejecución"
   ]
  },
  {
   "cell_type": "code",
   "execution_count": null,
   "id": "596d3d0b",
   "metadata": {
    "id": "596d3d0b"
   },
   "outputs": [],
   "source": [
    "# pyarrow might be needed to read the data\n",
    "!python -m pip install Cython\n",
    "!python -m pip install -e git+https://git@github.com/alercebroker/turbo-fats#egg=turbofats\n",
    "!python -m pip install -e git+https://git@github.com/alercebroker/mhps#egg=mhps\n",
    "!python -m pip install -e git+https://git@github.com/alercebroker/P4J#egg=P4J\n",
    "!python -m pip install pyarrow\n",
    "!python -m pip install -e git+https://git@github.com/alercebroker/lc_classifier#egg=lc_classifier"
   ]
  },
  {
   "cell_type": "markdown",
   "id": "K3_ZlPHgOwg7",
   "metadata": {
    "id": "K3_ZlPHgOwg7"
   },
   "source": [
    "# Bloques Principales\n",
    "Luego de realizar el paso previo, se pueden ejecutar uno a uno los siguientes bloques"
   ]
  },
  {
   "cell_type": "code",
   "execution_count": 1,
   "id": "eece9446",
   "metadata": {
    "colab": {
     "base_uri": "https://localhost:8080/"
    },
    "id": "eece9446",
    "outputId": "ec34b619-3cdd-4745-e3e7-ea9d66da978c"
   },
   "outputs": [
    {
     "name": "stdout",
     "output_type": "stream",
     "text": [
      "Tensorflow version 2.4.0\n"
     ]
    }
   ],
   "source": [
    "import numpy as np\n",
    "import pandas as pd\n",
    "import tensorflow as tf\n",
    "# Se imprime la version de Tensorflow\n",
    "print('Tensorflow version', tf.__version__)\n"
   ]
  },
  {
   "cell_type": "markdown",
   "id": "7f4250de",
   "metadata": {
    "id": "7f4250de"
   },
   "source": [
    "# Importamos los extractores de caracteristicas"
   ]
  },
  {
   "cell_type": "code",
   "execution_count": 2,
   "id": "7aa65543",
   "metadata": {
    "id": "7aa65543"
   },
   "outputs": [],
   "source": [
    "from lc_classifier.features import SupernovaeDetectionFeatureExtractor, SNParametricModelExtractor, IQRExtractor,MHPSExtractor"
   ]
  },
  {
   "cell_type": "markdown",
   "id": "3c4b4f9e",
   "metadata": {
    "id": "3c4b4f9e"
   },
   "source": [
    "# Leyendo los datos\n",
    "La idea es seleccionar los dos archivos CSV que contienen los datos: \n",
    "\n",
    "1- detections_SNe_v7.0.1.csv\n",
    "\n",
    "2- dfcrossmatches_prioritized_v7.0.1.csv"
   ]
  },
  {
   "cell_type": "code",
   "execution_count": 3,
   "id": "74a5b511",
   "metadata": {},
   "outputs": [],
   "source": [
    "import pandas as pd\n",
    "url_det='https://raw.githubusercontent.com/joaquinzepeda/Datos/main/datos%20supernovas/detections_SNe_v7.0.1.csv'\n",
    "url_dfcross='https://raw.githubusercontent.com/joaquinzepeda/Datos/main/datos%20supernovas/dfcrossmatches_prioritized_v7.0.1.csv'\n",
    "detections = pd.read_csv(url_det, index_col=None)\n",
    "dfcrossmatches = pd.read_csv(url_dfcross, index_col=None)"
   ]
  },
  {
   "cell_type": "markdown",
   "id": "23ab15ad",
   "metadata": {
    "id": "23ab15ad"
   },
   "source": [
    "# Union de tablas\n",
    "Se realiza un Join con el fin de tener además de los nombres de los objetos, la clase a la cual pertenece, tendremos algunas columnas extras las cuales serán eliminadas más tarde"
   ]
  },
  {
   "cell_type": "code",
   "execution_count": 4,
   "id": "10f8e869",
   "metadata": {
    "id": "10f8e869"
   },
   "outputs": [],
   "source": [
    "Conjunto = pd.merge(detections, dfcrossmatches, left_on='objectId', right_on='oid')"
   ]
  },
  {
   "cell_type": "code",
   "execution_count": 5,
   "id": "vO0DcXC13pYa",
   "metadata": {
    "colab": {
     "base_uri": "https://localhost:8080/",
     "height": 241
    },
    "id": "vO0DcXC13pYa",
    "outputId": "970b74b2-023d-4389-ac8a-085bc59eecde"
   },
   "outputs": [
    {
     "data": {
      "text/html": [
       "<div>\n",
       "<style scoped>\n",
       "    .dataframe tbody tr th:only-of-type {\n",
       "        vertical-align: middle;\n",
       "    }\n",
       "\n",
       "    .dataframe tbody tr th {\n",
       "        vertical-align: top;\n",
       "    }\n",
       "\n",
       "    .dataframe thead th {\n",
       "        text-align: right;\n",
       "    }\n",
       "</style>\n",
       "<table border=\"1\" class=\"dataframe\">\n",
       "  <thead>\n",
       "    <tr style=\"text-align: right;\">\n",
       "      <th></th>\n",
       "      <th>Unnamed: 0</th>\n",
       "      <th>objectId</th>\n",
       "      <th>fid</th>\n",
       "      <th>isdiffpos</th>\n",
       "      <th>sigmapsf</th>\n",
       "      <th>field</th>\n",
       "      <th>fwhm</th>\n",
       "      <th>dec_x</th>\n",
       "      <th>magpsf</th>\n",
       "      <th>rcid</th>\n",
       "      <th>...</th>\n",
       "      <th>has_stamp</th>\n",
       "      <th>oid</th>\n",
       "      <th>classALeRCE</th>\n",
       "      <th>ra_y</th>\n",
       "      <th>dec_y</th>\n",
       "      <th>period</th>\n",
       "      <th>source</th>\n",
       "      <th>id_source</th>\n",
       "      <th>class_source</th>\n",
       "      <th>separation_arcsec</th>\n",
       "    </tr>\n",
       "  </thead>\n",
       "  <tbody>\n",
       "    <tr>\n",
       "      <th>0</th>\n",
       "      <td>0</td>\n",
       "      <td>ZTF18aahvndq</td>\n",
       "      <td>1</td>\n",
       "      <td>1.0</td>\n",
       "      <td>0.028791</td>\n",
       "      <td>626</td>\n",
       "      <td>3.59</td>\n",
       "      <td>27.008621</td>\n",
       "      <td>15.385100</td>\n",
       "      <td>34</td>\n",
       "      <td>...</td>\n",
       "      <td>True</td>\n",
       "      <td>ZTF18aahvndq</td>\n",
       "      <td>SNIa</td>\n",
       "      <td>198.722653</td>\n",
       "      <td>27.008637</td>\n",
       "      <td>NaN</td>\n",
       "      <td>TNS</td>\n",
       "      <td>SN 2020jhf</td>\n",
       "      <td>SN Ia</td>\n",
       "      <td>0.103069</td>\n",
       "    </tr>\n",
       "    <tr>\n",
       "      <th>1</th>\n",
       "      <td>1</td>\n",
       "      <td>ZTF18aahvndq</td>\n",
       "      <td>1</td>\n",
       "      <td>1.0</td>\n",
       "      <td>0.031231</td>\n",
       "      <td>626</td>\n",
       "      <td>2.57</td>\n",
       "      <td>27.008635</td>\n",
       "      <td>15.712121</td>\n",
       "      <td>34</td>\n",
       "      <td>...</td>\n",
       "      <td>True</td>\n",
       "      <td>ZTF18aahvndq</td>\n",
       "      <td>SNIa</td>\n",
       "      <td>198.722653</td>\n",
       "      <td>27.008637</td>\n",
       "      <td>NaN</td>\n",
       "      <td>TNS</td>\n",
       "      <td>SN 2020jhf</td>\n",
       "      <td>SN Ia</td>\n",
       "      <td>0.103069</td>\n",
       "    </tr>\n",
       "    <tr>\n",
       "      <th>2</th>\n",
       "      <td>2</td>\n",
       "      <td>ZTF18aahvndq</td>\n",
       "      <td>1</td>\n",
       "      <td>1.0</td>\n",
       "      <td>0.032161</td>\n",
       "      <td>626</td>\n",
       "      <td>1.98</td>\n",
       "      <td>27.008647</td>\n",
       "      <td>16.072975</td>\n",
       "      <td>34</td>\n",
       "      <td>...</td>\n",
       "      <td>True</td>\n",
       "      <td>ZTF18aahvndq</td>\n",
       "      <td>SNIa</td>\n",
       "      <td>198.722653</td>\n",
       "      <td>27.008637</td>\n",
       "      <td>NaN</td>\n",
       "      <td>TNS</td>\n",
       "      <td>SN 2020jhf</td>\n",
       "      <td>SN Ia</td>\n",
       "      <td>0.103069</td>\n",
       "    </tr>\n",
       "    <tr>\n",
       "      <th>3</th>\n",
       "      <td>3</td>\n",
       "      <td>ZTF18aahvndq</td>\n",
       "      <td>1</td>\n",
       "      <td>1.0</td>\n",
       "      <td>0.049931</td>\n",
       "      <td>626</td>\n",
       "      <td>2.75</td>\n",
       "      <td>27.008624</td>\n",
       "      <td>17.708502</td>\n",
       "      <td>34</td>\n",
       "      <td>...</td>\n",
       "      <td>True</td>\n",
       "      <td>ZTF18aahvndq</td>\n",
       "      <td>SNIa</td>\n",
       "      <td>198.722653</td>\n",
       "      <td>27.008637</td>\n",
       "      <td>NaN</td>\n",
       "      <td>TNS</td>\n",
       "      <td>SN 2020jhf</td>\n",
       "      <td>SN Ia</td>\n",
       "      <td>0.103069</td>\n",
       "    </tr>\n",
       "    <tr>\n",
       "      <th>4</th>\n",
       "      <td>4</td>\n",
       "      <td>ZTF18aahvndq</td>\n",
       "      <td>1</td>\n",
       "      <td>1.0</td>\n",
       "      <td>0.028520</td>\n",
       "      <td>626</td>\n",
       "      <td>3.13</td>\n",
       "      <td>27.008636</td>\n",
       "      <td>15.617474</td>\n",
       "      <td>34</td>\n",
       "      <td>...</td>\n",
       "      <td>True</td>\n",
       "      <td>ZTF18aahvndq</td>\n",
       "      <td>SNIa</td>\n",
       "      <td>198.722653</td>\n",
       "      <td>27.008637</td>\n",
       "      <td>NaN</td>\n",
       "      <td>TNS</td>\n",
       "      <td>SN 2020jhf</td>\n",
       "      <td>SN Ia</td>\n",
       "      <td>0.103069</td>\n",
       "    </tr>\n",
       "  </tbody>\n",
       "</table>\n",
       "<p>5 rows × 41 columns</p>\n",
       "</div>"
      ],
      "text/plain": [
       "   Unnamed: 0      objectId  fid  isdiffpos  sigmapsf  field  fwhm      dec_x  \\\n",
       "0           0  ZTF18aahvndq    1        1.0  0.028791    626  3.59  27.008621   \n",
       "1           1  ZTF18aahvndq    1        1.0  0.031231    626  2.57  27.008635   \n",
       "2           2  ZTF18aahvndq    1        1.0  0.032161    626  1.98  27.008647   \n",
       "3           3  ZTF18aahvndq    1        1.0  0.049931    626  2.75  27.008624   \n",
       "4           4  ZTF18aahvndq    1        1.0  0.028520    626  3.13  27.008636   \n",
       "\n",
       "      magpsf  rcid  ...  has_stamp           oid  classALeRCE        ra_y  \\\n",
       "0  15.385100    34  ...       True  ZTF18aahvndq         SNIa  198.722653   \n",
       "1  15.712121    34  ...       True  ZTF18aahvndq         SNIa  198.722653   \n",
       "2  16.072975    34  ...       True  ZTF18aahvndq         SNIa  198.722653   \n",
       "3  17.708502    34  ...       True  ZTF18aahvndq         SNIa  198.722653   \n",
       "4  15.617474    34  ...       True  ZTF18aahvndq         SNIa  198.722653   \n",
       "\n",
       "       dec_y  period  source   id_source  class_source  separation_arcsec  \n",
       "0  27.008637     NaN     TNS  SN 2020jhf         SN Ia           0.103069  \n",
       "1  27.008637     NaN     TNS  SN 2020jhf         SN Ia           0.103069  \n",
       "2  27.008637     NaN     TNS  SN 2020jhf         SN Ia           0.103069  \n",
       "3  27.008637     NaN     TNS  SN 2020jhf         SN Ia           0.103069  \n",
       "4  27.008637     NaN     TNS  SN 2020jhf         SN Ia           0.103069  \n",
       "\n",
       "[5 rows x 41 columns]"
      ]
     },
     "execution_count": 5,
     "metadata": {},
     "output_type": "execute_result"
    }
   ],
   "source": [
    "Conjunto.head()"
   ]
  },
  {
   "cell_type": "code",
   "execution_count": 6,
   "id": "e9845473",
   "metadata": {
    "colab": {
     "base_uri": "https://localhost:8080/",
     "height": 204
    },
    "id": "e9845473",
    "outputId": "0d60a9d5-47c0-42a4-a746-f849e38d0c36"
   },
   "outputs": [
    {
     "data": {
      "text/html": [
       "<div>\n",
       "<style scoped>\n",
       "    .dataframe tbody tr th:only-of-type {\n",
       "        vertical-align: middle;\n",
       "    }\n",
       "\n",
       "    .dataframe tbody tr th {\n",
       "        vertical-align: top;\n",
       "    }\n",
       "\n",
       "    .dataframe thead th {\n",
       "        text-align: right;\n",
       "    }\n",
       "</style>\n",
       "<table border=\"1\" class=\"dataframe\">\n",
       "  <thead>\n",
       "    <tr style=\"text-align: right;\">\n",
       "      <th></th>\n",
       "      <th>classALeRCE</th>\n",
       "      <th>oid</th>\n",
       "      <th>objectId</th>\n",
       "      <th>isdiffpos</th>\n",
       "      <th>magpsf</th>\n",
       "      <th>mjd</th>\n",
       "      <th>magpsf_corr</th>\n",
       "      <th>sigmapsf</th>\n",
       "      <th>sigmapsf_corr</th>\n",
       "      <th>fid</th>\n",
       "    </tr>\n",
       "  </thead>\n",
       "  <tbody>\n",
       "    <tr>\n",
       "      <th>0</th>\n",
       "      <td>SNIa</td>\n",
       "      <td>ZTF18aahvndq</td>\n",
       "      <td>ZTF18aahvndq</td>\n",
       "      <td>1.0</td>\n",
       "      <td>15.385100</td>\n",
       "      <td>58991.302095</td>\n",
       "      <td>NaN</td>\n",
       "      <td>0.028791</td>\n",
       "      <td>NaN</td>\n",
       "      <td>1</td>\n",
       "    </tr>\n",
       "    <tr>\n",
       "      <th>1</th>\n",
       "      <td>SNIa</td>\n",
       "      <td>ZTF18aahvndq</td>\n",
       "      <td>ZTF18aahvndq</td>\n",
       "      <td>1.0</td>\n",
       "      <td>15.712121</td>\n",
       "      <td>59000.260914</td>\n",
       "      <td>NaN</td>\n",
       "      <td>0.031231</td>\n",
       "      <td>NaN</td>\n",
       "      <td>1</td>\n",
       "    </tr>\n",
       "    <tr>\n",
       "      <th>2</th>\n",
       "      <td>SNIa</td>\n",
       "      <td>ZTF18aahvndq</td>\n",
       "      <td>ZTF18aahvndq</td>\n",
       "      <td>1.0</td>\n",
       "      <td>16.072975</td>\n",
       "      <td>59004.192674</td>\n",
       "      <td>NaN</td>\n",
       "      <td>0.032161</td>\n",
       "      <td>NaN</td>\n",
       "      <td>1</td>\n",
       "    </tr>\n",
       "    <tr>\n",
       "      <th>3</th>\n",
       "      <td>SNIa</td>\n",
       "      <td>ZTF18aahvndq</td>\n",
       "      <td>ZTF18aahvndq</td>\n",
       "      <td>1.0</td>\n",
       "      <td>17.708502</td>\n",
       "      <td>59021.227604</td>\n",
       "      <td>NaN</td>\n",
       "      <td>0.049931</td>\n",
       "      <td>NaN</td>\n",
       "      <td>1</td>\n",
       "    </tr>\n",
       "    <tr>\n",
       "      <th>4</th>\n",
       "      <td>SNIa</td>\n",
       "      <td>ZTF18aahvndq</td>\n",
       "      <td>ZTF18aahvndq</td>\n",
       "      <td>1.0</td>\n",
       "      <td>15.617474</td>\n",
       "      <td>58986.223646</td>\n",
       "      <td>NaN</td>\n",
       "      <td>0.028520</td>\n",
       "      <td>NaN</td>\n",
       "      <td>1</td>\n",
       "    </tr>\n",
       "  </tbody>\n",
       "</table>\n",
       "</div>"
      ],
      "text/plain": [
       "  classALeRCE           oid      objectId  isdiffpos     magpsf           mjd  \\\n",
       "0        SNIa  ZTF18aahvndq  ZTF18aahvndq        1.0  15.385100  58991.302095   \n",
       "1        SNIa  ZTF18aahvndq  ZTF18aahvndq        1.0  15.712121  59000.260914   \n",
       "2        SNIa  ZTF18aahvndq  ZTF18aahvndq        1.0  16.072975  59004.192674   \n",
       "3        SNIa  ZTF18aahvndq  ZTF18aahvndq        1.0  17.708502  59021.227604   \n",
       "4        SNIa  ZTF18aahvndq  ZTF18aahvndq        1.0  15.617474  58986.223646   \n",
       "\n",
       "   magpsf_corr  sigmapsf  sigmapsf_corr  fid  \n",
       "0          NaN  0.028791            NaN    1  \n",
       "1          NaN  0.031231            NaN    1  \n",
       "2          NaN  0.032161            NaN    1  \n",
       "3          NaN  0.049931            NaN    1  \n",
       "4          NaN  0.028520            NaN    1  "
      ]
     },
     "execution_count": 6,
     "metadata": {},
     "output_type": "execute_result"
    }
   ],
   "source": [
    "# Le hacemos un slicing al conjunto:\n",
    "slice_cjto = Conjunto[['classALeRCE','oid','objectId','isdiffpos','magpsf','mjd','magpsf_corr','sigmapsf','sigmapsf_corr','fid']]\n",
    "slice_cjto.head() # Printeamos las primeras filas del conjunto para observar que se hayan tomado bien los datos"
   ]
  },
  {
   "cell_type": "markdown",
   "id": "Ep3BoFv72XaR",
   "metadata": {
    "id": "Ep3BoFv72XaR"
   },
   "source": [
    "# Limpieza de datos: \n",
    "Se quitan los registros que se detecten como outliers, estos corresponderian a los que se alejan a más de 3 desviaciones estandar del promedio."
   ]
  },
  {
   "cell_type": "code",
   "execution_count": 7,
   "id": "wB8o-x774tMO",
   "metadata": {
    "id": "wB8o-x774tMO"
   },
   "outputs": [],
   "source": [
    "from scipy import stats\n",
    "clean_data = slice_cjto[((np.abs(stats.zscore(slice_cjto['magpsf']))<3)&(slice_cjto['sigmapsf']<1))]"
   ]
  },
  {
   "cell_type": "code",
   "execution_count": 8,
   "id": "SS8blYU0hSmv",
   "metadata": {
    "colab": {
     "base_uri": "https://localhost:8080/",
     "height": 204
    },
    "id": "SS8blYU0hSmv",
    "outputId": "852063cf-7b0d-491f-cbf9-6678f95d0dfc"
   },
   "outputs": [
    {
     "data": {
      "text/html": [
       "<div>\n",
       "<style scoped>\n",
       "    .dataframe tbody tr th:only-of-type {\n",
       "        vertical-align: middle;\n",
       "    }\n",
       "\n",
       "    .dataframe tbody tr th {\n",
       "        vertical-align: top;\n",
       "    }\n",
       "\n",
       "    .dataframe thead th {\n",
       "        text-align: right;\n",
       "    }\n",
       "</style>\n",
       "<table border=\"1\" class=\"dataframe\">\n",
       "  <thead>\n",
       "    <tr style=\"text-align: right;\">\n",
       "      <th></th>\n",
       "      <th>classALeRCE</th>\n",
       "      <th>oid</th>\n",
       "      <th>objectId</th>\n",
       "      <th>isdiffpos</th>\n",
       "      <th>magpsf</th>\n",
       "      <th>mjd</th>\n",
       "      <th>magpsf_corr</th>\n",
       "      <th>sigmapsf</th>\n",
       "      <th>sigmapsf_corr</th>\n",
       "      <th>fid</th>\n",
       "    </tr>\n",
       "  </thead>\n",
       "  <tbody>\n",
       "    <tr>\n",
       "      <th>2</th>\n",
       "      <td>SNIa</td>\n",
       "      <td>ZTF18aahvndq</td>\n",
       "      <td>ZTF18aahvndq</td>\n",
       "      <td>1.0</td>\n",
       "      <td>16.072975</td>\n",
       "      <td>59004.192674</td>\n",
       "      <td>NaN</td>\n",
       "      <td>0.032161</td>\n",
       "      <td>NaN</td>\n",
       "      <td>1</td>\n",
       "    </tr>\n",
       "    <tr>\n",
       "      <th>3</th>\n",
       "      <td>SNIa</td>\n",
       "      <td>ZTF18aahvndq</td>\n",
       "      <td>ZTF18aahvndq</td>\n",
       "      <td>1.0</td>\n",
       "      <td>17.708502</td>\n",
       "      <td>59021.227604</td>\n",
       "      <td>NaN</td>\n",
       "      <td>0.049931</td>\n",
       "      <td>NaN</td>\n",
       "      <td>1</td>\n",
       "    </tr>\n",
       "    <tr>\n",
       "      <th>6</th>\n",
       "      <td>SNIa</td>\n",
       "      <td>ZTF18aahvndq</td>\n",
       "      <td>ZTF18aahvndq</td>\n",
       "      <td>1.0</td>\n",
       "      <td>16.626165</td>\n",
       "      <td>59009.258669</td>\n",
       "      <td>NaN</td>\n",
       "      <td>0.044748</td>\n",
       "      <td>NaN</td>\n",
       "      <td>1</td>\n",
       "    </tr>\n",
       "    <tr>\n",
       "      <th>8</th>\n",
       "      <td>SNIa</td>\n",
       "      <td>ZTF18aahvndq</td>\n",
       "      <td>ZTF18aahvndq</td>\n",
       "      <td>1.0</td>\n",
       "      <td>18.192377</td>\n",
       "      <td>59036.198090</td>\n",
       "      <td>NaN</td>\n",
       "      <td>0.078094</td>\n",
       "      <td>NaN</td>\n",
       "      <td>1</td>\n",
       "    </tr>\n",
       "    <tr>\n",
       "      <th>9</th>\n",
       "      <td>SNIa</td>\n",
       "      <td>ZTF18aahvndq</td>\n",
       "      <td>ZTF18aahvndq</td>\n",
       "      <td>1.0</td>\n",
       "      <td>18.481302</td>\n",
       "      <td>59045.238090</td>\n",
       "      <td>NaN</td>\n",
       "      <td>0.083104</td>\n",
       "      <td>NaN</td>\n",
       "      <td>1</td>\n",
       "    </tr>\n",
       "  </tbody>\n",
       "</table>\n",
       "</div>"
      ],
      "text/plain": [
       "  classALeRCE           oid      objectId  isdiffpos     magpsf           mjd  \\\n",
       "2        SNIa  ZTF18aahvndq  ZTF18aahvndq        1.0  16.072975  59004.192674   \n",
       "3        SNIa  ZTF18aahvndq  ZTF18aahvndq        1.0  17.708502  59021.227604   \n",
       "6        SNIa  ZTF18aahvndq  ZTF18aahvndq        1.0  16.626165  59009.258669   \n",
       "8        SNIa  ZTF18aahvndq  ZTF18aahvndq        1.0  18.192377  59036.198090   \n",
       "9        SNIa  ZTF18aahvndq  ZTF18aahvndq        1.0  18.481302  59045.238090   \n",
       "\n",
       "   magpsf_corr  sigmapsf  sigmapsf_corr  fid  \n",
       "2          NaN  0.032161            NaN    1  \n",
       "3          NaN  0.049931            NaN    1  \n",
       "6          NaN  0.044748            NaN    1  \n",
       "8          NaN  0.078094            NaN    1  \n",
       "9          NaN  0.083104            NaN    1  "
      ]
     },
     "execution_count": 8,
     "metadata": {},
     "output_type": "execute_result"
    }
   ],
   "source": [
    "clean_data.head()"
   ]
  },
  {
   "cell_type": "markdown",
   "id": "uYqUEHyK2mQK",
   "metadata": {
    "id": "uYqUEHyK2mQK"
   },
   "source": [
    "# Se arreglan los NaN que aparecen en magpsf_corr y sigmapsf_corr copiando el valor que tienen en sus versiones no corregidas."
   ]
  },
  {
   "cell_type": "code",
   "execution_count": 9,
   "id": "_bGuSjkPhgxO",
   "metadata": {
    "id": "_bGuSjkPhgxO"
   },
   "outputs": [],
   "source": [
    "n = len(clean_data)\n",
    "copy_cleandata = clean_data.copy()\n",
    "\n",
    "for i in range(0,n):\n",
    "  if pd.isna(clean_data.iloc[i,8]) == True:\n",
    "    copy_cleandata.iloc[i,8] = copy_cleandata.iloc[i,7]\n",
    "  else:\n",
    "    pass\n",
    "for i in range(0,n):\n",
    "  if pd.isna(clean_data.iloc[i,6]) == True:\n",
    "    copy_cleandata.iloc[i,6] = copy_cleandata.iloc[i,4]\n",
    "  else:\n",
    "    pass"
   ]
  },
  {
   "cell_type": "code",
   "execution_count": 14,
   "id": "7QQK79UmnF6U",
   "metadata": {
    "colab": {
     "base_uri": "https://localhost:8080/",
     "height": 204
    },
    "id": "7QQK79UmnF6U",
    "outputId": "07546f28-2a94-4bd3-91d9-911faf5d72c5"
   },
   "outputs": [
    {
     "data": {
      "text/html": [
       "<div>\n",
       "<style scoped>\n",
       "    .dataframe tbody tr th:only-of-type {\n",
       "        vertical-align: middle;\n",
       "    }\n",
       "\n",
       "    .dataframe tbody tr th {\n",
       "        vertical-align: top;\n",
       "    }\n",
       "\n",
       "    .dataframe thead th {\n",
       "        text-align: right;\n",
       "    }\n",
       "</style>\n",
       "<table border=\"1\" class=\"dataframe\">\n",
       "  <thead>\n",
       "    <tr style=\"text-align: right;\">\n",
       "      <th></th>\n",
       "      <th>classALeRCE</th>\n",
       "      <th>oid</th>\n",
       "      <th>objectId</th>\n",
       "      <th>isdiffpos</th>\n",
       "      <th>magpsf</th>\n",
       "      <th>mjd</th>\n",
       "      <th>magpsf_corr</th>\n",
       "      <th>sigmapsf</th>\n",
       "      <th>sigmapsf_corr</th>\n",
       "      <th>fid</th>\n",
       "    </tr>\n",
       "  </thead>\n",
       "  <tbody>\n",
       "    <tr>\n",
       "      <th>2</th>\n",
       "      <td>SNIa</td>\n",
       "      <td>ZTF18aahvndq</td>\n",
       "      <td>ZTF18aahvndq</td>\n",
       "      <td>1.0</td>\n",
       "      <td>16.072975</td>\n",
       "      <td>59004.192674</td>\n",
       "      <td>16.072975</td>\n",
       "      <td>0.032161</td>\n",
       "      <td>0.032161</td>\n",
       "      <td>1</td>\n",
       "    </tr>\n",
       "    <tr>\n",
       "      <th>3</th>\n",
       "      <td>SNIa</td>\n",
       "      <td>ZTF18aahvndq</td>\n",
       "      <td>ZTF18aahvndq</td>\n",
       "      <td>1.0</td>\n",
       "      <td>17.708502</td>\n",
       "      <td>59021.227604</td>\n",
       "      <td>17.708502</td>\n",
       "      <td>0.049931</td>\n",
       "      <td>0.049931</td>\n",
       "      <td>1</td>\n",
       "    </tr>\n",
       "    <tr>\n",
       "      <th>6</th>\n",
       "      <td>SNIa</td>\n",
       "      <td>ZTF18aahvndq</td>\n",
       "      <td>ZTF18aahvndq</td>\n",
       "      <td>1.0</td>\n",
       "      <td>16.626165</td>\n",
       "      <td>59009.258669</td>\n",
       "      <td>16.626165</td>\n",
       "      <td>0.044748</td>\n",
       "      <td>0.044748</td>\n",
       "      <td>1</td>\n",
       "    </tr>\n",
       "    <tr>\n",
       "      <th>8</th>\n",
       "      <td>SNIa</td>\n",
       "      <td>ZTF18aahvndq</td>\n",
       "      <td>ZTF18aahvndq</td>\n",
       "      <td>1.0</td>\n",
       "      <td>18.192377</td>\n",
       "      <td>59036.198090</td>\n",
       "      <td>18.192377</td>\n",
       "      <td>0.078094</td>\n",
       "      <td>0.078094</td>\n",
       "      <td>1</td>\n",
       "    </tr>\n",
       "    <tr>\n",
       "      <th>9</th>\n",
       "      <td>SNIa</td>\n",
       "      <td>ZTF18aahvndq</td>\n",
       "      <td>ZTF18aahvndq</td>\n",
       "      <td>1.0</td>\n",
       "      <td>18.481302</td>\n",
       "      <td>59045.238090</td>\n",
       "      <td>18.481302</td>\n",
       "      <td>0.083104</td>\n",
       "      <td>0.083104</td>\n",
       "      <td>1</td>\n",
       "    </tr>\n",
       "  </tbody>\n",
       "</table>\n",
       "</div>"
      ],
      "text/plain": [
       "  classALeRCE           oid      objectId  isdiffpos     magpsf           mjd  \\\n",
       "2        SNIa  ZTF18aahvndq  ZTF18aahvndq        1.0  16.072975  59004.192674   \n",
       "3        SNIa  ZTF18aahvndq  ZTF18aahvndq        1.0  17.708502  59021.227604   \n",
       "6        SNIa  ZTF18aahvndq  ZTF18aahvndq        1.0  16.626165  59009.258669   \n",
       "8        SNIa  ZTF18aahvndq  ZTF18aahvndq        1.0  18.192377  59036.198090   \n",
       "9        SNIa  ZTF18aahvndq  ZTF18aahvndq        1.0  18.481302  59045.238090   \n",
       "\n",
       "   magpsf_corr  sigmapsf  sigmapsf_corr  fid  \n",
       "2    16.072975  0.032161       0.032161    1  \n",
       "3    17.708502  0.049931       0.049931    1  \n",
       "6    16.626165  0.044748       0.044748    1  \n",
       "8    18.192377  0.078094       0.078094    1  \n",
       "9    18.481302  0.083104       0.083104    1  "
      ]
     },
     "execution_count": 14,
     "metadata": {},
     "output_type": "execute_result"
    }
   ],
   "source": [
    "copy_cleandata.head()"
   ]
  },
  {
   "cell_type": "markdown",
   "id": "mTS-cKanPB-W",
   "metadata": {
    "id": "mTS-cKanPB-W"
   },
   "source": [
    "# Calculamos la cantidad de supernovas que hay en la base de datos"
   ]
  },
  {
   "cell_type": "code",
   "execution_count": 11,
   "id": "xuhr29d3hzHP",
   "metadata": {
    "colab": {
     "base_uri": "https://localhost:8080/",
     "height": 266
    },
    "id": "xuhr29d3hzHP",
    "outputId": "19b878f4-cd58-4574-f240-8dc7a6f1975a"
   },
   "outputs": [
    {
     "data": {
      "text/html": [
       "<div>\n",
       "<style scoped>\n",
       "    .dataframe tbody tr th:only-of-type {\n",
       "        vertical-align: middle;\n",
       "    }\n",
       "\n",
       "    .dataframe tbody tr th {\n",
       "        vertical-align: top;\n",
       "    }\n",
       "\n",
       "    .dataframe thead th {\n",
       "        text-align: right;\n",
       "    }\n",
       "</style>\n",
       "<table border=\"1\" class=\"dataframe\">\n",
       "  <thead>\n",
       "    <tr style=\"text-align: right;\">\n",
       "      <th></th>\n",
       "      <th>objectId</th>\n",
       "    </tr>\n",
       "    <tr>\n",
       "      <th>classALeRCE</th>\n",
       "      <th></th>\n",
       "    </tr>\n",
       "  </thead>\n",
       "  <tbody>\n",
       "    <tr>\n",
       "      <th>SLSN</th>\n",
       "      <td>34</td>\n",
       "    </tr>\n",
       "    <tr>\n",
       "      <th>SNII</th>\n",
       "      <td>330</td>\n",
       "    </tr>\n",
       "    <tr>\n",
       "      <th>SNIIb</th>\n",
       "      <td>16</td>\n",
       "    </tr>\n",
       "    <tr>\n",
       "      <th>SNIIn</th>\n",
       "      <td>42</td>\n",
       "    </tr>\n",
       "    <tr>\n",
       "      <th>SNIa</th>\n",
       "      <td>1540</td>\n",
       "    </tr>\n",
       "    <tr>\n",
       "      <th>SNIbc</th>\n",
       "      <td>106</td>\n",
       "    </tr>\n",
       "  </tbody>\n",
       "</table>\n",
       "</div>"
      ],
      "text/plain": [
       "             objectId\n",
       "classALeRCE          \n",
       "SLSN               34\n",
       "SNII              330\n",
       "SNIIb              16\n",
       "SNIIn              42\n",
       "SNIa             1540\n",
       "SNIbc             106"
      ]
     },
     "execution_count": 11,
     "metadata": {},
     "output_type": "execute_result"
    }
   ],
   "source": [
    "# tomamos un subslice de los datos tomando solo la columna del Id con la de la clase:\n",
    "subslice = clean_data[['objectId','classALeRCE']]\n",
    "# Ahora, a este subslice, le eliminamos los \"duplicados\" de cada curva para poder obtener la cantidad de supernovas que tenemos\n",
    "subslice_sinduplicados = subslice.drop_duplicates(subset=['objectId'])\n",
    "# Y ahora que ya tenemos esto, podemos calcular la cantidad de supernovas real que hay, es decir, tomando solo 1 muestra para c/u\n",
    "subslice_sinduplicados.groupby('classALeRCE').count()\n"
   ]
  },
  {
   "cell_type": "code",
   "execution_count": 12,
   "id": "Wx91QJQV4FzE",
   "metadata": {
    "colab": {
     "base_uri": "https://localhost:8080/",
     "height": 315
    },
    "id": "Wx91QJQV4FzE",
    "outputId": "7246bda5-b139-4e88-9243-9ece66639222"
   },
   "outputs": [
    {
     "data": {
      "text/plain": [
       "<AxesSubplot:xlabel='classALeRCE'>"
      ]
     },
     "execution_count": 12,
     "metadata": {},
     "output_type": "execute_result"
    },
    {
     "data": {
      "image/png": "[encoded data removed]",
      "text/plain": [
       "<Figure size 432x288 with 1 Axes>"
      ]
     },
     "metadata": {
      "needs_background": "light"
     },
     "output_type": "display_data"
    }
   ],
   "source": [
    "group_cleandata = subslice_sinduplicados.groupby('classALeRCE')['classALeRCE'].count()\n",
    "group_cleandata.plot(kind='bar')"
   ]
  },
  {
   "cell_type": "markdown",
   "id": "u4d6vJvK28-X",
   "metadata": {
    "id": "u4d6vJvK28-X"
   },
   "source": [
    "# Se le cambia el nombre a los datos solo por conveniencia, los datos a utilizar ya filtrados corresponden a \"Datos_Final\""
   ]
  },
  {
   "cell_type": "code",
   "execution_count": 2,
   "id": "v8UsMu__6Nk7",
   "metadata": {
    "id": "v8UsMu__6Nk7"
   },
   "outputs": [
    {
     "ename": "NameError",
     "evalue": "name 'copy_cleandata' is not defined",
     "output_type": "error",
     "traceback": [
      "\u001b[0;31m---------------------------------------------------------------------------\u001b[0m",
      "\u001b[0;31mNameError\u001b[0m                                 Traceback (most recent call last)",
      "\u001b[0;32m<ipython-input-2-31d225ebf20c>\u001b[0m in \u001b[0;36m<module>\u001b[0;34m\u001b[0m\n\u001b[1;32m      1\u001b[0m \u001b[0;31m# Ahora, tomaremos un ejemplo de cada supernova y graficaremos su curva de luz.\u001b[0m\u001b[0;34m\u001b[0m\u001b[0;34m\u001b[0m\u001b[0;34m\u001b[0m\u001b[0m\n\u001b[0;32m----> 2\u001b[0;31m \u001b[0mDatos_Final\u001b[0m \u001b[0;34m=\u001b[0m \u001b[0mcopy_cleandata\u001b[0m \u001b[0;31m#Las muestras con los NaN reemplazados y sin outliers\u001b[0m\u001b[0;34m\u001b[0m\u001b[0;34m\u001b[0m\u001b[0m\n\u001b[0m",
      "\u001b[0;31mNameError\u001b[0m: name 'copy_cleandata' is not defined"
     ]
    }
   ],
   "source": [
    "# Ahora, tomaremos un ejemplo de cada supernova y graficaremos su curva de luz.\n",
    "Datos_Final = copy_cleandata #Las muestras con los NaN reemplazados y sin outliers"
   ]
  },
  {
   "cell_type": "code",
   "execution_count": 1,
   "id": "9f260951",
   "metadata": {},
   "outputs": [
    {
     "ename": "NameError",
     "evalue": "name 'Datos_Final' is not defined",
     "output_type": "error",
     "traceback": [
      "\u001b[0;31m---------------------------------------------------------------------------\u001b[0m",
      "\u001b[0;31mNameError\u001b[0m                                 Traceback (most recent call last)",
      "\u001b[0;32m<ipython-input-1-15a7e581763a>\u001b[0m in \u001b[0;36m<module>\u001b[0;34m\u001b[0m\n\u001b[0;32m----> 1\u001b[0;31m \u001b[0mDatos_Final\u001b[0m\u001b[0;34m[\u001b[0m\u001b[0mdatos_final\u001b[0m\u001b[0;34m.\u001b[0m\u001b[0mindex\u001b[0m\u001b[0;34m==\u001b[0m\u001b[0;34m'ZTF19aawgopm'\u001b[0m\u001b[0;34m]\u001b[0m\u001b[0;34m\u001b[0m\u001b[0;34m\u001b[0m\u001b[0m\n\u001b[0m",
      "\u001b[0;31mNameError\u001b[0m: name 'Datos_Final' is not defined"
     ]
    }
   ],
   "source": []
  },
  {
   "cell_type": "markdown",
   "id": "2rP-pNKvPV8I",
   "metadata": {
    "id": "2rP-pNKvPV8I"
   },
   "source": [
    "#Se grafica un ejemplo de curva de luz por cada tipo de supernova"
   ]
  },
  {
   "cell_type": "code",
   "execution_count": 14,
   "id": "L_wwg4lsCmlj",
   "metadata": {
    "id": "L_wwg4lsCmlj"
   },
   "outputs": [],
   "source": [
    "# Ahora comenzamos a tomar datos para las curvas de luz, como son 6 tipos de curvas de luz haremos 1 ejemplo de cada una (ie, 6 curvas)\n",
    "import matplotlib.pyplot as plt\n",
    "Curva_SNIa = Datos_Final.loc[Datos_Final.loc[:,'oid']=='ZTF20aaxxcms'] # SNIa\n",
    "Curva_SNII = Datos_Final.loc[Datos_Final.loc[:,'oid']=='ZTF19abhduuo'] # SNII\n",
    "Curva_SLSN = Datos_Final.loc[Datos_Final.loc[:,'oid']=='ZTF19aalbrgu'] # SLSN\n",
    "Curva_SNIIb = Datos_Final.loc[Datos_Final.loc[:,'oid']=='ZTF19aaejtof'] # SNIIb\n",
    "Curva_SNIIn = Datos_Final.loc[Datos_Final.loc[:,'oid']=='ZTF19abgndlf'] # SNIIn\n",
    "Curva_SNIbc = Datos_Final.loc[Datos_Final.loc[:,'oid']=='ZTF19abqwtfu'] # SNIbc\n"
   ]
  },
  {
   "cell_type": "code",
   "execution_count": 15,
   "id": "95urZEcVH2qZ",
   "metadata": {
    "colab": {
     "base_uri": "https://localhost:8080/",
     "height": 513
    },
    "id": "95urZEcVH2qZ",
    "outputId": "d9e2417c-8074-4a50-aa25-ce9902c66040"
   },
   "outputs": [
    {
     "data": {
      "image/png": "[encoded data removed]",
      "text/plain": [
       "<Figure size 864x576 with 1 Axes>"
      ]
     },
     "metadata": {},
     "output_type": "display_data"
    }
   ],
   "source": [
    "# GRAFICAMOS LA CURVA PARA LA SUPERNOVA TIPO Ia\n",
    "lc_g_SNIa = Curva_SNIa[Curva_SNIa.fid == 1]\n",
    "lc_r_SNIa = Curva_SNIa[Curva_SNIa.fid == 2]\n",
    "fig = plt.figure(figsize=(12, 8))\n",
    "fig.set_facecolor('white')\n",
    "\n",
    "plt.errorbar(lc_g_SNIa['mjd'], lc_g_SNIa['magpsf_corr'], yerr=lc_g_SNIa['sigmapsf_corr'], fmt='*g', label='g')\n",
    "plt.errorbar(lc_r_SNIa['mjd'], lc_r_SNIa['magpsf_corr'], yerr=lc_r_SNIa['sigmapsf_corr'], fmt='*r', label='r')\n",
    "plt.xlabel('Time [mjd]')\n",
    "plt.ylabel('Magnitude')\n",
    "plt.title('Supernova de tipo Ia')\n",
    "plt.legend()\n",
    "plt.gca().invert_yaxis()"
   ]
  },
  {
   "cell_type": "code",
   "execution_count": 16,
   "id": "d0CW3wcVKNVl",
   "metadata": {
    "colab": {
     "base_uri": "https://localhost:8080/",
     "height": 513
    },
    "id": "d0CW3wcVKNVl",
    "outputId": "37c3e049-3533-495e-e106-09c24704477a"
   },
   "outputs": [
    {
     "data": {
      "image/png": "[encoded data removed]",
      "text/plain": [
       "<Figure size 864x576 with 1 Axes>"
      ]
     },
     "metadata": {},
     "output_type": "display_data"
    }
   ],
   "source": [
    "# GRAFICAMOS LA CURVA PARA LA SUPERNOVA DE TIPO II\n",
    "lc_g_SNII = Curva_SNII[Curva_SNII.fid == 1]\n",
    "lc_r_SNII = Curva_SNII[Curva_SNII.fid == 2]\n",
    "fig = plt.figure(figsize=(12, 8))\n",
    "fig.set_facecolor('white')\n",
    "\n",
    "plt.errorbar(lc_g_SNII['mjd'], lc_g_SNII['magpsf_corr'], yerr=lc_g_SNII['sigmapsf_corr'], fmt='*g', label='g')\n",
    "plt.errorbar(lc_r_SNII['mjd'], lc_r_SNII['magpsf_corr'], yerr=lc_r_SNII['sigmapsf_corr'], fmt='*r', label='r')\n",
    "plt.xlabel('Time [mjd]')\n",
    "plt.ylabel('Magnitude')\n",
    "plt.title('Supernova de tipo II')\n",
    "plt.legend()\n",
    "plt.gca().invert_yaxis()"
   ]
  },
  {
   "cell_type": "code",
   "execution_count": 17,
   "id": "UgDlWQEYKpO9",
   "metadata": {
    "colab": {
     "base_uri": "https://localhost:8080/",
     "height": 513
    },
    "id": "UgDlWQEYKpO9",
    "outputId": "e9c1a6db-f47d-4b8b-b527-d5aef06b6bdb"
   },
   "outputs": [
    {
     "data": {
      "image/png": "[encoded data removed]",
      "text/plain": [
       "<Figure size 864x576 with 1 Axes>"
      ]
     },
     "metadata": {},
     "output_type": "display_data"
    }
   ],
   "source": [
    "# GRAFICAMOS LA CURVA PARA LA SUPERNOVA DE TIPO SL\n",
    "lc_g_SLSN = Curva_SLSN[Curva_SLSN.fid == 1]\n",
    "lc_r_SLSN = Curva_SLSN[Curva_SLSN.fid == 2]\n",
    "fig = plt.figure(figsize=(12, 8))\n",
    "fig.set_facecolor('white')\n",
    "\n",
    "plt.errorbar(lc_g_SLSN['mjd'], lc_g_SLSN['magpsf_corr'], yerr=lc_g_SLSN['sigmapsf_corr'], fmt='*g', label='g')\n",
    "plt.errorbar(lc_r_SLSN['mjd'], lc_r_SLSN['magpsf_corr'], yerr=lc_r_SLSN['sigmapsf_corr'], fmt='*r', label='r')\n",
    "plt.xlabel('Time [mjd]')\n",
    "plt.ylabel('Magnitude')\n",
    "plt.title('Supernova de tipo SL')\n",
    "plt.legend()\n",
    "plt.gca().invert_yaxis()"
   ]
  },
  {
   "cell_type": "code",
   "execution_count": 18,
   "id": "cjmcQ71cLRtZ",
   "metadata": {
    "colab": {
     "base_uri": "https://localhost:8080/",
     "height": 513
    },
    "id": "cjmcQ71cLRtZ",
    "outputId": "f496d93b-8abd-4264-8826-1b8a122f0110"
   },
   "outputs": [
    {
     "data": {
      "image/png": "[encoded data removed]",
      "text/plain": [
       "<Figure size 864x576 with 1 Axes>"
      ]
     },
     "metadata": {},
     "output_type": "display_data"
    }
   ],
   "source": [
    "# GRAFICAMOS LA CURVA PARA LA SUPERNOVA DE TIPO IIb\n",
    "lc_g_SNIIb = Curva_SNIIb[Curva_SNIIb.fid == 1]\n",
    "lc_r_SNIIb = Curva_SNIIb[Curva_SNIIb.fid == 2]\n",
    "fig = plt.figure(figsize=(12, 8))\n",
    "fig.set_facecolor('white')\n",
    "\n",
    "plt.errorbar(lc_g_SNIIb['mjd'], lc_g_SNIIb['magpsf_corr'], yerr=lc_g_SNIIb['sigmapsf_corr'], fmt='*g', label='g')\n",
    "plt.errorbar(lc_r_SNIIb['mjd'], lc_r_SNIIb['magpsf_corr'], yerr=lc_r_SNIIb['sigmapsf_corr'], fmt='*r', label='r')\n",
    "plt.xlabel('Time [mjd]')\n",
    "plt.ylabel('Magnitude')\n",
    "plt.title('Supernova de tipo IIb')\n",
    "plt.legend()\n",
    "plt.gca().invert_yaxis()"
   ]
  },
  {
   "cell_type": "code",
   "execution_count": 19,
   "id": "RTAxStnGLgnv",
   "metadata": {
    "colab": {
     "base_uri": "https://localhost:8080/",
     "height": 513
    },
    "id": "RTAxStnGLgnv",
    "outputId": "b2838d55-11d3-402c-8176-900cee3576c1"
   },
   "outputs": [
    {
     "data": {
      "image/png": "[encoded data removed]",
      "text/plain": [
       "<Figure size 864x576 with 1 Axes>"
      ]
     },
     "metadata": {},
     "output_type": "display_data"
    }
   ],
   "source": [
    "# GRAFICAMOS LA CURVA PARA LA SUPERNOVA DE TIPO IIn\n",
    "lc_g_SNIIn = Curva_SNIIn[Curva_SNIIn.fid == 1]\n",
    "lc_r_SNIIn = Curva_SNIIn[Curva_SNIIn.fid == 2]\n",
    "fig = plt.figure(figsize=(12, 8))\n",
    "fig.set_facecolor('white')\n",
    "\n",
    "plt.errorbar(lc_g_SNIIn['mjd'], lc_g_SNIIn['magpsf_corr'], yerr=lc_g_SNIIn['sigmapsf_corr'], fmt='*g', label='g')\n",
    "plt.errorbar(lc_r_SNIIn['mjd'], lc_r_SNIIn['magpsf_corr'], yerr=lc_r_SNIIn['sigmapsf_corr'], fmt='*r', label='r')\n",
    "plt.xlabel('Time [mjd]')\n",
    "plt.ylabel('Magnitude')\n",
    "plt.title('Supernova de tipo IIn')\n",
    "plt.legend()\n",
    "plt.gca().invert_yaxis()"
   ]
  },
  {
   "cell_type": "code",
   "execution_count": 20,
   "id": "FedDxe7lLpGx",
   "metadata": {
    "colab": {
     "base_uri": "https://localhost:8080/",
     "height": 513
    },
    "id": "FedDxe7lLpGx",
    "outputId": "d35dfed8-6714-4f94-d600-d833ca173d96"
   },
   "outputs": [
    {
     "data": {
      "image/png": "[encoded data removed]",
      "text/plain": [
       "<Figure size 864x576 with 1 Axes>"
      ]
     },
     "metadata": {},
     "output_type": "display_data"
    }
   ],
   "source": [
    "# GRAFICAMOS LA CURVA PARA LA SUPERNOVA DE TIPO Ibc\n",
    "lc_g_SNIbc = Curva_SNIbc[Curva_SNIbc.fid == 1]\n",
    "lc_r_SNIbc = Curva_SNIbc[Curva_SNIbc.fid == 2]\n",
    "fig = plt.figure(figsize=(12, 8))\n",
    "fig.set_facecolor('white')\n",
    "\n",
    "plt.errorbar(lc_g_SNIbc['mjd'], lc_g_SNIbc['magpsf_corr'], yerr=lc_g_SNIbc['sigmapsf_corr'], fmt='*g', label='g')\n",
    "plt.errorbar(lc_r_SNIbc['mjd'], lc_r_SNIbc['magpsf_corr'], yerr=lc_r_SNIbc['sigmapsf_corr'], fmt='*r', label='r')\n",
    "plt.xlabel('Time [mjd]')\n",
    "plt.ylabel('Magnitude')\n",
    "plt.title('Supernova de tipo Ibc')\n",
    "plt.legend()\n",
    "plt.gca().invert_yaxis()"
   ]
  },
  {
   "cell_type": "markdown",
   "id": "IhBiUqkx3Jnu",
   "metadata": {
    "id": "IhBiUqkx3Jnu"
   },
   "source": [
    "# Extracción de características preliminar"
   ]
  },
  {
   "cell_type": "code",
   "execution_count": 15,
   "id": "oM4S0OrZRoyz",
   "metadata": {
    "id": "oM4S0OrZRoyz"
   },
   "outputs": [
    {
     "data": {
      "text/html": [
       "<div>\n",
       "<style scoped>\n",
       "    .dataframe tbody tr th:only-of-type {\n",
       "        vertical-align: middle;\n",
       "    }\n",
       "\n",
       "    .dataframe tbody tr th {\n",
       "        vertical-align: top;\n",
       "    }\n",
       "\n",
       "    .dataframe thead th {\n",
       "        text-align: right;\n",
       "    }\n",
       "</style>\n",
       "<table border=\"1\" class=\"dataframe\">\n",
       "  <thead>\n",
       "    <tr style=\"text-align: right;\">\n",
       "      <th></th>\n",
       "      <th>delta_mag_fid_1</th>\n",
       "      <th>delta_mjd_fid_1</th>\n",
       "      <th>first_mag_1</th>\n",
       "      <th>mean_mag_1</th>\n",
       "      <th>min_mag_1</th>\n",
       "      <th>n_det_1</th>\n",
       "      <th>n_neg_1</th>\n",
       "      <th>n_pos_1</th>\n",
       "      <th>positive_fraction_1</th>\n",
       "      <th>delta_mag_fid_2</th>\n",
       "      <th>delta_mjd_fid_2</th>\n",
       "      <th>first_mag_2</th>\n",
       "      <th>mean_mag_2</th>\n",
       "      <th>min_mag_2</th>\n",
       "      <th>n_det_2</th>\n",
       "      <th>n_neg_2</th>\n",
       "      <th>n_pos_2</th>\n",
       "      <th>positive_fraction_2</th>\n",
       "    </tr>\n",
       "    <tr>\n",
       "      <th>oid</th>\n",
       "      <th></th>\n",
       "      <th></th>\n",
       "      <th></th>\n",
       "      <th></th>\n",
       "      <th></th>\n",
       "      <th></th>\n",
       "      <th></th>\n",
       "      <th></th>\n",
       "      <th></th>\n",
       "      <th></th>\n",
       "      <th></th>\n",
       "      <th></th>\n",
       "      <th></th>\n",
       "      <th></th>\n",
       "      <th></th>\n",
       "      <th></th>\n",
       "      <th></th>\n",
       "      <th></th>\n",
       "    </tr>\n",
       "  </thead>\n",
       "  <tbody>\n",
       "    <tr>\n",
       "      <th>2</th>\n",
       "      <td>0.0</td>\n",
       "      <td>0.0</td>\n",
       "      <td>16.072975</td>\n",
       "      <td>16.072975</td>\n",
       "      <td>16.072975</td>\n",
       "      <td>1.0</td>\n",
       "      <td>0.0</td>\n",
       "      <td>1.0</td>\n",
       "      <td>1.0</td>\n",
       "      <td>NaN</td>\n",
       "      <td>NaN</td>\n",
       "      <td>NaN</td>\n",
       "      <td>NaN</td>\n",
       "      <td>NaN</td>\n",
       "      <td>NaN</td>\n",
       "      <td>NaN</td>\n",
       "      <td>NaN</td>\n",
       "      <td>NaN</td>\n",
       "    </tr>\n",
       "    <tr>\n",
       "      <th>3</th>\n",
       "      <td>0.0</td>\n",
       "      <td>0.0</td>\n",
       "      <td>17.708502</td>\n",
       "      <td>17.708502</td>\n",
       "      <td>17.708502</td>\n",
       "      <td>1.0</td>\n",
       "      <td>0.0</td>\n",
       "      <td>1.0</td>\n",
       "      <td>1.0</td>\n",
       "      <td>NaN</td>\n",
       "      <td>NaN</td>\n",
       "      <td>NaN</td>\n",
       "      <td>NaN</td>\n",
       "      <td>NaN</td>\n",
       "      <td>NaN</td>\n",
       "      <td>NaN</td>\n",
       "      <td>NaN</td>\n",
       "      <td>NaN</td>\n",
       "    </tr>\n",
       "    <tr>\n",
       "      <th>6</th>\n",
       "      <td>0.0</td>\n",
       "      <td>0.0</td>\n",
       "      <td>16.626165</td>\n",
       "      <td>16.626165</td>\n",
       "      <td>16.626165</td>\n",
       "      <td>1.0</td>\n",
       "      <td>0.0</td>\n",
       "      <td>1.0</td>\n",
       "      <td>1.0</td>\n",
       "      <td>NaN</td>\n",
       "      <td>NaN</td>\n",
       "      <td>NaN</td>\n",
       "      <td>NaN</td>\n",
       "      <td>NaN</td>\n",
       "      <td>NaN</td>\n",
       "      <td>NaN</td>\n",
       "      <td>NaN</td>\n",
       "      <td>NaN</td>\n",
       "    </tr>\n",
       "    <tr>\n",
       "      <th>8</th>\n",
       "      <td>0.0</td>\n",
       "      <td>0.0</td>\n",
       "      <td>18.192377</td>\n",
       "      <td>18.192377</td>\n",
       "      <td>18.192377</td>\n",
       "      <td>1.0</td>\n",
       "      <td>0.0</td>\n",
       "      <td>1.0</td>\n",
       "      <td>1.0</td>\n",
       "      <td>NaN</td>\n",
       "      <td>NaN</td>\n",
       "      <td>NaN</td>\n",
       "      <td>NaN</td>\n",
       "      <td>NaN</td>\n",
       "      <td>NaN</td>\n",
       "      <td>NaN</td>\n",
       "      <td>NaN</td>\n",
       "      <td>NaN</td>\n",
       "    </tr>\n",
       "    <tr>\n",
       "      <th>9</th>\n",
       "      <td>0.0</td>\n",
       "      <td>0.0</td>\n",
       "      <td>18.481302</td>\n",
       "      <td>18.481302</td>\n",
       "      <td>18.481302</td>\n",
       "      <td>1.0</td>\n",
       "      <td>0.0</td>\n",
       "      <td>1.0</td>\n",
       "      <td>1.0</td>\n",
       "      <td>NaN</td>\n",
       "      <td>NaN</td>\n",
       "      <td>NaN</td>\n",
       "      <td>NaN</td>\n",
       "      <td>NaN</td>\n",
       "      <td>NaN</td>\n",
       "      <td>NaN</td>\n",
       "      <td>NaN</td>\n",
       "      <td>NaN</td>\n",
       "    </tr>\n",
       "    <tr>\n",
       "      <th>...</th>\n",
       "      <td>...</td>\n",
       "      <td>...</td>\n",
       "      <td>...</td>\n",
       "      <td>...</td>\n",
       "      <td>...</td>\n",
       "      <td>...</td>\n",
       "      <td>...</td>\n",
       "      <td>...</td>\n",
       "      <td>...</td>\n",
       "      <td>...</td>\n",
       "      <td>...</td>\n",
       "      <td>...</td>\n",
       "      <td>...</td>\n",
       "      <td>...</td>\n",
       "      <td>...</td>\n",
       "      <td>...</td>\n",
       "      <td>...</td>\n",
       "      <td>...</td>\n",
       "    </tr>\n",
       "    <tr>\n",
       "      <th>128713</th>\n",
       "      <td>NaN</td>\n",
       "      <td>NaN</td>\n",
       "      <td>NaN</td>\n",
       "      <td>NaN</td>\n",
       "      <td>NaN</td>\n",
       "      <td>NaN</td>\n",
       "      <td>NaN</td>\n",
       "      <td>NaN</td>\n",
       "      <td>NaN</td>\n",
       "      <td>0.0</td>\n",
       "      <td>0.0</td>\n",
       "      <td>19.317352</td>\n",
       "      <td>19.317352</td>\n",
       "      <td>19.317352</td>\n",
       "      <td>1.0</td>\n",
       "      <td>0.0</td>\n",
       "      <td>1.0</td>\n",
       "      <td>1.0</td>\n",
       "    </tr>\n",
       "    <tr>\n",
       "      <th>128714</th>\n",
       "      <td>NaN</td>\n",
       "      <td>NaN</td>\n",
       "      <td>NaN</td>\n",
       "      <td>NaN</td>\n",
       "      <td>NaN</td>\n",
       "      <td>NaN</td>\n",
       "      <td>NaN</td>\n",
       "      <td>NaN</td>\n",
       "      <td>NaN</td>\n",
       "      <td>0.0</td>\n",
       "      <td>0.0</td>\n",
       "      <td>18.340456</td>\n",
       "      <td>18.340456</td>\n",
       "      <td>18.340456</td>\n",
       "      <td>1.0</td>\n",
       "      <td>0.0</td>\n",
       "      <td>1.0</td>\n",
       "      <td>1.0</td>\n",
       "    </tr>\n",
       "    <tr>\n",
       "      <th>128715</th>\n",
       "      <td>NaN</td>\n",
       "      <td>NaN</td>\n",
       "      <td>NaN</td>\n",
       "      <td>NaN</td>\n",
       "      <td>NaN</td>\n",
       "      <td>NaN</td>\n",
       "      <td>NaN</td>\n",
       "      <td>NaN</td>\n",
       "      <td>NaN</td>\n",
       "      <td>0.0</td>\n",
       "      <td>0.0</td>\n",
       "      <td>18.389997</td>\n",
       "      <td>18.389997</td>\n",
       "      <td>18.389997</td>\n",
       "      <td>1.0</td>\n",
       "      <td>0.0</td>\n",
       "      <td>1.0</td>\n",
       "      <td>1.0</td>\n",
       "    </tr>\n",
       "    <tr>\n",
       "      <th>128716</th>\n",
       "      <td>NaN</td>\n",
       "      <td>NaN</td>\n",
       "      <td>NaN</td>\n",
       "      <td>NaN</td>\n",
       "      <td>NaN</td>\n",
       "      <td>NaN</td>\n",
       "      <td>NaN</td>\n",
       "      <td>NaN</td>\n",
       "      <td>NaN</td>\n",
       "      <td>0.0</td>\n",
       "      <td>0.0</td>\n",
       "      <td>18.560564</td>\n",
       "      <td>18.560564</td>\n",
       "      <td>18.560564</td>\n",
       "      <td>1.0</td>\n",
       "      <td>0.0</td>\n",
       "      <td>1.0</td>\n",
       "      <td>1.0</td>\n",
       "    </tr>\n",
       "    <tr>\n",
       "      <th>128717</th>\n",
       "      <td>NaN</td>\n",
       "      <td>NaN</td>\n",
       "      <td>NaN</td>\n",
       "      <td>NaN</td>\n",
       "      <td>NaN</td>\n",
       "      <td>NaN</td>\n",
       "      <td>NaN</td>\n",
       "      <td>NaN</td>\n",
       "      <td>NaN</td>\n",
       "      <td>0.0</td>\n",
       "      <td>0.0</td>\n",
       "      <td>18.914570</td>\n",
       "      <td>18.914570</td>\n",
       "      <td>18.914570</td>\n",
       "      <td>1.0</td>\n",
       "      <td>0.0</td>\n",
       "      <td>1.0</td>\n",
       "      <td>1.0</td>\n",
       "    </tr>\n",
       "  </tbody>\n",
       "</table>\n",
       "<p>127647 rows × 18 columns</p>\n",
       "</div>"
      ],
      "text/plain": [
       "        delta_mag_fid_1  delta_mjd_fid_1  first_mag_1  mean_mag_1  min_mag_1  \\\n",
       "oid                                                                            \n",
       "2                   0.0              0.0    16.072975   16.072975  16.072975   \n",
       "3                   0.0              0.0    17.708502   17.708502  17.708502   \n",
       "6                   0.0              0.0    16.626165   16.626165  16.626165   \n",
       "8                   0.0              0.0    18.192377   18.192377  18.192377   \n",
       "9                   0.0              0.0    18.481302   18.481302  18.481302   \n",
       "...                 ...              ...          ...         ...        ...   \n",
       "128713              NaN              NaN          NaN         NaN        NaN   \n",
       "128714              NaN              NaN          NaN         NaN        NaN   \n",
       "128715              NaN              NaN          NaN         NaN        NaN   \n",
       "128716              NaN              NaN          NaN         NaN        NaN   \n",
       "128717              NaN              NaN          NaN         NaN        NaN   \n",
       "\n",
       "        n_det_1  n_neg_1  n_pos_1  positive_fraction_1  delta_mag_fid_2  \\\n",
       "oid                                                                       \n",
       "2           1.0      0.0      1.0                  1.0              NaN   \n",
       "3           1.0      0.0      1.0                  1.0              NaN   \n",
       "6           1.0      0.0      1.0                  1.0              NaN   \n",
       "8           1.0      0.0      1.0                  1.0              NaN   \n",
       "9           1.0      0.0      1.0                  1.0              NaN   \n",
       "...         ...      ...      ...                  ...              ...   \n",
       "128713      NaN      NaN      NaN                  NaN              0.0   \n",
       "128714      NaN      NaN      NaN                  NaN              0.0   \n",
       "128715      NaN      NaN      NaN                  NaN              0.0   \n",
       "128716      NaN      NaN      NaN                  NaN              0.0   \n",
       "128717      NaN      NaN      NaN                  NaN              0.0   \n",
       "\n",
       "        delta_mjd_fid_2  first_mag_2  mean_mag_2  min_mag_2  n_det_2  n_neg_2  \\\n",
       "oid                                                                             \n",
       "2                   NaN          NaN         NaN        NaN      NaN      NaN   \n",
       "3                   NaN          NaN         NaN        NaN      NaN      NaN   \n",
       "6                   NaN          NaN         NaN        NaN      NaN      NaN   \n",
       "8                   NaN          NaN         NaN        NaN      NaN      NaN   \n",
       "9                   NaN          NaN         NaN        NaN      NaN      NaN   \n",
       "...                 ...          ...         ...        ...      ...      ...   \n",
       "128713              0.0    19.317352   19.317352  19.317352      1.0      0.0   \n",
       "128714              0.0    18.340456   18.340456  18.340456      1.0      0.0   \n",
       "128715              0.0    18.389997   18.389997  18.389997      1.0      0.0   \n",
       "128716              0.0    18.560564   18.560564  18.560564      1.0      0.0   \n",
       "128717              0.0    18.914570   18.914570  18.914570      1.0      0.0   \n",
       "\n",
       "        n_pos_2  positive_fraction_2  \n",
       "oid                                   \n",
       "2           NaN                  NaN  \n",
       "3           NaN                  NaN  \n",
       "6           NaN                  NaN  \n",
       "8           NaN                  NaN  \n",
       "9           NaN                  NaN  \n",
       "...         ...                  ...  \n",
       "128713      1.0                  1.0  \n",
       "128714      1.0                  1.0  \n",
       "128715      1.0                  1.0  \n",
       "128716      1.0                  1.0  \n",
       "128717      1.0                  1.0  \n",
       "\n",
       "[127647 rows x 18 columns]"
      ]
     },
     "execution_count": 15,
     "metadata": {},
     "output_type": "execute_result"
    }
   ],
   "source": [
    "#----------------------------SupernovaeDetectionFeatureExtractor-------------------------------------------------------\n",
    "# detections_df has missing columns: SupernovaeDetectionFeatureExtractor requires ('isdiffpos', 'magnitude', 'time', 'band')\n",
    "#Le cambiamos los nombres a las columnas correspondientes pues este extractor necesita de estas columnas para funcionar\n",
    "detections_df= Datos_Final.rename(columns={'magpsf':'magnitude','mjd':'time', 'fid':'band'})\n",
    "feature_extractor = SupernovaeDetectionFeatureExtractor(bands=(1, 2))\n",
    "features = feature_extractor.compute_features(detections = detections_df)\n",
    "features"
   ]
  },
  {
   "cell_type": "code",
   "execution_count": null,
   "id": "2517592e",
   "metadata": {},
   "outputs": [],
   "source": [
    "\n"
   ]
  },
  {
   "cell_type": "code",
   "execution_count": null,
   "id": "5f355fa1",
   "metadata": {},
   "outputs": [],
   "source": [
    "#----------------------------IQREXTRACTOR------------------------------------------------------------------------------\n",
    "\n",
    "detections_df3 = Datos_Final.rename(columns={'magpsf':'magnitude','mjd':'time', 'fid':'band'})\n",
    "feature_extractor3 = IQRExtractor(bands=(1, 2))\n",
    "features3 = feature_extractor3.compute_features(detections = detections_df3)"
   ]
  },
  {
   "cell_type": "code",
   "execution_count": null,
   "id": "009f700b",
   "metadata": {},
   "outputs": [],
   "source": [
    "df = features.join(features3)"
   ]
  },
  {
   "cell_type": "code",
   "execution_count": 22,
   "id": "EcbdFFPIFk5q",
   "metadata": {
    "colab": {
     "base_uri": "https://localhost:8080/",
     "height": 471
    },
    "id": "EcbdFFPIFk5q",
    "outputId": "a725f6e3-8aa7-4388-f0e1-2a9d9af5be4e"
   },
   "outputs": [
    {
     "data": {
      "text/html": [
       "<div>\n",
       "<style scoped>\n",
       "    .dataframe tbody tr th:only-of-type {\n",
       "        vertical-align: middle;\n",
       "    }\n",
       "\n",
       "    .dataframe tbody tr th {\n",
       "        vertical-align: top;\n",
       "    }\n",
       "\n",
       "    .dataframe thead th {\n",
       "        text-align: right;\n",
       "    }\n",
       "</style>\n",
       "<table border=\"1\" class=\"dataframe\">\n",
       "  <thead>\n",
       "    <tr style=\"text-align: right;\">\n",
       "      <th></th>\n",
       "      <th>delta_mag_fid_1</th>\n",
       "      <th>delta_mjd_fid_1</th>\n",
       "      <th>first_mag_1</th>\n",
       "      <th>mean_mag_1</th>\n",
       "      <th>min_mag_1</th>\n",
       "      <th>n_det_1</th>\n",
       "      <th>n_neg_1</th>\n",
       "      <th>n_pos_1</th>\n",
       "      <th>positive_fraction_1</th>\n",
       "      <th>delta_mag_fid_2</th>\n",
       "      <th>delta_mjd_fid_2</th>\n",
       "      <th>first_mag_2</th>\n",
       "      <th>mean_mag_2</th>\n",
       "      <th>min_mag_2</th>\n",
       "      <th>n_det_2</th>\n",
       "      <th>n_neg_2</th>\n",
       "      <th>n_pos_2</th>\n",
       "      <th>positive_fraction_2</th>\n",
       "      <th>iqr_1</th>\n",
       "      <th>iqr_2</th>\n",
       "    </tr>\n",
       "    <tr>\n",
       "      <th>oid</th>\n",
       "      <th></th>\n",
       "      <th></th>\n",
       "      <th></th>\n",
       "      <th></th>\n",
       "      <th></th>\n",
       "      <th></th>\n",
       "      <th></th>\n",
       "      <th></th>\n",
       "      <th></th>\n",
       "      <th></th>\n",
       "      <th></th>\n",
       "      <th></th>\n",
       "      <th></th>\n",
       "      <th></th>\n",
       "      <th></th>\n",
       "      <th></th>\n",
       "      <th></th>\n",
       "      <th></th>\n",
       "      <th></th>\n",
       "      <th></th>\n",
       "    </tr>\n",
       "  </thead>\n",
       "  <tbody>\n",
       "    <tr>\n",
       "      <th>2</th>\n",
       "      <td>0.0</td>\n",
       "      <td>0.0</td>\n",
       "      <td>16.072975</td>\n",
       "      <td>16.072975</td>\n",
       "      <td>16.072975</td>\n",
       "      <td>1.0</td>\n",
       "      <td>0.0</td>\n",
       "      <td>1.0</td>\n",
       "      <td>1.0</td>\n",
       "      <td>NaN</td>\n",
       "      <td>NaN</td>\n",
       "      <td>NaN</td>\n",
       "      <td>NaN</td>\n",
       "      <td>NaN</td>\n",
       "      <td>NaN</td>\n",
       "      <td>NaN</td>\n",
       "      <td>NaN</td>\n",
       "      <td>NaN</td>\n",
       "      <td>0.0</td>\n",
       "      <td>NaN</td>\n",
       "    </tr>\n",
       "    <tr>\n",
       "      <th>3</th>\n",
       "      <td>0.0</td>\n",
       "      <td>0.0</td>\n",
       "      <td>17.708502</td>\n",
       "      <td>17.708502</td>\n",
       "      <td>17.708502</td>\n",
       "      <td>1.0</td>\n",
       "      <td>0.0</td>\n",
       "      <td>1.0</td>\n",
       "      <td>1.0</td>\n",
       "      <td>NaN</td>\n",
       "      <td>NaN</td>\n",
       "      <td>NaN</td>\n",
       "      <td>NaN</td>\n",
       "      <td>NaN</td>\n",
       "      <td>NaN</td>\n",
       "      <td>NaN</td>\n",
       "      <td>NaN</td>\n",
       "      <td>NaN</td>\n",
       "      <td>0.0</td>\n",
       "      <td>NaN</td>\n",
       "    </tr>\n",
       "    <tr>\n",
       "      <th>6</th>\n",
       "      <td>0.0</td>\n",
       "      <td>0.0</td>\n",
       "      <td>16.626165</td>\n",
       "      <td>16.626165</td>\n",
       "      <td>16.626165</td>\n",
       "      <td>1.0</td>\n",
       "      <td>0.0</td>\n",
       "      <td>1.0</td>\n",
       "      <td>1.0</td>\n",
       "      <td>NaN</td>\n",
       "      <td>NaN</td>\n",
       "      <td>NaN</td>\n",
       "      <td>NaN</td>\n",
       "      <td>NaN</td>\n",
       "      <td>NaN</td>\n",
       "      <td>NaN</td>\n",
       "      <td>NaN</td>\n",
       "      <td>NaN</td>\n",
       "      <td>0.0</td>\n",
       "      <td>NaN</td>\n",
       "    </tr>\n",
       "    <tr>\n",
       "      <th>8</th>\n",
       "      <td>0.0</td>\n",
       "      <td>0.0</td>\n",
       "      <td>18.192377</td>\n",
       "      <td>18.192377</td>\n",
       "      <td>18.192377</td>\n",
       "      <td>1.0</td>\n",
       "      <td>0.0</td>\n",
       "      <td>1.0</td>\n",
       "      <td>1.0</td>\n",
       "      <td>NaN</td>\n",
       "      <td>NaN</td>\n",
       "      <td>NaN</td>\n",
       "      <td>NaN</td>\n",
       "      <td>NaN</td>\n",
       "      <td>NaN</td>\n",
       "      <td>NaN</td>\n",
       "      <td>NaN</td>\n",
       "      <td>NaN</td>\n",
       "      <td>0.0</td>\n",
       "      <td>NaN</td>\n",
       "    </tr>\n",
       "    <tr>\n",
       "      <th>9</th>\n",
       "      <td>0.0</td>\n",
       "      <td>0.0</td>\n",
       "      <td>18.481302</td>\n",
       "      <td>18.481302</td>\n",
       "      <td>18.481302</td>\n",
       "      <td>1.0</td>\n",
       "      <td>0.0</td>\n",
       "      <td>1.0</td>\n",
       "      <td>1.0</td>\n",
       "      <td>NaN</td>\n",
       "      <td>NaN</td>\n",
       "      <td>NaN</td>\n",
       "      <td>NaN</td>\n",
       "      <td>NaN</td>\n",
       "      <td>NaN</td>\n",
       "      <td>NaN</td>\n",
       "      <td>NaN</td>\n",
       "      <td>NaN</td>\n",
       "      <td>0.0</td>\n",
       "      <td>NaN</td>\n",
       "    </tr>\n",
       "    <tr>\n",
       "      <th>...</th>\n",
       "      <td>...</td>\n",
       "      <td>...</td>\n",
       "      <td>...</td>\n",
       "      <td>...</td>\n",
       "      <td>...</td>\n",
       "      <td>...</td>\n",
       "      <td>...</td>\n",
       "      <td>...</td>\n",
       "      <td>...</td>\n",
       "      <td>...</td>\n",
       "      <td>...</td>\n",
       "      <td>...</td>\n",
       "      <td>...</td>\n",
       "      <td>...</td>\n",
       "      <td>...</td>\n",
       "      <td>...</td>\n",
       "      <td>...</td>\n",
       "      <td>...</td>\n",
       "      <td>...</td>\n",
       "      <td>...</td>\n",
       "    </tr>\n",
       "    <tr>\n",
       "      <th>128713</th>\n",
       "      <td>NaN</td>\n",
       "      <td>NaN</td>\n",
       "      <td>NaN</td>\n",
       "      <td>NaN</td>\n",
       "      <td>NaN</td>\n",
       "      <td>NaN</td>\n",
       "      <td>NaN</td>\n",
       "      <td>NaN</td>\n",
       "      <td>NaN</td>\n",
       "      <td>0.0</td>\n",
       "      <td>0.0</td>\n",
       "      <td>19.317352</td>\n",
       "      <td>19.317352</td>\n",
       "      <td>19.317352</td>\n",
       "      <td>1.0</td>\n",
       "      <td>0.0</td>\n",
       "      <td>1.0</td>\n",
       "      <td>1.0</td>\n",
       "      <td>NaN</td>\n",
       "      <td>0.0</td>\n",
       "    </tr>\n",
       "    <tr>\n",
       "      <th>128714</th>\n",
       "      <td>NaN</td>\n",
       "      <td>NaN</td>\n",
       "      <td>NaN</td>\n",
       "      <td>NaN</td>\n",
       "      <td>NaN</td>\n",
       "      <td>NaN</td>\n",
       "      <td>NaN</td>\n",
       "      <td>NaN</td>\n",
       "      <td>NaN</td>\n",
       "      <td>0.0</td>\n",
       "      <td>0.0</td>\n",
       "      <td>18.340456</td>\n",
       "      <td>18.340456</td>\n",
       "      <td>18.340456</td>\n",
       "      <td>1.0</td>\n",
       "      <td>0.0</td>\n",
       "      <td>1.0</td>\n",
       "      <td>1.0</td>\n",
       "      <td>NaN</td>\n",
       "      <td>0.0</td>\n",
       "    </tr>\n",
       "    <tr>\n",
       "      <th>128715</th>\n",
       "      <td>NaN</td>\n",
       "      <td>NaN</td>\n",
       "      <td>NaN</td>\n",
       "      <td>NaN</td>\n",
       "      <td>NaN</td>\n",
       "      <td>NaN</td>\n",
       "      <td>NaN</td>\n",
       "      <td>NaN</td>\n",
       "      <td>NaN</td>\n",
       "      <td>0.0</td>\n",
       "      <td>0.0</td>\n",
       "      <td>18.389997</td>\n",
       "      <td>18.389997</td>\n",
       "      <td>18.389997</td>\n",
       "      <td>1.0</td>\n",
       "      <td>0.0</td>\n",
       "      <td>1.0</td>\n",
       "      <td>1.0</td>\n",
       "      <td>NaN</td>\n",
       "      <td>0.0</td>\n",
       "    </tr>\n",
       "    <tr>\n",
       "      <th>128716</th>\n",
       "      <td>NaN</td>\n",
       "      <td>NaN</td>\n",
       "      <td>NaN</td>\n",
       "      <td>NaN</td>\n",
       "      <td>NaN</td>\n",
       "      <td>NaN</td>\n",
       "      <td>NaN</td>\n",
       "      <td>NaN</td>\n",
       "      <td>NaN</td>\n",
       "      <td>0.0</td>\n",
       "      <td>0.0</td>\n",
       "      <td>18.560564</td>\n",
       "      <td>18.560564</td>\n",
       "      <td>18.560564</td>\n",
       "      <td>1.0</td>\n",
       "      <td>0.0</td>\n",
       "      <td>1.0</td>\n",
       "      <td>1.0</td>\n",
       "      <td>NaN</td>\n",
       "      <td>0.0</td>\n",
       "    </tr>\n",
       "    <tr>\n",
       "      <th>128717</th>\n",
       "      <td>NaN</td>\n",
       "      <td>NaN</td>\n",
       "      <td>NaN</td>\n",
       "      <td>NaN</td>\n",
       "      <td>NaN</td>\n",
       "      <td>NaN</td>\n",
       "      <td>NaN</td>\n",
       "      <td>NaN</td>\n",
       "      <td>NaN</td>\n",
       "      <td>0.0</td>\n",
       "      <td>0.0</td>\n",
       "      <td>18.914570</td>\n",
       "      <td>18.914570</td>\n",
       "      <td>18.914570</td>\n",
       "      <td>1.0</td>\n",
       "      <td>0.0</td>\n",
       "      <td>1.0</td>\n",
       "      <td>1.0</td>\n",
       "      <td>NaN</td>\n",
       "      <td>0.0</td>\n",
       "    </tr>\n",
       "  </tbody>\n",
       "</table>\n",
       "<p>127647 rows × 20 columns</p>\n",
       "</div>"
      ],
      "text/plain": [
       "        delta_mag_fid_1  delta_mjd_fid_1  first_mag_1  mean_mag_1  min_mag_1  \\\n",
       "oid                                                                            \n",
       "2                   0.0              0.0    16.072975   16.072975  16.072975   \n",
       "3                   0.0              0.0    17.708502   17.708502  17.708502   \n",
       "6                   0.0              0.0    16.626165   16.626165  16.626165   \n",
       "8                   0.0              0.0    18.192377   18.192377  18.192377   \n",
       "9                   0.0              0.0    18.481302   18.481302  18.481302   \n",
       "...                 ...              ...          ...         ...        ...   \n",
       "128713              NaN              NaN          NaN         NaN        NaN   \n",
       "128714              NaN              NaN          NaN         NaN        NaN   \n",
       "128715              NaN              NaN          NaN         NaN        NaN   \n",
       "128716              NaN              NaN          NaN         NaN        NaN   \n",
       "128717              NaN              NaN          NaN         NaN        NaN   \n",
       "\n",
       "        n_det_1  n_neg_1  n_pos_1  positive_fraction_1  delta_mag_fid_2  \\\n",
       "oid                                                                       \n",
       "2           1.0      0.0      1.0                  1.0              NaN   \n",
       "3           1.0      0.0      1.0                  1.0              NaN   \n",
       "6           1.0      0.0      1.0                  1.0              NaN   \n",
       "8           1.0      0.0      1.0                  1.0              NaN   \n",
       "9           1.0      0.0      1.0                  1.0              NaN   \n",
       "...         ...      ...      ...                  ...              ...   \n",
       "128713      NaN      NaN      NaN                  NaN              0.0   \n",
       "128714      NaN      NaN      NaN                  NaN              0.0   \n",
       "128715      NaN      NaN      NaN                  NaN              0.0   \n",
       "128716      NaN      NaN      NaN                  NaN              0.0   \n",
       "128717      NaN      NaN      NaN                  NaN              0.0   \n",
       "\n",
       "        delta_mjd_fid_2  first_mag_2  mean_mag_2  min_mag_2  n_det_2  n_neg_2  \\\n",
       "oid                                                                             \n",
       "2                   NaN          NaN         NaN        NaN      NaN      NaN   \n",
       "3                   NaN          NaN         NaN        NaN      NaN      NaN   \n",
       "6                   NaN          NaN         NaN        NaN      NaN      NaN   \n",
       "8                   NaN          NaN         NaN        NaN      NaN      NaN   \n",
       "9                   NaN          NaN         NaN        NaN      NaN      NaN   \n",
       "...                 ...          ...         ...        ...      ...      ...   \n",
       "128713              0.0    19.317352   19.317352  19.317352      1.0      0.0   \n",
       "128714              0.0    18.340456   18.340456  18.340456      1.0      0.0   \n",
       "128715              0.0    18.389997   18.389997  18.389997      1.0      0.0   \n",
       "128716              0.0    18.560564   18.560564  18.560564      1.0      0.0   \n",
       "128717              0.0    18.914570   18.914570  18.914570      1.0      0.0   \n",
       "\n",
       "        n_pos_2  positive_fraction_2  iqr_1  iqr_2  \n",
       "oid                                                 \n",
       "2           NaN                  NaN    0.0    NaN  \n",
       "3           NaN                  NaN    0.0    NaN  \n",
       "6           NaN                  NaN    0.0    NaN  \n",
       "8           NaN                  NaN    0.0    NaN  \n",
       "9           NaN                  NaN    0.0    NaN  \n",
       "...         ...                  ...    ...    ...  \n",
       "128713      1.0                  1.0    NaN    0.0  \n",
       "128714      1.0                  1.0    NaN    0.0  \n",
       "128715      1.0                  1.0    NaN    0.0  \n",
       "128716      1.0                  1.0    NaN    0.0  \n",
       "128717      1.0                  1.0    NaN    0.0  \n",
       "\n",
       "[127647 rows x 20 columns]"
      ]
     },
     "execution_count": 22,
     "metadata": {},
     "output_type": "execute_result"
    }
   ],
   "source": [
    "df"
   ]
  },
  {
   "cell_type": "code",
   "execution_count": null,
   "id": "JhuBXpT-FOtU",
   "metadata": {
    "id": "JhuBXpT-FOtU"
   },
   "outputs": [],
   "source": [
    "df = df.reset_index()"
   ]
  },
  {
   "cell_type": "markdown",
   "id": "Ieqnu5x-L1K_",
   "metadata": {
    "id": "Ieqnu5x-L1K_"
   },
   "source": [
    "# Separación del conjunto en ENTRENAMIENTO y TEST: \n",
    "Dividiremos el conjunto en 70% para entrenamiento y 30% para test"
   ]
  },
  {
   "cell_type": "code",
   "execution_count": null,
   "id": "LHWw-RCWdFfg",
   "metadata": {
    "id": "LHWw-RCWdFfg"
   },
   "outputs": [],
   "source": [
    "from sklearn.utils import shuffle\n",
    "\n",
    "#Datos_Final.set_index(\"objectId\", inplace = True)\n",
    "\n",
    "#--------------------le agregamos la clase que le corresponde a cada registro---------------------------\n",
    "df_con_target = pd.merge(df, dfcrossmatches[['oid','classALeRCE']], left_on='oid', right_on='oid')\n",
    "\n",
    "#--------------------Mezclamos los datos de tal manera de poder tomar muestras representativas del conjunto-----------------\n",
    "df_shuffle = shuffle(df_con_target)\n",
    "\n",
    "#--------------------Eliminamos los NaN en caso de que aun queden -------------------------------------------------\n",
    "df_shuffle = df_shuffle.dropna()"
   ]
  },
  {
   "cell_type": "code",
   "execution_count": null,
   "id": "u4ZYwrmVFwZo",
   "metadata": {
    "colab": {
     "base_uri": "https://localhost:8080/",
     "height": 224
    },
    "id": "u4ZYwrmVFwZo",
    "outputId": "83437888-b998-41e5-82cd-2ff022cab3f2"
   },
   "outputs": [],
   "source": [
    "df_shuffle.head()"
   ]
  },
  {
   "cell_type": "code",
   "execution_count": null,
   "id": "c634cy-6srxX",
   "metadata": {
    "id": "c634cy-6srxX"
   },
   "outputs": [],
   "source": [
    "rows= df_shuffle.shape[0] \n",
    "\n",
    "# ENTRENAMIENTO DESDE 0 A int(rows*0.7)\n",
    "train = df_shuffle.iloc[0:int(rows*0.7)]\n",
    "\n",
    "# TEST DESDE int(rows*0.7) HASTA EL FINAL\n",
    "test = df_shuffle.iloc[int(rows*0.7):rows]"
   ]
  },
  {
   "cell_type": "code",
   "execution_count": null,
   "id": "nhOdgFzbtppg",
   "metadata": {
    "id": "nhOdgFzbtppg"
   },
   "outputs": [],
   "source": [
    "target_entrenamiento = np.array(train['classALeRCE'])\n"
   ]
  },
  {
   "cell_type": "code",
   "execution_count": null,
   "id": "75A8W9MftrZy",
   "metadata": {
    "colab": {
     "base_uri": "https://localhost:8080/"
    },
    "id": "75A8W9MftrZy",
    "outputId": "9b5bee1d-3a4a-43fb-b6aa-c27bfc9c6771"
   },
   "outputs": [],
   "source": [
    "train_sin_target = train.iloc[:,1:20]\n",
    "print(train_sin_target.head())\n",
    "data = train_sin_target.to_numpy()\n",
    "print(data.shape)"
   ]
  },
  {
   "cell_type": "markdown",
   "id": "7iZhS_IzKy4O",
   "metadata": {
    "id": "7iZhS_IzKy4O"
   },
   "source": [
    "# Matriz de covarianza: Veamos la matriz de correlación, para ver que tan relacionados estan los datos\n",
    "\n",
    "\n",
    "\n",
    "Nos permite visualizar de forma gráfica que tan correlacionados estan las caracteristicas extraidas por los extractores."
   ]
  },
  {
   "cell_type": "code",
   "execution_count": null,
   "id": "X8HfkAIp2B8D",
   "metadata": {
    "colab": {
     "base_uri": "https://localhost:8080/",
     "height": 788
    },
    "id": "X8HfkAIp2B8D",
    "outputId": "41f9e080-65f2-47f0-95a3-ea445a53ed97"
   },
   "outputs": [],
   "source": [
    "import seaborn as sns\n",
    "\n",
    "# taking all rows but only 6 columns\n",
    "df_small = df.iloc[:,1:20]\n",
    "\n",
    "correlation_mat = df_small.corr()\n",
    "\n",
    "plt.figure(figsize=(12,12))\n",
    "sns.heatmap(correlation_mat, annot = True)\n",
    "\n",
    "plt.show()"
   ]
  },
  {
   "cell_type": "markdown",
   "id": "Sieb4ZkZXnF3",
   "metadata": {
    "id": "Sieb4ZkZXnF3"
   },
   "source": [
    "# Analisis de componentes principales PCA: algoritmo que nos permite reducir la dimensionalidad de los datos."
   ]
  },
  {
   "cell_type": "code",
   "execution_count": null,
   "id": "xHQxkEC5Jy9y",
   "metadata": {
    "colab": {
     "base_uri": "https://localhost:8080/",
     "height": 315
    },
    "id": "xHQxkEC5Jy9y",
    "outputId": "bc3130e1-3c8e-46af-a92f-2a48554dd18c"
   },
   "outputs": [],
   "source": [
    "from sklearn.preprocessing import StandardScaler\n",
    "import matplotlib.pyplot as plt\n",
    "from sklearn.decomposition import PCA\n",
    "\n",
    "X = np.array(Datos_Final[['isdiffpos','magpsf','mjd','magpsf_corr','sigmapsf','sigmapsf_corr','fid','sigmapsf']])\n",
    "# 'objectId','classALeRCE'\n",
    "y = np.array(Datos_Final['classALeRCE'])\n",
    "# Standardizing the features\n",
    "x = StandardScaler().fit_transform(X)\n",
    "\n",
    "pca = PCA()\n",
    "arreglo = pca.fit_transform(x)\n",
    "df = pd.DataFrame(arreglo)\n",
    "\n",
    "fig = plt.figure()\n",
    "plt.title('PCA de los datos')\n",
    "fig.patch.set_facecolor('white')\n",
    "plt.scatter(df[0], df[1],s=100,alpha=0.5)\n",
    "plt.xlabel(\"First Principal Component\",fontsize=14)\n",
    "plt.ylabel(\"Second Principal Component\",fontsize=14)"
   ]
  },
  {
   "cell_type": "markdown",
   "id": "YAxF43M74taA",
   "metadata": {
    "id": "YAxF43M74taA"
   },
   "source": [
    "# Clasificación preliminar, utilizando arboles de decisión:"
   ]
  },
  {
   "cell_type": "code",
   "execution_count": null,
   "id": "HFoxpbdt7H36",
   "metadata": {
    "id": "HFoxpbdt7H36"
   },
   "outputs": [],
   "source": [
    "from sklearn.decomposition import PCA\n",
    "from sklearn.tree import DecisionTreeClassifier"
   ]
  },
  {
   "cell_type": "code",
   "execution_count": null,
   "id": "w0GJ3rbWzeP9",
   "metadata": {
    "colab": {
     "base_uri": "https://localhost:8080/",
     "height": 420
    },
    "id": "w0GJ3rbWzeP9",
    "outputId": "32608a48-2c57-4518-a426-46e6d60eaf48"
   },
   "outputs": [],
   "source": [
    "classifier = DecisionTreeClassifier()\n",
    "\n",
    "#-----------------------ENTRENAMIENTO-----------------------------------------\n",
    "classifier.fit(data,target_entrenamiento)\n",
    "\n",
    "\n",
    "#------------------SE PRUEBA EL CLASIFICADOR----------------------------------\n",
    "# predict new data:\n",
    "test_sin_target = test.iloc[:,1:20]\n",
    "#pues solo usaremos el target para comprobar la eficacia de la predicción\n",
    "newdata = test_sin_target.to_numpy()\n",
    "pred_labels = classifier.predict(newdata)\n",
    "\n",
    "\n",
    "pred_labels_df = pd.DataFrame(pred_labels,columns=['pred_labels']) \n",
    "pred_labels_df.index = list(test[\"oid\"])\n",
    "pred_labels_df = pred_labels_df.reset_index()\n",
    "pred_labels_df_n  = pred_labels_df.rename(columns={'index':'oid'})\n",
    "comparacion_resultados = pd.merge(pred_labels_df_n, dfcrossmatches[['oid','classALeRCE']], left_on='oid', right_on='oid')\n",
    "comparacion_resultados"
   ]
  },
  {
   "cell_type": "markdown",
   "id": "NZr80gNDF5Od",
   "metadata": {
    "id": "NZr80gNDF5Od"
   },
   "source": [
    "# RESULTADOS CLASIFICACIÓN PRELIMINAR"
   ]
  },
  {
   "cell_type": "code",
   "execution_count": null,
   "id": "g-evHjZ30L2f",
   "metadata": {
    "colab": {
     "base_uri": "https://localhost:8080/"
    },
    "id": "g-evHjZ30L2f",
    "outputId": "c4556a59-f51e-4daa-ab25-f07b56925494"
   },
   "outputs": [],
   "source": [
    "iguales = sum([comparacion_resultados['pred_labels']==comparacion_resultados['classALeRCE']])\n",
    "total = iguales.shape[0] \n",
    "print('N° de aciertos usando arboles de decisión como clasificador:')\n",
    "print( f'N° de aciertos: {iguales.sum()}, N° de errores: {total-iguales.sum()}')\n",
    "print(f'Porcentaje de clasificaciones correctas: {\"{:.2f}\".format((iguales.sum()/total)*100)}% \\nPorcentaje de clasificaciones incorrectas: {\"{:.2f}\".format(((total-iguales.sum())/total)*100)}%')"
   ]
  },
  {
   "cell_type": "markdown",
   "id": "sD_-jrS2ehXd",
   "metadata": {
    "id": "sD_-jrS2ehXd"
   },
   "source": [
    "# Clasificación preliminar, utilizando arboles de decisión y un previo PCA() a los datos:\n",
    "Ejemplo uso Pca antes de la clasificacion"
   ]
  },
  {
   "cell_type": "code",
   "execution_count": null,
   "id": "wngSJXBEegW5",
   "metadata": {
    "colab": {
     "base_uri": "https://localhost:8080/"
    },
    "id": "wngSJXBEegW5",
    "outputId": "0105f31e-1efe-4e1e-8759-9d046eb8337e"
   },
   "outputs": [],
   "source": [
    "# initiate PCA and classifier\n",
    "pca = PCA()\n",
    "classifier_para_pca = DecisionTreeClassifier()\n",
    "\n",
    "\n",
    "# transform / fit\n",
    "X_transformed = pca.fit_transform(data)\n",
    "classifier_para_pca.fit(X_transformed, target_entrenamiento)\n"
   ]
  },
  {
   "cell_type": "code",
   "execution_count": null,
   "id": "ofSlmj2TH-YR",
   "metadata": {
    "colab": {
     "base_uri": "https://localhost:8080/",
     "height": 315
    },
    "id": "ofSlmj2TH-YR",
    "outputId": "712dd8d6-a163-43e3-f372-6701fcdac46a"
   },
   "outputs": [],
   "source": [
    "#-----------------PCA DE LAS FEATURES/CARACTERISTICAS-----------------------------\n",
    "graficar_pca = pd.DataFrame(X_transformed)\n",
    "fig1 = plt.figure()\n",
    "plt.title('PCA')\n",
    "fig1.patch.set_facecolor('white')\n",
    "plt.scatter(graficar_pca[0], graficar_pca[1],s=100,alpha=0.5)\n",
    "plt.title(\"PCA de las features\")\n",
    "plt.xlabel(\"First Principal Component\",fontsize=14)\n",
    "plt.ylabel(\"Second Principal Component\",fontsize=14)\n",
    "\n"
   ]
  },
  {
   "cell_type": "code",
   "execution_count": null,
   "id": "PvjPM_l9wPy-",
   "metadata": {
    "id": "PvjPM_l9wPy-"
   },
   "outputs": [],
   "source": [
    "# transform new data using already fitted pca\n",
    "# (don't re-fit the pca)\n",
    "newdata_transformed = pca.transform(newdata)\n",
    "\n",
    "# predict labels using the trained classifier\n",
    "\n",
    "pred_labels_pca = classifier_para_pca.predict(newdata_transformed)"
   ]
  },
  {
   "cell_type": "code",
   "execution_count": null,
   "id": "y0Vvoc3fxDPA",
   "metadata": {
    "id": "y0Vvoc3fxDPA"
   },
   "outputs": [],
   "source": [
    "pred_labels_df_pca = pd.DataFrame(pred_labels_pca,columns=['pred_labels']) "
   ]
  },
  {
   "cell_type": "code",
   "execution_count": null,
   "id": "He4qXBFjx9qW",
   "metadata": {
    "colab": {
     "base_uri": "https://localhost:8080/",
     "height": 420
    },
    "id": "He4qXBFjx9qW",
    "outputId": "2e71b220-9b8f-4351-f1f2-5500bcb1b233"
   },
   "outputs": [],
   "source": [
    "pred_labels_df_pca.index = list(test[\"oid\"])\n",
    "pred_labels_df_pca = pred_labels_df_pca.reset_index()\n",
    "pred_labels_df_pca_n  = pred_labels_df_pca.rename(columns={'index':'oid'})\n",
    "comparacion_resultados_pca = pd.merge(pred_labels_df_pca_n, dfcrossmatches[['oid','classALeRCE']], left_on='oid', right_on='oid')\n",
    "comparacion_resultados_pca"
   ]
  },
  {
   "cell_type": "markdown",
   "id": "YmmLHpfOKqIO",
   "metadata": {
    "id": "YmmLHpfOKqIO"
   },
   "source": [
    "# Resultados clasificación preliminar usando previamente PCA()\n"
   ]
  },
  {
   "cell_type": "code",
   "execution_count": null,
   "id": "jaS-9HVc0RCH",
   "metadata": {
    "colab": {
     "base_uri": "https://localhost:8080/"
    },
    "id": "jaS-9HVc0RCH",
    "outputId": "795b0cb5-1af1-4476-cbd0-8af47b11f8d3"
   },
   "outputs": [],
   "source": [
    "iguales_pca = sum([comparacion_resultados_pca['pred_labels']==comparacion_resultados_pca['classALeRCE']])\n",
    "total_usando_pca = iguales_pca.shape[0] \n",
    "print('N° de aciertos usando arboles de decisión como clasificador:')\n",
    "print( f'N° de aciertos: {iguales_pca.sum()}, N° de errores: {total_usando_pca-iguales_pca.sum()}')\n",
    "print(f'Porcentaje de clasificaciones correctas: {\"{:.2f}\".format((iguales_pca.sum()/total)*100)}% \\nPorcentaje de clasificaciones incorrectas: {\"{:.2f}\".format(((total_usando_pca-iguales_pca.sum())/total)*100)}%')"
   ]
  }
 ],
 "metadata": {
  "colab": {
   "collapsed_sections": [],
   "name": "Extraccion_de_caracteristicas_1.ipynb",
   "provenance": []
  },
  "kernelspec": {
   "display_name": "Python 3",
   "language": "python",
   "name": "python3"
  },
  "language_info": {
   "codemirror_mode": {
    "name": "ipython",
    "version": 3
   },
   "file_extension": ".py",
   "mimetype": "text/x-python",
   "name": "python",
   "nbconvert_exporter": "python",
   "pygments_lexer": "ipython3",
   "version": "3.6.9"
  }
 },
 "nbformat": 4,
 "nbformat_minor": 5
}
