{
  "nbformat": 4,
  "nbformat_minor": 5,
  "metadata": {
    "kernelspec": {
      "display_name": "Python 3 (ipykernel)",
      "language": "python",
      "name": "python3"
    },
    "language_info": {
      "codemirror_mode": {
        "name": "ipython",
        "version": 3
      },
      "file_extension": ".py",
      "mimetype": "text/x-python",
      "name": "python",
      "nbconvert_exporter": "python",
      "pygments_lexer": "ipython3",
      "version": "3.7.11"
    },
    "colab": {
      "name": "Extraccion_de_caracteristicas_1.ipynb",
      "provenance": [],
      "collapsed_sections": []
    }
  },
  "cells": [
    {
      "cell_type": "markdown",
      "metadata": {
        "id": "047042f3"
      },
      "source": [
        "# Extracción de caracteristicas proyecto:\n",
        "# Clasificación de supernovas de ALeRCE - ZTF\n",
        "### Por Joaquin Zepeda y Benjamin Irarrazabal - Tutor: Pablo Montero"
      ],
      "id": "047042f3"
    },
    {
      "cell_type": "markdown",
      "metadata": {
        "id": "r_MLNTkLOH4o"
      },
      "source": [
        "#Bloque Inicial\n",
        "Ejecutar una vez y luego reiniciar el entorno de ejecución"
      ],
      "id": "r_MLNTkLOH4o"
    },
    {
      "cell_type": "code",
      "metadata": {
        "id": "596d3d0b"
      },
      "source": [
        "# pyarrow might be needed to read the data\n",
        "!python -m pip install Cython\n",
        "!python -m pip install -e git+https://git@github.com/alercebroker/turbo-fats#egg=turbofats\n",
        "!python -m pip install -e git+https://git@github.com/alercebroker/mhps#egg=mhps\n",
        "!python -m pip install -e git+https://git@github.com/alercebroker/P4J#egg=P4J\n",
        "!python -m pip install pyarrow\n",
        "!python -m pip install -e git+https://git@github.com/alercebroker/lc_classifier#egg=lc_classifier"
      ],
      "id": "596d3d0b",
      "execution_count": null,
      "outputs": []
    },
    {
      "cell_type": "markdown",
      "metadata": {
        "id": "K3_ZlPHgOwg7"
      },
      "source": [
        "#Bloques Principales\n",
        "Luego de realizar el paso previo, se pueden ejecutar uno a uno los siguientes bloques"
      ],
      "id": "K3_ZlPHgOwg7"
    },
    {
      "cell_type": "code",
      "metadata": {
        "colab": {
          "base_uri": "https://localhost:8080/"
        },
        "id": "eece9446",
        "outputId": "ec34b619-3cdd-4745-e3e7-ea9d66da978c"
      },
      "source": [
        "import numpy as np\n",
        "import pandas as pd\n",
        "from lc_classifier.features import ZTFLightcurvePreprocessor, ZTFFeatureExtractor"
      ],
      "id": "eece9446",
      "execution_count": null,
      "outputs": [
        {
          "output_type": "stream",
          "name": "stderr",
          "text": [
            "/usr/local/lib/python3.7/dist-packages/statsmodels/tools/_testing.py:19: FutureWarning: pandas.util.testing is deprecated. Use the functions in the public API at pandas.testing instead.\n",
            "  import pandas.util.testing as tm\n"
          ]
        }
      ]
    },
    {
      "cell_type": "markdown",
      "metadata": {
        "id": "7f4250de"
      },
      "source": [
        "# Importamos los extractores de caracteristicas"
      ],
      "id": "7f4250de"
    },
    {
      "cell_type": "code",
      "metadata": {
        "id": "7aa65543"
      },
      "source": [
        "from lc_classifier.features import SupernovaeDetectionFeatureExtractor, SNParametricModelExtractor, IQRExtractor,MHPSExtractor"
      ],
      "id": "7aa65543",
      "execution_count": null,
      "outputs": []
    },
    {
      "cell_type": "markdown",
      "metadata": {
        "id": "3c4b4f9e"
      },
      "source": [
        "# Leyendo los datos\n",
        "La idea es seleccionar los dos archivos CSV que contienen los datos: \n",
        "\n",
        "1- detections_SNe_v7.0.1.csv\n",
        "\n",
        "2- dfcrossmatches_prioritized_v7.0.1.csv"
      ],
      "id": "3c4b4f9e"
    },
    {
      "cell_type": "code",
      "metadata": {
        "colab": {
          "resources": {
            "http://localhost:8080/nbextensions/google.colab/files.js": {
              "data": "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",
              "ok": true,
              "headers": [
                [
                  "content-type",
                  "application/javascript"
                ]
              ],
              "status": 200,
              "status_text": ""
            }
          },
          "base_uri": "https://localhost:8080/",
          "height": 106
        },
        "id": "ba5f6a1c",
        "outputId": "40d500bb-2177-4973-f790-102414a04709"
      },
      "source": [
        "from google.colab import files\n",
        "uploaded = files.upload()"
      ],
      "id": "ba5f6a1c",
      "execution_count": null,
      "outputs": [
        {
          "output_type": "display_data",
          "data": {
            "text/html": [
              "\n",
              "     <input type=\"file\" id=\"files-39c7b0ac-828e-4fd7-916e-c57cf4b84b2b\" name=\"files[]\" multiple disabled\n",
              "        style=\"border:none\" />\n",
              "     <output id=\"result-39c7b0ac-828e-4fd7-916e-c57cf4b84b2b\">\n",
              "      Upload widget is only available when the cell has been executed in the\n",
              "      current browser session. Please rerun this cell to enable.\n",
              "      </output>\n",
              "      <script src=\"/nbextensions/google.colab/files.js\"></script> "
            ],
            "text/plain": [
              "<IPython.core.display.HTML object>"
            ]
          },
          "metadata": {}
        },
        {
          "output_type": "stream",
          "name": "stdout",
          "text": [
            "Saving detections_SNe_v7.0.1.csv to detections_SNe_v7.0.1.csv\n",
            "Saving dfcrossmatches_prioritized_v7.0.1.csv to dfcrossmatches_prioritized_v7.0.1.csv\n"
          ]
        }
      ]
    },
    {
      "cell_type": "code",
      "metadata": {
        "id": "394e39f5"
      },
      "source": [
        "import io\n",
        "detections = pd.read_csv(io.StringIO(uploaded['detections_SNe_v7.0.1.csv'].decode('utf-8')), index_col=None)\n",
        "dfcrossmatches = pd.read_csv(io.StringIO(uploaded['dfcrossmatches_prioritized_v7.0.1.csv'].decode('utf-8')), index_col=None)"
      ],
      "id": "394e39f5",
      "execution_count": null,
      "outputs": []
    },
    {
      "cell_type": "markdown",
      "metadata": {
        "id": "23ab15ad"
      },
      "source": [
        "# Union de tablas\n",
        "Se realiza un Join con el fin de tener además de los nombres de los objetos, la clase a la cual pertenece, tendremos algunas columnas extras las cuales serán eliminadas más tarde"
      ],
      "id": "23ab15ad"
    },
    {
      "cell_type": "code",
      "metadata": {
        "id": "10f8e869"
      },
      "source": [
        "Conjunto = pd.merge(detections, dfcrossmatches, left_on='objectId', right_on='oid')"
      ],
      "id": "10f8e869",
      "execution_count": null,
      "outputs": []
    },
    {
      "cell_type": "code",
      "metadata": {
        "colab": {
          "base_uri": "https://localhost:8080/",
          "height": 241
        },
        "id": "vO0DcXC13pYa",
        "outputId": "970b74b2-023d-4389-ac8a-085bc59eecde"
      },
      "source": [
        "Conjunto.head()"
      ],
      "id": "vO0DcXC13pYa",
      "execution_count": null,
      "outputs": [
        {
          "output_type": "execute_result",
          "data": {
            "text/html": [
              "<div>\n",
              "<style scoped>\n",
              "    .dataframe tbody tr th:only-of-type {\n",
              "        vertical-align: middle;\n",
              "    }\n",
              "\n",
              "    .dataframe tbody tr th {\n",
              "        vertical-align: top;\n",
              "    }\n",
              "\n",
              "    .dataframe thead th {\n",
              "        text-align: right;\n",
              "    }\n",
              "</style>\n",
              "<table border=\"1\" class=\"dataframe\">\n",
              "  <thead>\n",
              "    <tr style=\"text-align: right;\">\n",
              "      <th></th>\n",
              "      <th>Unnamed: 0</th>\n",
              "      <th>objectId</th>\n",
              "      <th>fid</th>\n",
              "      <th>isdiffpos</th>\n",
              "      <th>sigmapsf</th>\n",
              "      <th>field</th>\n",
              "      <th>fwhm</th>\n",
              "      <th>dec_x</th>\n",
              "      <th>magpsf</th>\n",
              "      <th>rcid</th>\n",
              "      <th>ra_x</th>\n",
              "      <th>sky</th>\n",
              "      <th>rb</th>\n",
              "      <th>ssmagnr</th>\n",
              "      <th>distpsnr3</th>\n",
              "      <th>sgscore2</th>\n",
              "      <th>maggaiabright</th>\n",
              "      <th>distpsnr2</th>\n",
              "      <th>distpsnr1</th>\n",
              "      <th>maggaia</th>\n",
              "      <th>exptime</th>\n",
              "      <th>drb</th>\n",
              "      <th>sgscore3</th>\n",
              "      <th>neargaia</th>\n",
              "      <th>sgscore1</th>\n",
              "      <th>mjd</th>\n",
              "      <th>corrected</th>\n",
              "      <th>magpsf_corr</th>\n",
              "      <th>sigmapsf_corr</th>\n",
              "      <th>sigmapsf_corr_ext</th>\n",
              "      <th>dubious</th>\n",
              "      <th>has_stamp</th>\n",
              "      <th>oid</th>\n",
              "      <th>classALeRCE</th>\n",
              "      <th>ra_y</th>\n",
              "      <th>dec_y</th>\n",
              "      <th>period</th>\n",
              "      <th>source</th>\n",
              "      <th>id_source</th>\n",
              "      <th>class_source</th>\n",
              "      <th>separation_arcsec</th>\n",
              "    </tr>\n",
              "  </thead>\n",
              "  <tbody>\n",
              "    <tr>\n",
              "      <th>0</th>\n",
              "      <td>0</td>\n",
              "      <td>ZTF18aahvndq</td>\n",
              "      <td>1</td>\n",
              "      <td>1.0</td>\n",
              "      <td>0.028791</td>\n",
              "      <td>626</td>\n",
              "      <td>3.59</td>\n",
              "      <td>27.008621</td>\n",
              "      <td>15.385100</td>\n",
              "      <td>34</td>\n",
              "      <td>198.722678</td>\n",
              "      <td>-0.101586</td>\n",
              "      <td>0.770000</td>\n",
              "      <td>-999.0</td>\n",
              "      <td>21.691795</td>\n",
              "      <td>0.001667</td>\n",
              "      <td>-999.0</td>\n",
              "      <td>21.650759</td>\n",
              "      <td>1.984529</td>\n",
              "      <td>17.138538</td>\n",
              "      <td>30.0</td>\n",
              "      <td>0.999970</td>\n",
              "      <td>0.5</td>\n",
              "      <td>78.019280</td>\n",
              "      <td>0.175976</td>\n",
              "      <td>58991.302095</td>\n",
              "      <td>False</td>\n",
              "      <td>NaN</td>\n",
              "      <td>NaN</td>\n",
              "      <td>NaN</td>\n",
              "      <td>False</td>\n",
              "      <td>True</td>\n",
              "      <td>ZTF18aahvndq</td>\n",
              "      <td>SNIa</td>\n",
              "      <td>198.722653</td>\n",
              "      <td>27.008637</td>\n",
              "      <td>NaN</td>\n",
              "      <td>TNS</td>\n",
              "      <td>SN 2020jhf</td>\n",
              "      <td>SN Ia</td>\n",
              "      <td>0.103069</td>\n",
              "    </tr>\n",
              "    <tr>\n",
              "      <th>1</th>\n",
              "      <td>1</td>\n",
              "      <td>ZTF18aahvndq</td>\n",
              "      <td>1</td>\n",
              "      <td>1.0</td>\n",
              "      <td>0.031231</td>\n",
              "      <td>626</td>\n",
              "      <td>2.57</td>\n",
              "      <td>27.008635</td>\n",
              "      <td>15.712121</td>\n",
              "      <td>34</td>\n",
              "      <td>198.722679</td>\n",
              "      <td>-0.217021</td>\n",
              "      <td>0.894286</td>\n",
              "      <td>-999.0</td>\n",
              "      <td>21.712288</td>\n",
              "      <td>0.001667</td>\n",
              "      <td>-999.0</td>\n",
              "      <td>21.672073</td>\n",
              "      <td>2.034691</td>\n",
              "      <td>17.138538</td>\n",
              "      <td>30.0</td>\n",
              "      <td>0.999996</td>\n",
              "      <td>0.5</td>\n",
              "      <td>78.022800</td>\n",
              "      <td>0.175976</td>\n",
              "      <td>59000.260914</td>\n",
              "      <td>False</td>\n",
              "      <td>NaN</td>\n",
              "      <td>NaN</td>\n",
              "      <td>NaN</td>\n",
              "      <td>False</td>\n",
              "      <td>True</td>\n",
              "      <td>ZTF18aahvndq</td>\n",
              "      <td>SNIa</td>\n",
              "      <td>198.722653</td>\n",
              "      <td>27.008637</td>\n",
              "      <td>NaN</td>\n",
              "      <td>TNS</td>\n",
              "      <td>SN 2020jhf</td>\n",
              "      <td>SN Ia</td>\n",
              "      <td>0.103069</td>\n",
              "    </tr>\n",
              "    <tr>\n",
              "      <th>2</th>\n",
              "      <td>2</td>\n",
              "      <td>ZTF18aahvndq</td>\n",
              "      <td>1</td>\n",
              "      <td>1.0</td>\n",
              "      <td>0.032161</td>\n",
              "      <td>626</td>\n",
              "      <td>1.98</td>\n",
              "      <td>27.008647</td>\n",
              "      <td>16.072975</td>\n",
              "      <td>34</td>\n",
              "      <td>198.722653</td>\n",
              "      <td>-1.455619</td>\n",
              "      <td>0.907143</td>\n",
              "      <td>-999.0</td>\n",
              "      <td>21.647310</td>\n",
              "      <td>0.001667</td>\n",
              "      <td>-999.0</td>\n",
              "      <td>21.608295</td>\n",
              "      <td>2.075565</td>\n",
              "      <td>17.138538</td>\n",
              "      <td>30.0</td>\n",
              "      <td>0.999939</td>\n",
              "      <td>0.5</td>\n",
              "      <td>78.111310</td>\n",
              "      <td>0.175976</td>\n",
              "      <td>59004.192674</td>\n",
              "      <td>False</td>\n",
              "      <td>NaN</td>\n",
              "      <td>NaN</td>\n",
              "      <td>NaN</td>\n",
              "      <td>False</td>\n",
              "      <td>True</td>\n",
              "      <td>ZTF18aahvndq</td>\n",
              "      <td>SNIa</td>\n",
              "      <td>198.722653</td>\n",
              "      <td>27.008637</td>\n",
              "      <td>NaN</td>\n",
              "      <td>TNS</td>\n",
              "      <td>SN 2020jhf</td>\n",
              "      <td>SN Ia</td>\n",
              "      <td>0.103069</td>\n",
              "    </tr>\n",
              "    <tr>\n",
              "      <th>3</th>\n",
              "      <td>3</td>\n",
              "      <td>ZTF18aahvndq</td>\n",
              "      <td>1</td>\n",
              "      <td>1.0</td>\n",
              "      <td>0.049931</td>\n",
              "      <td>626</td>\n",
              "      <td>2.75</td>\n",
              "      <td>27.008624</td>\n",
              "      <td>17.708502</td>\n",
              "      <td>34</td>\n",
              "      <td>198.722660</td>\n",
              "      <td>0.167642</td>\n",
              "      <td>0.947143</td>\n",
              "      <td>-999.0</td>\n",
              "      <td>21.641445</td>\n",
              "      <td>0.001667</td>\n",
              "      <td>-999.0</td>\n",
              "      <td>21.600946</td>\n",
              "      <td>1.995552</td>\n",
              "      <td>17.138538</td>\n",
              "      <td>30.0</td>\n",
              "      <td>0.999956</td>\n",
              "      <td>0.5</td>\n",
              "      <td>78.077545</td>\n",
              "      <td>0.175976</td>\n",
              "      <td>59021.227604</td>\n",
              "      <td>False</td>\n",
              "      <td>NaN</td>\n",
              "      <td>NaN</td>\n",
              "      <td>NaN</td>\n",
              "      <td>False</td>\n",
              "      <td>True</td>\n",
              "      <td>ZTF18aahvndq</td>\n",
              "      <td>SNIa</td>\n",
              "      <td>198.722653</td>\n",
              "      <td>27.008637</td>\n",
              "      <td>NaN</td>\n",
              "      <td>TNS</td>\n",
              "      <td>SN 2020jhf</td>\n",
              "      <td>SN Ia</td>\n",
              "      <td>0.103069</td>\n",
              "    </tr>\n",
              "    <tr>\n",
              "      <th>4</th>\n",
              "      <td>4</td>\n",
              "      <td>ZTF18aahvndq</td>\n",
              "      <td>1</td>\n",
              "      <td>1.0</td>\n",
              "      <td>0.028520</td>\n",
              "      <td>626</td>\n",
              "      <td>3.13</td>\n",
              "      <td>27.008636</td>\n",
              "      <td>15.617474</td>\n",
              "      <td>34</td>\n",
              "      <td>198.722660</td>\n",
              "      <td>0.027993</td>\n",
              "      <td>0.837143</td>\n",
              "      <td>-999.0</td>\n",
              "      <td>21.656885</td>\n",
              "      <td>0.001667</td>\n",
              "      <td>-999.0</td>\n",
              "      <td>21.617119</td>\n",
              "      <td>2.039114</td>\n",
              "      <td>17.138538</td>\n",
              "      <td>30.0</td>\n",
              "      <td>0.999770</td>\n",
              "      <td>0.5</td>\n",
              "      <td>78.083150</td>\n",
              "      <td>0.175976</td>\n",
              "      <td>58986.223646</td>\n",
              "      <td>False</td>\n",
              "      <td>NaN</td>\n",
              "      <td>NaN</td>\n",
              "      <td>NaN</td>\n",
              "      <td>False</td>\n",
              "      <td>True</td>\n",
              "      <td>ZTF18aahvndq</td>\n",
              "      <td>SNIa</td>\n",
              "      <td>198.722653</td>\n",
              "      <td>27.008637</td>\n",
              "      <td>NaN</td>\n",
              "      <td>TNS</td>\n",
              "      <td>SN 2020jhf</td>\n",
              "      <td>SN Ia</td>\n",
              "      <td>0.103069</td>\n",
              "    </tr>\n",
              "  </tbody>\n",
              "</table>\n",
              "</div>"
            ],
            "text/plain": [
              "   Unnamed: 0      objectId  fid  ...   id_source  class_source  separation_arcsec\n",
              "0           0  ZTF18aahvndq    1  ...  SN 2020jhf         SN Ia           0.103069\n",
              "1           1  ZTF18aahvndq    1  ...  SN 2020jhf         SN Ia           0.103069\n",
              "2           2  ZTF18aahvndq    1  ...  SN 2020jhf         SN Ia           0.103069\n",
              "3           3  ZTF18aahvndq    1  ...  SN 2020jhf         SN Ia           0.103069\n",
              "4           4  ZTF18aahvndq    1  ...  SN 2020jhf         SN Ia           0.103069\n",
              "\n",
              "[5 rows x 41 columns]"
            ]
          },
          "metadata": {},
          "execution_count": 95
        }
      ]
    },
    {
      "cell_type": "code",
      "metadata": {
        "colab": {
          "base_uri": "https://localhost:8080/",
          "height": 204
        },
        "id": "e9845473",
        "outputId": "0d60a9d5-47c0-42a4-a746-f849e38d0c36"
      },
      "source": [
        "# Le hacemos un slicing al conjunto:\n",
        "slice_cjto = Conjunto[['classALeRCE','oid','objectId','isdiffpos','magpsf','mjd','magpsf_corr','sigmapsf','sigmapsf_corr','fid']]\n",
        "slice_cjto.head() # Printeamos las primeras filas del conjunto para observar que se hayan tomado bien los datos"
      ],
      "id": "e9845473",
      "execution_count": null,
      "outputs": [
        {
          "output_type": "execute_result",
          "data": {
            "text/html": [
              "<div>\n",
              "<style scoped>\n",
              "    .dataframe tbody tr th:only-of-type {\n",
              "        vertical-align: middle;\n",
              "    }\n",
              "\n",
              "    .dataframe tbody tr th {\n",
              "        vertical-align: top;\n",
              "    }\n",
              "\n",
              "    .dataframe thead th {\n",
              "        text-align: right;\n",
              "    }\n",
              "</style>\n",
              "<table border=\"1\" class=\"dataframe\">\n",
              "  <thead>\n",
              "    <tr style=\"text-align: right;\">\n",
              "      <th></th>\n",
              "      <th>classALeRCE</th>\n",
              "      <th>oid</th>\n",
              "      <th>objectId</th>\n",
              "      <th>isdiffpos</th>\n",
              "      <th>magpsf</th>\n",
              "      <th>mjd</th>\n",
              "      <th>magpsf_corr</th>\n",
              "      <th>sigmapsf</th>\n",
              "      <th>sigmapsf_corr</th>\n",
              "      <th>fid</th>\n",
              "    </tr>\n",
              "  </thead>\n",
              "  <tbody>\n",
              "    <tr>\n",
              "      <th>0</th>\n",
              "      <td>SNIa</td>\n",
              "      <td>ZTF18aahvndq</td>\n",
              "      <td>ZTF18aahvndq</td>\n",
              "      <td>1.0</td>\n",
              "      <td>15.385100</td>\n",
              "      <td>58991.302095</td>\n",
              "      <td>NaN</td>\n",
              "      <td>0.028791</td>\n",
              "      <td>NaN</td>\n",
              "      <td>1</td>\n",
              "    </tr>\n",
              "    <tr>\n",
              "      <th>1</th>\n",
              "      <td>SNIa</td>\n",
              "      <td>ZTF18aahvndq</td>\n",
              "      <td>ZTF18aahvndq</td>\n",
              "      <td>1.0</td>\n",
              "      <td>15.712121</td>\n",
              "      <td>59000.260914</td>\n",
              "      <td>NaN</td>\n",
              "      <td>0.031231</td>\n",
              "      <td>NaN</td>\n",
              "      <td>1</td>\n",
              "    </tr>\n",
              "    <tr>\n",
              "      <th>2</th>\n",
              "      <td>SNIa</td>\n",
              "      <td>ZTF18aahvndq</td>\n",
              "      <td>ZTF18aahvndq</td>\n",
              "      <td>1.0</td>\n",
              "      <td>16.072975</td>\n",
              "      <td>59004.192674</td>\n",
              "      <td>NaN</td>\n",
              "      <td>0.032161</td>\n",
              "      <td>NaN</td>\n",
              "      <td>1</td>\n",
              "    </tr>\n",
              "    <tr>\n",
              "      <th>3</th>\n",
              "      <td>SNIa</td>\n",
              "      <td>ZTF18aahvndq</td>\n",
              "      <td>ZTF18aahvndq</td>\n",
              "      <td>1.0</td>\n",
              "      <td>17.708502</td>\n",
              "      <td>59021.227604</td>\n",
              "      <td>NaN</td>\n",
              "      <td>0.049931</td>\n",
              "      <td>NaN</td>\n",
              "      <td>1</td>\n",
              "    </tr>\n",
              "    <tr>\n",
              "      <th>4</th>\n",
              "      <td>SNIa</td>\n",
              "      <td>ZTF18aahvndq</td>\n",
              "      <td>ZTF18aahvndq</td>\n",
              "      <td>1.0</td>\n",
              "      <td>15.617474</td>\n",
              "      <td>58986.223646</td>\n",
              "      <td>NaN</td>\n",
              "      <td>0.028520</td>\n",
              "      <td>NaN</td>\n",
              "      <td>1</td>\n",
              "    </tr>\n",
              "  </tbody>\n",
              "</table>\n",
              "</div>"
            ],
            "text/plain": [
              "  classALeRCE           oid      objectId  ...  sigmapsf  sigmapsf_corr  fid\n",
              "0        SNIa  ZTF18aahvndq  ZTF18aahvndq  ...  0.028791            NaN    1\n",
              "1        SNIa  ZTF18aahvndq  ZTF18aahvndq  ...  0.031231            NaN    1\n",
              "2        SNIa  ZTF18aahvndq  ZTF18aahvndq  ...  0.032161            NaN    1\n",
              "3        SNIa  ZTF18aahvndq  ZTF18aahvndq  ...  0.049931            NaN    1\n",
              "4        SNIa  ZTF18aahvndq  ZTF18aahvndq  ...  0.028520            NaN    1\n",
              "\n",
              "[5 rows x 10 columns]"
            ]
          },
          "metadata": {},
          "execution_count": 96
        }
      ]
    },
    {
      "cell_type": "markdown",
      "metadata": {
        "id": "Ep3BoFv72XaR"
      },
      "source": [
        "# Limpieza de datos: \n",
        "Se quitan los registros que se detecten como outliers, estos corresponderian a los que se alejan a más de 3 desviaciones estandar del promedio."
      ],
      "id": "Ep3BoFv72XaR"
    },
    {
      "cell_type": "code",
      "metadata": {
        "id": "wB8o-x774tMO"
      },
      "source": [
        "from scipy import stats\n",
        "clean_data = slice_cjto[((np.abs(stats.zscore(slice_cjto['magpsf']))<3)&(slice_cjto['sigmapsf']<1))]"
      ],
      "id": "wB8o-x774tMO",
      "execution_count": null,
      "outputs": []
    },
    {
      "cell_type": "code",
      "metadata": {
        "colab": {
          "base_uri": "https://localhost:8080/",
          "height": 204
        },
        "id": "SS8blYU0hSmv",
        "outputId": "852063cf-7b0d-491f-cbf9-6678f95d0dfc"
      },
      "source": [
        "clean_data.head()"
      ],
      "id": "SS8blYU0hSmv",
      "execution_count": null,
      "outputs": [
        {
          "output_type": "execute_result",
          "data": {
            "text/html": [
              "<div>\n",
              "<style scoped>\n",
              "    .dataframe tbody tr th:only-of-type {\n",
              "        vertical-align: middle;\n",
              "    }\n",
              "\n",
              "    .dataframe tbody tr th {\n",
              "        vertical-align: top;\n",
              "    }\n",
              "\n",
              "    .dataframe thead th {\n",
              "        text-align: right;\n",
              "    }\n",
              "</style>\n",
              "<table border=\"1\" class=\"dataframe\">\n",
              "  <thead>\n",
              "    <tr style=\"text-align: right;\">\n",
              "      <th></th>\n",
              "      <th>classALeRCE</th>\n",
              "      <th>oid</th>\n",
              "      <th>objectId</th>\n",
              "      <th>isdiffpos</th>\n",
              "      <th>magpsf</th>\n",
              "      <th>mjd</th>\n",
              "      <th>magpsf_corr</th>\n",
              "      <th>sigmapsf</th>\n",
              "      <th>sigmapsf_corr</th>\n",
              "      <th>fid</th>\n",
              "    </tr>\n",
              "  </thead>\n",
              "  <tbody>\n",
              "    <tr>\n",
              "      <th>2</th>\n",
              "      <td>SNIa</td>\n",
              "      <td>ZTF18aahvndq</td>\n",
              "      <td>ZTF18aahvndq</td>\n",
              "      <td>1.0</td>\n",
              "      <td>16.072975</td>\n",
              "      <td>59004.192674</td>\n",
              "      <td>NaN</td>\n",
              "      <td>0.032161</td>\n",
              "      <td>NaN</td>\n",
              "      <td>1</td>\n",
              "    </tr>\n",
              "    <tr>\n",
              "      <th>3</th>\n",
              "      <td>SNIa</td>\n",
              "      <td>ZTF18aahvndq</td>\n",
              "      <td>ZTF18aahvndq</td>\n",
              "      <td>1.0</td>\n",
              "      <td>17.708502</td>\n",
              "      <td>59021.227604</td>\n",
              "      <td>NaN</td>\n",
              "      <td>0.049931</td>\n",
              "      <td>NaN</td>\n",
              "      <td>1</td>\n",
              "    </tr>\n",
              "    <tr>\n",
              "      <th>6</th>\n",
              "      <td>SNIa</td>\n",
              "      <td>ZTF18aahvndq</td>\n",
              "      <td>ZTF18aahvndq</td>\n",
              "      <td>1.0</td>\n",
              "      <td>16.626165</td>\n",
              "      <td>59009.258669</td>\n",
              "      <td>NaN</td>\n",
              "      <td>0.044748</td>\n",
              "      <td>NaN</td>\n",
              "      <td>1</td>\n",
              "    </tr>\n",
              "    <tr>\n",
              "      <th>8</th>\n",
              "      <td>SNIa</td>\n",
              "      <td>ZTF18aahvndq</td>\n",
              "      <td>ZTF18aahvndq</td>\n",
              "      <td>1.0</td>\n",
              "      <td>18.192377</td>\n",
              "      <td>59036.198090</td>\n",
              "      <td>NaN</td>\n",
              "      <td>0.078094</td>\n",
              "      <td>NaN</td>\n",
              "      <td>1</td>\n",
              "    </tr>\n",
              "    <tr>\n",
              "      <th>9</th>\n",
              "      <td>SNIa</td>\n",
              "      <td>ZTF18aahvndq</td>\n",
              "      <td>ZTF18aahvndq</td>\n",
              "      <td>1.0</td>\n",
              "      <td>18.481302</td>\n",
              "      <td>59045.238090</td>\n",
              "      <td>NaN</td>\n",
              "      <td>0.083104</td>\n",
              "      <td>NaN</td>\n",
              "      <td>1</td>\n",
              "    </tr>\n",
              "  </tbody>\n",
              "</table>\n",
              "</div>"
            ],
            "text/plain": [
              "  classALeRCE           oid      objectId  ...  sigmapsf  sigmapsf_corr  fid\n",
              "2        SNIa  ZTF18aahvndq  ZTF18aahvndq  ...  0.032161            NaN    1\n",
              "3        SNIa  ZTF18aahvndq  ZTF18aahvndq  ...  0.049931            NaN    1\n",
              "6        SNIa  ZTF18aahvndq  ZTF18aahvndq  ...  0.044748            NaN    1\n",
              "8        SNIa  ZTF18aahvndq  ZTF18aahvndq  ...  0.078094            NaN    1\n",
              "9        SNIa  ZTF18aahvndq  ZTF18aahvndq  ...  0.083104            NaN    1\n",
              "\n",
              "[5 rows x 10 columns]"
            ]
          },
          "metadata": {},
          "execution_count": 98
        }
      ]
    },
    {
      "cell_type": "markdown",
      "metadata": {
        "id": "uYqUEHyK2mQK"
      },
      "source": [
        "# Se arreglan los NaN que aparecen en magpsf_corr y sigmapsf_corr copiando el valor que tienen en sus versiones no corregidas."
      ],
      "id": "uYqUEHyK2mQK"
    },
    {
      "cell_type": "code",
      "metadata": {
        "id": "_bGuSjkPhgxO"
      },
      "source": [
        "n = len(clean_data)\n",
        "copy_cleandata = clean_data.copy()\n",
        "\n",
        "for i in range(0,n):\n",
        "  if pd.isna(clean_data.iloc[i,8]) == True:\n",
        "    copy_cleandata.iloc[i,8] = copy_cleandata.iloc[i,7]\n",
        "  else:\n",
        "    pass\n",
        "for i in range(0,n):\n",
        "  if pd.isna(clean_data.iloc[i,6]) == True:\n",
        "    copy_cleandata.iloc[i,6] = copy_cleandata.iloc[i,4]\n",
        "  else:\n",
        "    pass"
      ],
      "id": "_bGuSjkPhgxO",
      "execution_count": null,
      "outputs": []
    },
    {
      "cell_type": "code",
      "metadata": {
        "colab": {
          "base_uri": "https://localhost:8080/",
          "height": 204
        },
        "id": "7QQK79UmnF6U",
        "outputId": "07546f28-2a94-4bd3-91d9-911faf5d72c5"
      },
      "source": [
        "copy_cleandata.head()"
      ],
      "id": "7QQK79UmnF6U",
      "execution_count": null,
      "outputs": [
        {
          "output_type": "execute_result",
          "data": {
            "text/html": [
              "<div>\n",
              "<style scoped>\n",
              "    .dataframe tbody tr th:only-of-type {\n",
              "        vertical-align: middle;\n",
              "    }\n",
              "\n",
              "    .dataframe tbody tr th {\n",
              "        vertical-align: top;\n",
              "    }\n",
              "\n",
              "    .dataframe thead th {\n",
              "        text-align: right;\n",
              "    }\n",
              "</style>\n",
              "<table border=\"1\" class=\"dataframe\">\n",
              "  <thead>\n",
              "    <tr style=\"text-align: right;\">\n",
              "      <th></th>\n",
              "      <th>classALeRCE</th>\n",
              "      <th>oid</th>\n",
              "      <th>objectId</th>\n",
              "      <th>isdiffpos</th>\n",
              "      <th>magpsf</th>\n",
              "      <th>mjd</th>\n",
              "      <th>magpsf_corr</th>\n",
              "      <th>sigmapsf</th>\n",
              "      <th>sigmapsf_corr</th>\n",
              "      <th>fid</th>\n",
              "    </tr>\n",
              "  </thead>\n",
              "  <tbody>\n",
              "    <tr>\n",
              "      <th>2</th>\n",
              "      <td>SNIa</td>\n",
              "      <td>ZTF18aahvndq</td>\n",
              "      <td>ZTF18aahvndq</td>\n",
              "      <td>1.0</td>\n",
              "      <td>16.072975</td>\n",
              "      <td>59004.192674</td>\n",
              "      <td>16.072975</td>\n",
              "      <td>0.032161</td>\n",
              "      <td>0.032161</td>\n",
              "      <td>1</td>\n",
              "    </tr>\n",
              "    <tr>\n",
              "      <th>3</th>\n",
              "      <td>SNIa</td>\n",
              "      <td>ZTF18aahvndq</td>\n",
              "      <td>ZTF18aahvndq</td>\n",
              "      <td>1.0</td>\n",
              "      <td>17.708502</td>\n",
              "      <td>59021.227604</td>\n",
              "      <td>17.708502</td>\n",
              "      <td>0.049931</td>\n",
              "      <td>0.049931</td>\n",
              "      <td>1</td>\n",
              "    </tr>\n",
              "    <tr>\n",
              "      <th>6</th>\n",
              "      <td>SNIa</td>\n",
              "      <td>ZTF18aahvndq</td>\n",
              "      <td>ZTF18aahvndq</td>\n",
              "      <td>1.0</td>\n",
              "      <td>16.626165</td>\n",
              "      <td>59009.258669</td>\n",
              "      <td>16.626165</td>\n",
              "      <td>0.044748</td>\n",
              "      <td>0.044748</td>\n",
              "      <td>1</td>\n",
              "    </tr>\n",
              "    <tr>\n",
              "      <th>8</th>\n",
              "      <td>SNIa</td>\n",
              "      <td>ZTF18aahvndq</td>\n",
              "      <td>ZTF18aahvndq</td>\n",
              "      <td>1.0</td>\n",
              "      <td>18.192377</td>\n",
              "      <td>59036.198090</td>\n",
              "      <td>18.192377</td>\n",
              "      <td>0.078094</td>\n",
              "      <td>0.078094</td>\n",
              "      <td>1</td>\n",
              "    </tr>\n",
              "    <tr>\n",
              "      <th>9</th>\n",
              "      <td>SNIa</td>\n",
              "      <td>ZTF18aahvndq</td>\n",
              "      <td>ZTF18aahvndq</td>\n",
              "      <td>1.0</td>\n",
              "      <td>18.481302</td>\n",
              "      <td>59045.238090</td>\n",
              "      <td>18.481302</td>\n",
              "      <td>0.083104</td>\n",
              "      <td>0.083104</td>\n",
              "      <td>1</td>\n",
              "    </tr>\n",
              "  </tbody>\n",
              "</table>\n",
              "</div>"
            ],
            "text/plain": [
              "  classALeRCE           oid      objectId  ...  sigmapsf  sigmapsf_corr  fid\n",
              "2        SNIa  ZTF18aahvndq  ZTF18aahvndq  ...  0.032161       0.032161    1\n",
              "3        SNIa  ZTF18aahvndq  ZTF18aahvndq  ...  0.049931       0.049931    1\n",
              "6        SNIa  ZTF18aahvndq  ZTF18aahvndq  ...  0.044748       0.044748    1\n",
              "8        SNIa  ZTF18aahvndq  ZTF18aahvndq  ...  0.078094       0.078094    1\n",
              "9        SNIa  ZTF18aahvndq  ZTF18aahvndq  ...  0.083104       0.083104    1\n",
              "\n",
              "[5 rows x 10 columns]"
            ]
          },
          "metadata": {},
          "execution_count": 100
        }
      ]
    },
    {
      "cell_type": "markdown",
      "metadata": {
        "id": "mTS-cKanPB-W"
      },
      "source": [
        "#Calculamos la cantidad de supernovas que hay en la base de datos"
      ],
      "id": "mTS-cKanPB-W"
    },
    {
      "cell_type": "code",
      "metadata": {
        "colab": {
          "base_uri": "https://localhost:8080/",
          "height": 266
        },
        "id": "xuhr29d3hzHP",
        "outputId": "19b878f4-cd58-4574-f240-8dc7a6f1975a"
      },
      "source": [
        "# tomamos un subslice de los datos tomando solo la columna del Id con la de la clase:\n",
        "subslice = clean_data[['objectId','classALeRCE']]\n",
        "# Ahora, a este subslice, le eliminamos los \"duplicados\" de cada curva para poder obtener la cantidad de supernovas que tenemos\n",
        "subslice_sinduplicados = subslice.drop_duplicates(subset=['objectId'])\n",
        "# Y ahora que ya tenemos esto, podemos calcular la cantidad de supernovas real que hay, es decir, tomando solo 1 muestra para c/u\n",
        "subslice_sinduplicados.groupby('classALeRCE').count()\n"
      ],
      "id": "xuhr29d3hzHP",
      "execution_count": null,
      "outputs": [
        {
          "output_type": "execute_result",
          "data": {
            "text/html": [
              "<div>\n",
              "<style scoped>\n",
              "    .dataframe tbody tr th:only-of-type {\n",
              "        vertical-align: middle;\n",
              "    }\n",
              "\n",
              "    .dataframe tbody tr th {\n",
              "        vertical-align: top;\n",
              "    }\n",
              "\n",
              "    .dataframe thead th {\n",
              "        text-align: right;\n",
              "    }\n",
              "</style>\n",
              "<table border=\"1\" class=\"dataframe\">\n",
              "  <thead>\n",
              "    <tr style=\"text-align: right;\">\n",
              "      <th></th>\n",
              "      <th>objectId</th>\n",
              "    </tr>\n",
              "    <tr>\n",
              "      <th>classALeRCE</th>\n",
              "      <th></th>\n",
              "    </tr>\n",
              "  </thead>\n",
              "  <tbody>\n",
              "    <tr>\n",
              "      <th>SLSN</th>\n",
              "      <td>34</td>\n",
              "    </tr>\n",
              "    <tr>\n",
              "      <th>SNII</th>\n",
              "      <td>330</td>\n",
              "    </tr>\n",
              "    <tr>\n",
              "      <th>SNIIb</th>\n",
              "      <td>16</td>\n",
              "    </tr>\n",
              "    <tr>\n",
              "      <th>SNIIn</th>\n",
              "      <td>42</td>\n",
              "    </tr>\n",
              "    <tr>\n",
              "      <th>SNIa</th>\n",
              "      <td>1540</td>\n",
              "    </tr>\n",
              "    <tr>\n",
              "      <th>SNIbc</th>\n",
              "      <td>106</td>\n",
              "    </tr>\n",
              "  </tbody>\n",
              "</table>\n",
              "</div>"
            ],
            "text/plain": [
              "             objectId\n",
              "classALeRCE          \n",
              "SLSN               34\n",
              "SNII              330\n",
              "SNIIb              16\n",
              "SNIIn              42\n",
              "SNIa             1540\n",
              "SNIbc             106"
            ]
          },
          "metadata": {},
          "execution_count": 101
        }
      ]
    },
    {
      "cell_type": "code",
      "metadata": {
        "colab": {
          "base_uri": "https://localhost:8080/",
          "height": 315
        },
        "id": "Wx91QJQV4FzE",
        "outputId": "7246bda5-b139-4e88-9243-9ece66639222"
      },
      "source": [
        "group_cleandata = subslice_sinduplicados.groupby('classALeRCE')['classALeRCE'].count()\n",
        "group_cleandata.plot(kind='bar')"
      ],
      "id": "Wx91QJQV4FzE",
      "execution_count": null,
      "outputs": [
        {
          "output_type": "execute_result",
          "data": {
            "text/plain": [
              "<AxesSubplot:xlabel='classALeRCE'>"
            ]
          },
          "metadata": {},
          "execution_count": 102
        },
        {
          "output_type": "display_data",
          "data": {
            "image/png": "[encoded data removed]",
            "text/plain": [
              "<Figure size 432x288 with 1 Axes>"
            ]
          },
          "metadata": {
            "needs_background": "light"
          }
        }
      ]
    },
    {
      "cell_type": "markdown",
      "metadata": {
        "id": "u4d6vJvK28-X"
      },
      "source": [
        "# Se le cambia el nombre a los datos solo por conveniencia, los datos a utilizar ya filtrados corresponden a \"Datos_Final\""
      ],
      "id": "u4d6vJvK28-X"
    },
    {
      "cell_type": "code",
      "metadata": {
        "id": "v8UsMu__6Nk7"
      },
      "source": [
        "# Ahora, tomaremos un ejemplo de cada supernova y graficaremos su curva de luz.\n",
        "Datos_Final = copy_cleandata #Las muestras con los NaN reemplazados y sin outliers"
      ],
      "id": "v8UsMu__6Nk7",
      "execution_count": null,
      "outputs": []
    },
    {
      "cell_type": "markdown",
      "metadata": {
        "id": "2rP-pNKvPV8I"
      },
      "source": [
        "#Se grafica un ejemplo de curva de luz por cada tipo de supernova"
      ],
      "id": "2rP-pNKvPV8I"
    },
    {
      "cell_type": "code",
      "metadata": {
        "id": "L_wwg4lsCmlj"
      },
      "source": [
        "# Ahora comenzamos a tomar datos para las curvas de luz, como son 6 tipos de curvas de luz haremos 1 ejemplo de cada una (ie, 6 curvas)\n",
        "import matplotlib.pyplot as plt\n",
        "Curva_SNIa = Datos_Final.loc[Datos_Final.loc[:,'oid']=='ZTF20aaxxcms'] # SNIa\n",
        "Curva_SNII = Datos_Final.loc[Datos_Final.loc[:,'oid']=='ZTF19abhduuo'] # SNII\n",
        "Curva_SLSN = Datos_Final.loc[Datos_Final.loc[:,'oid']=='ZTF19aalbrgu'] # SLSN\n",
        "Curva_SNIIb = Datos_Final.loc[Datos_Final.loc[:,'oid']=='ZTF19aaejtof'] # SNIIb\n",
        "Curva_SNIIn = Datos_Final.loc[Datos_Final.loc[:,'oid']=='ZTF19abgndlf'] # SNIIn\n",
        "Curva_SNIbc = Datos_Final.loc[Datos_Final.loc[:,'oid']=='ZTF19abqwtfu'] # SNIbc\n"
      ],
      "id": "L_wwg4lsCmlj",
      "execution_count": null,
      "outputs": []
    },
    {
      "cell_type": "code",
      "metadata": {
        "colab": {
          "base_uri": "https://localhost:8080/",
          "height": 513
        },
        "id": "95urZEcVH2qZ",
        "outputId": "d9e2417c-8074-4a50-aa25-ce9902c66040"
      },
      "source": [
        "# GRAFICAMOS LA CURVA PARA LA SUPERNOVA TIPO Ia\n",
        "lc_g_SNIa = Curva_SNIa[Curva_SNIa.fid == 1]\n",
        "lc_r_SNIa = Curva_SNIa[Curva_SNIa.fid == 2]\n",
        "fig = plt.figure(figsize=(12, 8))\n",
        "fig.set_facecolor('white')\n",
        "\n",
        "plt.errorbar(lc_g_SNIa['mjd'], lc_g_SNIa['magpsf_corr'], yerr=lc_g_SNIa['sigmapsf_corr'], fmt='*g', label='g')\n",
        "plt.errorbar(lc_r_SNIa['mjd'], lc_r_SNIa['magpsf_corr'], yerr=lc_r_SNIa['sigmapsf_corr'], fmt='*r', label='r')\n",
        "plt.xlabel('Time [mjd]')\n",
        "plt.ylabel('Magnitude')\n",
        "plt.title('Supernova de tipo Ia')\n",
        "plt.legend()\n",
        "plt.gca().invert_yaxis()"
      ],
      "id": "95urZEcVH2qZ",
      "execution_count": null,
      "outputs": [
        {
          "output_type": "display_data",
          "data": {
            "image/png": "[encoded data removed]",
            "text/plain": [
              "<Figure size 864x576 with 1 Axes>"
            ]
          },
          "metadata": {}
        }
      ]
    },
    {
      "cell_type": "code",
      "metadata": {
        "colab": {
          "base_uri": "https://localhost:8080/",
          "height": 513
        },
        "id": "d0CW3wcVKNVl",
        "outputId": "37c3e049-3533-495e-e106-09c24704477a"
      },
      "source": [
        "# GRAFICAMOS LA CURVA PARA LA SUPERNOVA DE TIPO II\n",
        "lc_g_SNII = Curva_SNII[Curva_SNII.fid == 1]\n",
        "lc_r_SNII = Curva_SNII[Curva_SNII.fid == 2]\n",
        "fig = plt.figure(figsize=(12, 8))\n",
        "fig.set_facecolor('white')\n",
        "\n",
        "plt.errorbar(lc_g_SNII['mjd'], lc_g_SNII['magpsf_corr'], yerr=lc_g_SNII['sigmapsf_corr'], fmt='*g', label='g')\n",
        "plt.errorbar(lc_r_SNII['mjd'], lc_r_SNII['magpsf_corr'], yerr=lc_r_SNII['sigmapsf_corr'], fmt='*r', label='r')\n",
        "plt.xlabel('Time [mjd]')\n",
        "plt.ylabel('Magnitude')\n",
        "plt.title('Supernova de tipo II')\n",
        "plt.legend()\n",
        "plt.gca().invert_yaxis()"
      ],
      "id": "d0CW3wcVKNVl",
      "execution_count": null,
      "outputs": [
        {
          "output_type": "display_data",
          "data": {
            "image/png": "[encoded data removed]",
            "text/plain": [
              "<Figure size 864x576 with 1 Axes>"
            ]
          },
          "metadata": {}
        }
      ]
    },
    {
      "cell_type": "code",
      "metadata": {
        "colab": {
          "base_uri": "https://localhost:8080/",
          "height": 513
        },
        "id": "UgDlWQEYKpO9",
        "outputId": "e9c1a6db-f47d-4b8b-b527-d5aef06b6bdb"
      },
      "source": [
        "# GRAFICAMOS LA CURVA PARA LA SUPERNOVA DE TIPO SL\n",
        "lc_g_SLSN = Curva_SLSN[Curva_SLSN.fid == 1]\n",
        "lc_r_SLSN = Curva_SLSN[Curva_SLSN.fid == 2]\n",
        "fig = plt.figure(figsize=(12, 8))\n",
        "fig.set_facecolor('white')\n",
        "\n",
        "plt.errorbar(lc_g_SLSN['mjd'], lc_g_SLSN['magpsf_corr'], yerr=lc_g_SLSN['sigmapsf_corr'], fmt='*g', label='g')\n",
        "plt.errorbar(lc_r_SLSN['mjd'], lc_r_SLSN['magpsf_corr'], yerr=lc_r_SLSN['sigmapsf_corr'], fmt='*r', label='r')\n",
        "plt.xlabel('Time [mjd]')\n",
        "plt.ylabel('Magnitude')\n",
        "plt.title('Supernova de tipo SL')\n",
        "plt.legend()\n",
        "plt.gca().invert_yaxis()"
      ],
      "id": "UgDlWQEYKpO9",
      "execution_count": null,
      "outputs": [
        {
          "output_type": "display_data",
          "data": {
            "image/png": "[encoded data removed]",
            "text/plain": [
              "<Figure size 864x576 with 1 Axes>"
            ]
          },
          "metadata": {}
        }
      ]
    },
    {
      "cell_type": "code",
      "metadata": {
        "colab": {
          "base_uri": "https://localhost:8080/",
          "height": 513
        },
        "id": "cjmcQ71cLRtZ",
        "outputId": "f496d93b-8abd-4264-8826-1b8a122f0110"
      },
      "source": [
        "# GRAFICAMOS LA CURVA PARA LA SUPERNOVA DE TIPO IIb\n",
        "lc_g_SNIIb = Curva_SNIIb[Curva_SNIIb.fid == 1]\n",
        "lc_r_SNIIb = Curva_SNIIb[Curva_SNIIb.fid == 2]\n",
        "fig = plt.figure(figsize=(12, 8))\n",
        "fig.set_facecolor('white')\n",
        "\n",
        "plt.errorbar(lc_g_SNIIb['mjd'], lc_g_SNIIb['magpsf_corr'], yerr=lc_g_SNIIb['sigmapsf_corr'], fmt='*g', label='g')\n",
        "plt.errorbar(lc_r_SNIIb['mjd'], lc_r_SNIIb['magpsf_corr'], yerr=lc_r_SNIIb['sigmapsf_corr'], fmt='*r', label='r')\n",
        "plt.xlabel('Time [mjd]')\n",
        "plt.ylabel('Magnitude')\n",
        "plt.title('Supernova de tipo IIb')\n",
        "plt.legend()\n",
        "plt.gca().invert_yaxis()"
      ],
      "id": "cjmcQ71cLRtZ",
      "execution_count": null,
      "outputs": [
        {
          "output_type": "display_data",
          "data": {
            "image/png": "[encoded data removed]",
            "text/plain": [
              "<Figure size 864x576 with 1 Axes>"
            ]
          },
          "metadata": {}
        }
      ]
    },
    {
      "cell_type": "code",
      "metadata": {
        "colab": {
          "base_uri": "https://localhost:8080/",
          "height": 513
        },
        "id": "RTAxStnGLgnv",
        "outputId": "b2838d55-11d3-402c-8176-900cee3576c1"
      },
      "source": [
        "# GRAFICAMOS LA CURVA PARA LA SUPERNOVA DE TIPO IIn\n",
        "lc_g_SNIIn = Curva_SNIIn[Curva_SNIIn.fid == 1]\n",
        "lc_r_SNIIn = Curva_SNIIn[Curva_SNIIn.fid == 2]\n",
        "fig = plt.figure(figsize=(12, 8))\n",
        "fig.set_facecolor('white')\n",
        "\n",
        "plt.errorbar(lc_g_SNIIn['mjd'], lc_g_SNIIn['magpsf_corr'], yerr=lc_g_SNIIn['sigmapsf_corr'], fmt='*g', label='g')\n",
        "plt.errorbar(lc_r_SNIIn['mjd'], lc_r_SNIIn['magpsf_corr'], yerr=lc_r_SNIIn['sigmapsf_corr'], fmt='*r', label='r')\n",
        "plt.xlabel('Time [mjd]')\n",
        "plt.ylabel('Magnitude')\n",
        "plt.title('Supernova de tipo IIn')\n",
        "plt.legend()\n",
        "plt.gca().invert_yaxis()"
      ],
      "id": "RTAxStnGLgnv",
      "execution_count": null,
      "outputs": [
        {
          "output_type": "display_data",
          "data": {
            "image/png": "[encoded data removed]",
            "text/plain": [
              "<Figure size 864x576 with 1 Axes>"
            ]
          },
          "metadata": {}
        }
      ]
    },
    {
      "cell_type": "code",
      "metadata": {
        "colab": {
          "base_uri": "https://localhost:8080/",
          "height": 513
        },
        "id": "FedDxe7lLpGx",
        "outputId": "d35dfed8-6714-4f94-d600-d833ca173d96"
      },
      "source": [
        "# GRAFICAMOS LA CURVA PARA LA SUPERNOVA DE TIPO Ibc\n",
        "lc_g_SNIbc = Curva_SNIbc[Curva_SNIbc.fid == 1]\n",
        "lc_r_SNIbc = Curva_SNIbc[Curva_SNIbc.fid == 2]\n",
        "fig = plt.figure(figsize=(12, 8))\n",
        "fig.set_facecolor('white')\n",
        "\n",
        "plt.errorbar(lc_g_SNIbc['mjd'], lc_g_SNIbc['magpsf_corr'], yerr=lc_g_SNIbc['sigmapsf_corr'], fmt='*g', label='g')\n",
        "plt.errorbar(lc_r_SNIbc['mjd'], lc_r_SNIbc['magpsf_corr'], yerr=lc_r_SNIbc['sigmapsf_corr'], fmt='*r', label='r')\n",
        "plt.xlabel('Time [mjd]')\n",
        "plt.ylabel('Magnitude')\n",
        "plt.title('Supernova de tipo Ibc')\n",
        "plt.legend()\n",
        "plt.gca().invert_yaxis()"
      ],
      "id": "FedDxe7lLpGx",
      "execution_count": null,
      "outputs": [
        {
          "output_type": "display_data",
          "data": {
            "image/png": "[encoded data removed]",
            "text/plain": [
              "<Figure size 864x576 with 1 Axes>"
            ]
          },
          "metadata": {}
        }
      ]
    },
    {
      "cell_type": "markdown",
      "metadata": {
        "id": "IhBiUqkx3Jnu"
      },
      "source": [
        "# Extracción de características preliminar"
      ],
      "id": "IhBiUqkx3Jnu"
    },
    {
      "cell_type": "code",
      "metadata": {
        "id": "oM4S0OrZRoyz"
      },
      "source": [
        "#----------------------------SupernovaeDetectionFeatureExtractor-------------------------------------------------------\n",
        "# detections_df has missing columns: SupernovaeDetectionFeatureExtractor requires ('isdiffpos', 'magnitude', 'time', 'band')\n",
        "#Le cambiamos los nombres a las columnas correspondientes pues este extractor necesita de estas columnas para funcionar\n",
        "detections_df= Datos_Final .rename(columns={'magpsf':'magnitude','mjd':'time', 'fid':'band'})\n",
        "feature_extractor = SupernovaeDetectionFeatureExtractor(bands=(1, 2))\n",
        "features = feature_extractor.compute_features(detections = detections_df)\n",
        "\n",
        "#----------------------------IQREXTRACTOR------------------------------------------------------------------------------\n",
        "\n",
        "detections_df3 = Datos_Final.rename(columns={'magpsf':'magnitude','mjd':'time', 'fid':'band'})\n",
        "feature_extractor3 = IQRExtractor(bands=(1, 2))\n",
        "features3 = feature_extractor3.compute_features(detections = detections_df3)\n",
        "\n",
        "df = features.join(features3)"
      ],
      "id": "oM4S0OrZRoyz",
      "execution_count": null,
      "outputs": []
    },
    {
      "cell_type": "code",
      "metadata": {
        "colab": {
          "base_uri": "https://localhost:8080/",
          "height": 471
        },
        "id": "EcbdFFPIFk5q",
        "outputId": "a725f6e3-8aa7-4388-f0e1-2a9d9af5be4e"
      },
      "source": [
        "df"
      ],
      "id": "EcbdFFPIFk5q",
      "execution_count": null,
      "outputs": [
        {
          "output_type": "execute_result",
          "data": {
            "text/html": [
              "<div>\n",
              "<style scoped>\n",
              "    .dataframe tbody tr th:only-of-type {\n",
              "        vertical-align: middle;\n",
              "    }\n",
              "\n",
              "    .dataframe tbody tr th {\n",
              "        vertical-align: top;\n",
              "    }\n",
              "\n",
              "    .dataframe thead th {\n",
              "        text-align: right;\n",
              "    }\n",
              "</style>\n",
              "<table border=\"1\" class=\"dataframe\">\n",
              "  <thead>\n",
              "    <tr style=\"text-align: right;\">\n",
              "      <th></th>\n",
              "      <th>delta_mag_fid_1</th>\n",
              "      <th>delta_mjd_fid_1</th>\n",
              "      <th>first_mag_1</th>\n",
              "      <th>mean_mag_1</th>\n",
              "      <th>min_mag_1</th>\n",
              "      <th>n_det_1</th>\n",
              "      <th>n_neg_1</th>\n",
              "      <th>n_pos_1</th>\n",
              "      <th>positive_fraction_1</th>\n",
              "      <th>delta_mag_fid_2</th>\n",
              "      <th>delta_mjd_fid_2</th>\n",
              "      <th>first_mag_2</th>\n",
              "      <th>mean_mag_2</th>\n",
              "      <th>min_mag_2</th>\n",
              "      <th>n_det_2</th>\n",
              "      <th>n_neg_2</th>\n",
              "      <th>n_pos_2</th>\n",
              "      <th>positive_fraction_2</th>\n",
              "      <th>iqr_1</th>\n",
              "      <th>iqr_2</th>\n",
              "    </tr>\n",
              "    <tr>\n",
              "      <th>oid</th>\n",
              "      <th></th>\n",
              "      <th></th>\n",
              "      <th></th>\n",
              "      <th></th>\n",
              "      <th></th>\n",
              "      <th></th>\n",
              "      <th></th>\n",
              "      <th></th>\n",
              "      <th></th>\n",
              "      <th></th>\n",
              "      <th></th>\n",
              "      <th></th>\n",
              "      <th></th>\n",
              "      <th></th>\n",
              "      <th></th>\n",
              "      <th></th>\n",
              "      <th></th>\n",
              "      <th></th>\n",
              "      <th></th>\n",
              "      <th></th>\n",
              "    </tr>\n",
              "  </thead>\n",
              "  <tbody>\n",
              "    <tr>\n",
              "      <th>ZTF17aadlxmv</th>\n",
              "      <td>2.244800</td>\n",
              "      <td>42.055613</td>\n",
              "      <td>19.879980</td>\n",
              "      <td>19.087656</td>\n",
              "      <td>17.947500</td>\n",
              "      <td>18.0</td>\n",
              "      <td>0.0</td>\n",
              "      <td>18.0</td>\n",
              "      <td>1.0</td>\n",
              "      <td>1.847730</td>\n",
              "      <td>48.854525</td>\n",
              "      <td>19.799040</td>\n",
              "      <td>18.540755</td>\n",
              "      <td>17.951310</td>\n",
              "      <td>36.0</td>\n",
              "      <td>0.0</td>\n",
              "      <td>36.0</td>\n",
              "      <td>1.0</td>\n",
              "      <td>0.946885</td>\n",
              "      <td>0.657760</td>\n",
              "    </tr>\n",
              "    <tr>\n",
              "      <th>ZTF18aaaqexr</th>\n",
              "      <td>0.896138</td>\n",
              "      <td>18.870671</td>\n",
              "      <td>19.133900</td>\n",
              "      <td>18.977915</td>\n",
              "      <td>18.447520</td>\n",
              "      <td>9.0</td>\n",
              "      <td>0.0</td>\n",
              "      <td>9.0</td>\n",
              "      <td>1.0</td>\n",
              "      <td>0.191736</td>\n",
              "      <td>10.058981</td>\n",
              "      <td>18.633383</td>\n",
              "      <td>18.729251</td>\n",
              "      <td>18.633383</td>\n",
              "      <td>2.0</td>\n",
              "      <td>0.0</td>\n",
              "      <td>2.0</td>\n",
              "      <td>1.0</td>\n",
              "      <td>0.487402</td>\n",
              "      <td>0.095868</td>\n",
              "    </tr>\n",
              "    <tr>\n",
              "      <th>ZTF18aacdbzx</th>\n",
              "      <td>0.495977</td>\n",
              "      <td>19.991725</td>\n",
              "      <td>19.741877</td>\n",
              "      <td>19.620142</td>\n",
              "      <td>19.432064</td>\n",
              "      <td>14.0</td>\n",
              "      <td>0.0</td>\n",
              "      <td>14.0</td>\n",
              "      <td>1.0</td>\n",
              "      <td>0.786995</td>\n",
              "      <td>27.982234</td>\n",
              "      <td>19.321800</td>\n",
              "      <td>19.284748</td>\n",
              "      <td>19.027960</td>\n",
              "      <td>20.0</td>\n",
              "      <td>0.0</td>\n",
              "      <td>20.0</td>\n",
              "      <td>1.0</td>\n",
              "      <td>0.268495</td>\n",
              "      <td>0.257782</td>\n",
              "    </tr>\n",
              "    <tr>\n",
              "      <th>ZTF18aadmssd</th>\n",
              "      <td>3.293953</td>\n",
              "      <td>59.951100</td>\n",
              "      <td>16.887047</td>\n",
              "      <td>18.581230</td>\n",
              "      <td>16.887047</td>\n",
              "      <td>16.0</td>\n",
              "      <td>0.0</td>\n",
              "      <td>16.0</td>\n",
              "      <td>1.0</td>\n",
              "      <td>2.170098</td>\n",
              "      <td>76.909931</td>\n",
              "      <td>16.508772</td>\n",
              "      <td>17.551116</td>\n",
              "      <td>16.508772</td>\n",
              "      <td>30.0</td>\n",
              "      <td>0.0</td>\n",
              "      <td>30.0</td>\n",
              "      <td>1.0</td>\n",
              "      <td>1.525995</td>\n",
              "      <td>0.901432</td>\n",
              "    </tr>\n",
              "    <tr>\n",
              "      <th>ZTF18aadzfso</th>\n",
              "      <td>1.371363</td>\n",
              "      <td>32.999224</td>\n",
              "      <td>19.840900</td>\n",
              "      <td>19.273643</td>\n",
              "      <td>18.476837</td>\n",
              "      <td>24.0</td>\n",
              "      <td>0.0</td>\n",
              "      <td>24.0</td>\n",
              "      <td>1.0</td>\n",
              "      <td>0.797367</td>\n",
              "      <td>36.979248</td>\n",
              "      <td>19.220867</td>\n",
              "      <td>18.851365</td>\n",
              "      <td>18.423500</td>\n",
              "      <td>30.0</td>\n",
              "      <td>0.0</td>\n",
              "      <td>30.0</td>\n",
              "      <td>1.0</td>\n",
              "      <td>0.784556</td>\n",
              "      <td>0.338915</td>\n",
              "    </tr>\n",
              "    <tr>\n",
              "      <th>...</th>\n",
              "      <td>...</td>\n",
              "      <td>...</td>\n",
              "      <td>...</td>\n",
              "      <td>...</td>\n",
              "      <td>...</td>\n",
              "      <td>...</td>\n",
              "      <td>...</td>\n",
              "      <td>...</td>\n",
              "      <td>...</td>\n",
              "      <td>...</td>\n",
              "      <td>...</td>\n",
              "      <td>...</td>\n",
              "      <td>...</td>\n",
              "      <td>...</td>\n",
              "      <td>...</td>\n",
              "      <td>...</td>\n",
              "      <td>...</td>\n",
              "      <td>...</td>\n",
              "      <td>...</td>\n",
              "      <td>...</td>\n",
              "    </tr>\n",
              "    <tr>\n",
              "      <th>ZTF20abgbxfm</th>\n",
              "      <td>2.981503</td>\n",
              "      <td>68.950197</td>\n",
              "      <td>18.893476</td>\n",
              "      <td>19.555296</td>\n",
              "      <td>18.296597</td>\n",
              "      <td>58.0</td>\n",
              "      <td>0.0</td>\n",
              "      <td>58.0</td>\n",
              "      <td>1.0</td>\n",
              "      <td>2.216758</td>\n",
              "      <td>69.925914</td>\n",
              "      <td>18.943254</td>\n",
              "      <td>19.493850</td>\n",
              "      <td>18.398882</td>\n",
              "      <td>76.0</td>\n",
              "      <td>0.0</td>\n",
              "      <td>76.0</td>\n",
              "      <td>1.0</td>\n",
              "      <td>1.599315</td>\n",
              "      <td>1.306183</td>\n",
              "    </tr>\n",
              "    <tr>\n",
              "      <th>ZTF20abgdtmv</th>\n",
              "      <td>2.669654</td>\n",
              "      <td>33.020729</td>\n",
              "      <td>18.728144</td>\n",
              "      <td>20.046770</td>\n",
              "      <td>18.663546</td>\n",
              "      <td>26.0</td>\n",
              "      <td>0.0</td>\n",
              "      <td>26.0</td>\n",
              "      <td>1.0</td>\n",
              "      <td>1.719614</td>\n",
              "      <td>41.949225</td>\n",
              "      <td>19.138718</td>\n",
              "      <td>19.480131</td>\n",
              "      <td>18.640238</td>\n",
              "      <td>40.0</td>\n",
              "      <td>0.0</td>\n",
              "      <td>40.0</td>\n",
              "      <td>1.0</td>\n",
              "      <td>1.793608</td>\n",
              "      <td>0.759853</td>\n",
              "    </tr>\n",
              "    <tr>\n",
              "      <th>ZTF20abgfekk</th>\n",
              "      <td>1.627867</td>\n",
              "      <td>31.928044</td>\n",
              "      <td>19.095242</td>\n",
              "      <td>17.742374</td>\n",
              "      <td>17.467375</td>\n",
              "      <td>32.0</td>\n",
              "      <td>0.0</td>\n",
              "      <td>32.0</td>\n",
              "      <td>1.0</td>\n",
              "      <td>1.534458</td>\n",
              "      <td>31.981505</td>\n",
              "      <td>19.148731</td>\n",
              "      <td>17.866029</td>\n",
              "      <td>17.614273</td>\n",
              "      <td>40.0</td>\n",
              "      <td>0.0</td>\n",
              "      <td>40.0</td>\n",
              "      <td>1.0</td>\n",
              "      <td>0.298659</td>\n",
              "      <td>0.155161</td>\n",
              "    </tr>\n",
              "    <tr>\n",
              "      <th>ZTF20abgfljj</th>\n",
              "      <td>1.344170</td>\n",
              "      <td>21.932766</td>\n",
              "      <td>19.791739</td>\n",
              "      <td>19.019873</td>\n",
              "      <td>18.447569</td>\n",
              "      <td>26.0</td>\n",
              "      <td>0.0</td>\n",
              "      <td>26.0</td>\n",
              "      <td>1.0</td>\n",
              "      <td>2.227105</td>\n",
              "      <td>27.966875</td>\n",
              "      <td>20.729300</td>\n",
              "      <td>19.181055</td>\n",
              "      <td>18.502195</td>\n",
              "      <td>26.0</td>\n",
              "      <td>0.0</td>\n",
              "      <td>26.0</td>\n",
              "      <td>1.0</td>\n",
              "      <td>0.701799</td>\n",
              "      <td>0.565908</td>\n",
              "    </tr>\n",
              "    <tr>\n",
              "      <th>ZTF20abhvnzc</th>\n",
              "      <td>1.237353</td>\n",
              "      <td>14.989954</td>\n",
              "      <td>18.093634</td>\n",
              "      <td>18.536102</td>\n",
              "      <td>17.967752</td>\n",
              "      <td>18.0</td>\n",
              "      <td>0.0</td>\n",
              "      <td>18.0</td>\n",
              "      <td>1.0</td>\n",
              "      <td>1.040403</td>\n",
              "      <td>18.047570</td>\n",
              "      <td>18.119090</td>\n",
              "      <td>18.073652</td>\n",
              "      <td>17.615452</td>\n",
              "      <td>20.0</td>\n",
              "      <td>0.0</td>\n",
              "      <td>20.0</td>\n",
              "      <td>1.0</td>\n",
              "      <td>0.982276</td>\n",
              "      <td>0.679654</td>\n",
              "    </tr>\n",
              "  </tbody>\n",
              "</table>\n",
              "<p>2068 rows × 20 columns</p>\n",
              "</div>"
            ],
            "text/plain": [
              "              delta_mag_fid_1  delta_mjd_fid_1  ...     iqr_1     iqr_2\n",
              "oid                                             ...                    \n",
              "ZTF17aadlxmv         2.244800        42.055613  ...  0.946885  0.657760\n",
              "ZTF18aaaqexr         0.896138        18.870671  ...  0.487402  0.095868\n",
              "ZTF18aacdbzx         0.495977        19.991725  ...  0.268495  0.257782\n",
              "ZTF18aadmssd         3.293953        59.951100  ...  1.525995  0.901432\n",
              "ZTF18aadzfso         1.371363        32.999224  ...  0.784556  0.338915\n",
              "...                       ...              ...  ...       ...       ...\n",
              "ZTF20abgbxfm         2.981503        68.950197  ...  1.599315  1.306183\n",
              "ZTF20abgdtmv         2.669654        33.020729  ...  1.793608  0.759853\n",
              "ZTF20abgfekk         1.627867        31.928044  ...  0.298659  0.155161\n",
              "ZTF20abgfljj         1.344170        21.932766  ...  0.701799  0.565908\n",
              "ZTF20abhvnzc         1.237353        14.989954  ...  0.982276  0.679654\n",
              "\n",
              "[2068 rows x 20 columns]"
            ]
          },
          "metadata": {},
          "execution_count": 129
        }
      ]
    },
    {
      "cell_type": "code",
      "metadata": {
        "id": "hw-0FbmxBVti"
      },
      "source": [
        "#----------------------------SNParametricModelExtractor----------------------------POR REVISAR--------------------------------------------------\n",
        "# Atributos requeridos para ocupar el segundo extractor de caracteristicas: SNParametricModelExtractor\n",
        "# \"diff_flux\", \"diff_err\", \"time\", \"band\", \"magnitude\"\n",
        "# Falta comporbar que efectivamente el dataframe detections_df2 cuente con esas columnas\n",
        "detections_df2= Datos_Final.rename(columns={'mjd':'time', 'fid':'band'})\n",
        "feature_extractor2 = SNParametricModelExtractor(bands=(1, 2))\n",
        "features2 = feature_extractor2.compute_features(detections = detections_df2)"
      ],
      "id": "hw-0FbmxBVti",
      "execution_count": null,
      "outputs": []
    },
    {
      "cell_type": "code",
      "metadata": {
        "id": "JhuBXpT-FOtU"
      },
      "source": [
        "df = df.reset_index()"
      ],
      "id": "JhuBXpT-FOtU",
      "execution_count": null,
      "outputs": []
    },
    {
      "cell_type": "markdown",
      "metadata": {
        "id": "Ieqnu5x-L1K_"
      },
      "source": [
        "# Separación del conjunto en ENTRENAMIENTO y TEST: \n",
        "Dividiremos el conjunto en 70% para entrenamiento y 30% para test"
      ],
      "id": "Ieqnu5x-L1K_"
    },
    {
      "cell_type": "code",
      "metadata": {
        "id": "LHWw-RCWdFfg"
      },
      "source": [
        "from sklearn.utils import shuffle\n",
        "\n",
        "#Datos_Final.set_index(\"objectId\", inplace = True)\n",
        "\n",
        "#--------------------le agregamos la clase que le corresponde a cada registro---------------------------\n",
        "df_con_target = pd.merge(df, dfcrossmatches[['oid','classALeRCE']], left_on='oid', right_on='oid')\n",
        "\n",
        "#--------------------Mezclamos los datos de tal manera de poder tomar muestras representativas del conjunto-----------------\n",
        "df_shuffle = shuffle(df_con_target)\n",
        "\n",
        "#--------------------Eliminamos los NaN en caso de que aun queden -------------------------------------------------\n",
        "df_shuffle = df_shuffle.dropna()"
      ],
      "id": "LHWw-RCWdFfg",
      "execution_count": null,
      "outputs": []
    },
    {
      "cell_type": "code",
      "metadata": {
        "colab": {
          "base_uri": "https://localhost:8080/",
          "height": 224
        },
        "id": "u4ZYwrmVFwZo",
        "outputId": "83437888-b998-41e5-82cd-2ff022cab3f2"
      },
      "source": [
        "df_shuffle.head()"
      ],
      "id": "u4ZYwrmVFwZo",
      "execution_count": null,
      "outputs": [
        {
          "output_type": "execute_result",
          "data": {
            "text/html": [
              "<div>\n",
              "<style scoped>\n",
              "    .dataframe tbody tr th:only-of-type {\n",
              "        vertical-align: middle;\n",
              "    }\n",
              "\n",
              "    .dataframe tbody tr th {\n",
              "        vertical-align: top;\n",
              "    }\n",
              "\n",
              "    .dataframe thead th {\n",
              "        text-align: right;\n",
              "    }\n",
              "</style>\n",
              "<table border=\"1\" class=\"dataframe\">\n",
              "  <thead>\n",
              "    <tr style=\"text-align: right;\">\n",
              "      <th></th>\n",
              "      <th>oid</th>\n",
              "      <th>delta_mag_fid_1</th>\n",
              "      <th>delta_mjd_fid_1</th>\n",
              "      <th>first_mag_1</th>\n",
              "      <th>mean_mag_1</th>\n",
              "      <th>min_mag_1</th>\n",
              "      <th>n_det_1</th>\n",
              "      <th>n_neg_1</th>\n",
              "      <th>n_pos_1</th>\n",
              "      <th>positive_fraction_1</th>\n",
              "      <th>delta_mag_fid_2</th>\n",
              "      <th>delta_mjd_fid_2</th>\n",
              "      <th>first_mag_2</th>\n",
              "      <th>mean_mag_2</th>\n",
              "      <th>min_mag_2</th>\n",
              "      <th>n_det_2</th>\n",
              "      <th>n_neg_2</th>\n",
              "      <th>n_pos_2</th>\n",
              "      <th>positive_fraction_2</th>\n",
              "      <th>iqr_1</th>\n",
              "      <th>iqr_2</th>\n",
              "      <th>classALeRCE</th>\n",
              "    </tr>\n",
              "  </thead>\n",
              "  <tbody>\n",
              "    <tr>\n",
              "      <th>914</th>\n",
              "      <td>ZTF19aaxibby</td>\n",
              "      <td>2.070466</td>\n",
              "      <td>52.996956</td>\n",
              "      <td>19.375574</td>\n",
              "      <td>19.091214</td>\n",
              "      <td>18.297934</td>\n",
              "      <td>18.0</td>\n",
              "      <td>0.0</td>\n",
              "      <td>18.0</td>\n",
              "      <td>1.0</td>\n",
              "      <td>1.927104</td>\n",
              "      <td>65.982280</td>\n",
              "      <td>20.325400</td>\n",
              "      <td>19.177229</td>\n",
              "      <td>18.398296</td>\n",
              "      <td>26.0</td>\n",
              "      <td>0.0</td>\n",
              "      <td>26.0</td>\n",
              "      <td>1.0</td>\n",
              "      <td>0.810902</td>\n",
              "      <td>1.031408</td>\n",
              "      <td>SNIa</td>\n",
              "    </tr>\n",
              "    <tr>\n",
              "      <th>1985</th>\n",
              "      <td>ZTF20abaunmw</td>\n",
              "      <td>2.495591</td>\n",
              "      <td>32.902778</td>\n",
              "      <td>20.032300</td>\n",
              "      <td>19.431301</td>\n",
              "      <td>18.289309</td>\n",
              "      <td>18.0</td>\n",
              "      <td>0.0</td>\n",
              "      <td>18.0</td>\n",
              "      <td>1.0</td>\n",
              "      <td>1.786055</td>\n",
              "      <td>53.979132</td>\n",
              "      <td>20.024954</td>\n",
              "      <td>19.283106</td>\n",
              "      <td>18.302187</td>\n",
              "      <td>20.0</td>\n",
              "      <td>0.0</td>\n",
              "      <td>20.0</td>\n",
              "      <td>1.0</td>\n",
              "      <td>1.431638</td>\n",
              "      <td>1.321582</td>\n",
              "      <td>SNIa</td>\n",
              "    </tr>\n",
              "    <tr>\n",
              "      <th>1462</th>\n",
              "      <td>ZTF19acszmgx</td>\n",
              "      <td>1.853600</td>\n",
              "      <td>92.664965</td>\n",
              "      <td>18.804360</td>\n",
              "      <td>19.525664</td>\n",
              "      <td>18.546000</td>\n",
              "      <td>26.0</td>\n",
              "      <td>0.0</td>\n",
              "      <td>26.0</td>\n",
              "      <td>1.0</td>\n",
              "      <td>0.783884</td>\n",
              "      <td>98.780938</td>\n",
              "      <td>18.738728</td>\n",
              "      <td>18.979927</td>\n",
              "      <td>18.693289</td>\n",
              "      <td>34.0</td>\n",
              "      <td>0.0</td>\n",
              "      <td>34.0</td>\n",
              "      <td>1.0</td>\n",
              "      <td>0.917822</td>\n",
              "      <td>0.361906</td>\n",
              "      <td>SNII</td>\n",
              "    </tr>\n",
              "    <tr>\n",
              "      <th>194</th>\n",
              "      <td>ZTF18abmmdif</td>\n",
              "      <td>1.587910</td>\n",
              "      <td>35.876609</td>\n",
              "      <td>19.802800</td>\n",
              "      <td>19.015860</td>\n",
              "      <td>18.274078</td>\n",
              "      <td>22.0</td>\n",
              "      <td>0.0</td>\n",
              "      <td>22.0</td>\n",
              "      <td>1.0</td>\n",
              "      <td>1.132700</td>\n",
              "      <td>44.847917</td>\n",
              "      <td>19.362675</td>\n",
              "      <td>18.946897</td>\n",
              "      <td>18.415188</td>\n",
              "      <td>30.0</td>\n",
              "      <td>0.0</td>\n",
              "      <td>30.0</td>\n",
              "      <td>1.0</td>\n",
              "      <td>0.832138</td>\n",
              "      <td>0.790012</td>\n",
              "      <td>SNIa</td>\n",
              "    </tr>\n",
              "    <tr>\n",
              "      <th>267</th>\n",
              "      <td>ZTF18abwktmm</td>\n",
              "      <td>2.016240</td>\n",
              "      <td>19.910579</td>\n",
              "      <td>20.291000</td>\n",
              "      <td>18.852977</td>\n",
              "      <td>18.274760</td>\n",
              "      <td>14.0</td>\n",
              "      <td>0.0</td>\n",
              "      <td>14.0</td>\n",
              "      <td>1.0</td>\n",
              "      <td>1.720738</td>\n",
              "      <td>50.818299</td>\n",
              "      <td>19.853842</td>\n",
              "      <td>19.043752</td>\n",
              "      <td>18.260908</td>\n",
              "      <td>12.0</td>\n",
              "      <td>0.0</td>\n",
              "      <td>12.0</td>\n",
              "      <td>1.0</td>\n",
              "      <td>0.744897</td>\n",
              "      <td>1.344507</td>\n",
              "      <td>SNIa</td>\n",
              "    </tr>\n",
              "  </tbody>\n",
              "</table>\n",
              "</div>"
            ],
            "text/plain": [
              "               oid  delta_mag_fid_1  ...     iqr_2  classALeRCE\n",
              "914   ZTF19aaxibby         2.070466  ...  1.031408         SNIa\n",
              "1985  ZTF20abaunmw         2.495591  ...  1.321582         SNIa\n",
              "1462  ZTF19acszmgx         1.853600  ...  0.361906         SNII\n",
              "194   ZTF18abmmdif         1.587910  ...  0.790012         SNIa\n",
              "267   ZTF18abwktmm         2.016240  ...  1.344507         SNIa\n",
              "\n",
              "[5 rows x 22 columns]"
            ]
          },
          "metadata": {},
          "execution_count": 133
        }
      ]
    },
    {
      "cell_type": "code",
      "metadata": {
        "id": "c634cy-6srxX"
      },
      "source": [
        "rows= df_shuffle.shape[0] \n",
        "\n",
        "# ENTRENAMIENTO DESDE 0 A int(rows*0.7)\n",
        "train = df_shuffle.iloc[0:int(rows*0.7)]\n",
        "\n",
        "# TEST DESDE int(rows*0.7) HASTA EL FINAL\n",
        "test = df_shuffle.iloc[int(rows*0.7):rows]"
      ],
      "id": "c634cy-6srxX",
      "execution_count": null,
      "outputs": []
    },
    {
      "cell_type": "code",
      "metadata": {
        "id": "nhOdgFzbtppg"
      },
      "source": [
        "target_entrenamiento = np.array(train['classALeRCE'])\n"
      ],
      "id": "nhOdgFzbtppg",
      "execution_count": null,
      "outputs": []
    },
    {
      "cell_type": "code",
      "metadata": {
        "id": "75A8W9MftrZy",
        "colab": {
          "base_uri": "https://localhost:8080/"
        },
        "outputId": "9b5bee1d-3a4a-43fb-b6aa-c27bfc9c6771"
      },
      "source": [
        "train_sin_target = train.iloc[:,1:20]\n",
        "print(train_sin_target.head())\n",
        "data = train_sin_target.to_numpy()\n",
        "print(data.shape)"
      ],
      "id": "75A8W9MftrZy",
      "execution_count": null,
      "outputs": [
        {
          "output_type": "stream",
          "name": "stdout",
          "text": [
            "      delta_mag_fid_1  delta_mjd_fid_1  ...  positive_fraction_2     iqr_1\n",
            "914          2.070466        52.996956  ...                  1.0  0.810902\n",
            "1985         2.495591        32.902778  ...                  1.0  1.431638\n",
            "1462         1.853600        92.664965  ...                  1.0  0.917822\n",
            "194          1.587910        35.876609  ...                  1.0  0.832138\n",
            "267          2.016240        19.910579  ...                  1.0  0.744897\n",
            "\n",
            "[5 rows x 19 columns]\n",
            "(1417, 19)\n"
          ]
        }
      ]
    },
    {
      "cell_type": "markdown",
      "metadata": {
        "id": "7iZhS_IzKy4O"
      },
      "source": [
        "# Matriz de covarianza: Veamos la matriz de correlación, para ver que tan relacionados estan los datos\n",
        "\n",
        "\n",
        "\n",
        "Nos permite visualizar de forma gráfica que tan correlacionados estan las caracteristicas extraidas por los extractores."
      ],
      "id": "7iZhS_IzKy4O"
    },
    {
      "cell_type": "code",
      "metadata": {
        "id": "X8HfkAIp2B8D",
        "colab": {
          "base_uri": "https://localhost:8080/",
          "height": 788
        },
        "outputId": "41f9e080-65f2-47f0-95a3-ea445a53ed97"
      },
      "source": [
        "import seaborn as sns\n",
        "\n",
        "# taking all rows but only 6 columns\n",
        "df_small = df.iloc[:,1:20]\n",
        "\n",
        "correlation_mat = df_small.corr()\n",
        "\n",
        "plt.figure(figsize=(12,12))\n",
        "sns.heatmap(correlation_mat, annot = True)\n",
        "\n",
        "plt.show()"
      ],
      "id": "X8HfkAIp2B8D",
      "execution_count": null,
      "outputs": [
        {
          "output_type": "display_data",
          "data": {
            "image/png": "[encoded data removed]",
            "text/plain": [
              "<Figure size 864x864 with 2 Axes>"
            ]
          },
          "metadata": {
            "needs_background": "light"
          }
        }
      ]
    },
    {
      "cell_type": "markdown",
      "metadata": {
        "id": "Sieb4ZkZXnF3"
      },
      "source": [
        "# Analisis de componentes principales PCA: algoritmo que nos permite reducir la dimensionalidad de los datos."
      ],
      "id": "Sieb4ZkZXnF3"
    },
    {
      "cell_type": "code",
      "metadata": {
        "id": "xHQxkEC5Jy9y",
        "colab": {
          "base_uri": "https://localhost:8080/",
          "height": 315
        },
        "outputId": "bc3130e1-3c8e-46af-a92f-2a48554dd18c"
      },
      "source": [
        "from sklearn.preprocessing import StandardScaler\n",
        "import matplotlib.pyplot as plt\n",
        "from sklearn.decomposition import PCA\n",
        "\n",
        "X = np.array(Datos_Final[['isdiffpos','magpsf','mjd','magpsf_corr','sigmapsf','sigmapsf_corr','fid','sigmapsf']])\n",
        "# 'objectId','classALeRCE'\n",
        "y = np.array(Datos_Final['classALeRCE'])\n",
        "# Standardizing the features\n",
        "x = StandardScaler().fit_transform(X)\n",
        "\n",
        "pca = PCA()\n",
        "arreglo = pca.fit_transform(x)\n",
        "df = pd.DataFrame(arreglo)\n",
        "\n",
        "fig = plt.figure()\n",
        "plt.title('PCA de los datos')\n",
        "fig.patch.set_facecolor('white')\n",
        "plt.scatter(df[0], df[1],s=100,alpha=0.5)\n",
        "plt.xlabel(\"First Principal Component\",fontsize=14)\n",
        "plt.ylabel(\"Second Principal Component\",fontsize=14)"
      ],
      "id": "xHQxkEC5Jy9y",
      "execution_count": null,
      "outputs": [
        {
          "output_type": "execute_result",
          "data": {
            "text/plain": [
              "Text(0, 0.5, 'Second Principal Component')"
            ]
          },
          "metadata": {},
          "execution_count": 138
        },
        {
          "output_type": "display_data",
          "data": {
            "image/png": "[encoded data removed]",
            "text/plain": [
              "<Figure size 432x288 with 1 Axes>"
            ]
          },
          "metadata": {}
        }
      ]
    },
    {
      "cell_type": "markdown",
      "metadata": {
        "id": "YAxF43M74taA"
      },
      "source": [
        "# Clasificación preliminar, utilizando arboles de decisión:"
      ],
      "id": "YAxF43M74taA"
    },
    {
      "cell_type": "code",
      "metadata": {
        "id": "HFoxpbdt7H36"
      },
      "source": [
        "from sklearn.decomposition import PCA\n",
        "from sklearn.tree import DecisionTreeClassifier"
      ],
      "id": "HFoxpbdt7H36",
      "execution_count": null,
      "outputs": []
    },
    {
      "cell_type": "code",
      "metadata": {
        "colab": {
          "base_uri": "https://localhost:8080/",
          "height": 420
        },
        "id": "w0GJ3rbWzeP9",
        "outputId": "32608a48-2c57-4518-a426-46e6d60eaf48"
      },
      "source": [
        "classifier = DecisionTreeClassifier()\n",
        "\n",
        "#-----------------------ENTRENAMIENTO-----------------------------------------\n",
        "classifier.fit(data,target_entrenamiento)\n",
        "\n",
        "\n",
        "#------------------SE PRUEBA EL CLASIFICADOR----------------------------------\n",
        "# predict new data:\n",
        "test_sin_target = test.iloc[:,1:20]\n",
        "#pues solo usaremos el target para comprobar la eficacia de la predicción\n",
        "newdata = test_sin_target.to_numpy()\n",
        "pred_labels = classifier.predict(newdata)\n",
        "\n",
        "\n",
        "pred_labels_df = pd.DataFrame(pred_labels,columns=['pred_labels']) \n",
        "pred_labels_df.index = list(test[\"oid\"])\n",
        "pred_labels_df = pred_labels_df.reset_index()\n",
        "pred_labels_df_n  = pred_labels_df.rename(columns={'index':'oid'})\n",
        "comparacion_resultados = pd.merge(pred_labels_df_n, dfcrossmatches[['oid','classALeRCE']], left_on='oid', right_on='oid')\n",
        "comparacion_resultados"
      ],
      "id": "w0GJ3rbWzeP9",
      "execution_count": null,
      "outputs": [
        {
          "output_type": "execute_result",
          "data": {
            "text/html": [
              "<div>\n",
              "<style scoped>\n",
              "    .dataframe tbody tr th:only-of-type {\n",
              "        vertical-align: middle;\n",
              "    }\n",
              "\n",
              "    .dataframe tbody tr th {\n",
              "        vertical-align: top;\n",
              "    }\n",
              "\n",
              "    .dataframe thead th {\n",
              "        text-align: right;\n",
              "    }\n",
              "</style>\n",
              "<table border=\"1\" class=\"dataframe\">\n",
              "  <thead>\n",
              "    <tr style=\"text-align: right;\">\n",
              "      <th></th>\n",
              "      <th>oid</th>\n",
              "      <th>pred_labels</th>\n",
              "      <th>classALeRCE</th>\n",
              "    </tr>\n",
              "  </thead>\n",
              "  <tbody>\n",
              "    <tr>\n",
              "      <th>0</th>\n",
              "      <td>ZTF19aaleptm</td>\n",
              "      <td>SNII</td>\n",
              "      <td>SNIa</td>\n",
              "    </tr>\n",
              "    <tr>\n",
              "      <th>1</th>\n",
              "      <td>ZTF19aauxmqj</td>\n",
              "      <td>SNIa</td>\n",
              "      <td>SNIa</td>\n",
              "    </tr>\n",
              "    <tr>\n",
              "      <th>2</th>\n",
              "      <td>ZTF19aavjzwm</td>\n",
              "      <td>SNII</td>\n",
              "      <td>SNII</td>\n",
              "    </tr>\n",
              "    <tr>\n",
              "      <th>3</th>\n",
              "      <td>ZTF18aazblzy</td>\n",
              "      <td>SNIa</td>\n",
              "      <td>SNIa</td>\n",
              "    </tr>\n",
              "    <tr>\n",
              "      <th>4</th>\n",
              "      <td>ZTF18acqwdla</td>\n",
              "      <td>SNII</td>\n",
              "      <td>SNII</td>\n",
              "    </tr>\n",
              "    <tr>\n",
              "      <th>...</th>\n",
              "      <td>...</td>\n",
              "      <td>...</td>\n",
              "      <td>...</td>\n",
              "    </tr>\n",
              "    <tr>\n",
              "      <th>603</th>\n",
              "      <td>ZTF19aavkvpw</td>\n",
              "      <td>SNIa</td>\n",
              "      <td>SNIbc</td>\n",
              "    </tr>\n",
              "    <tr>\n",
              "      <th>604</th>\n",
              "      <td>ZTF19abimkwn</td>\n",
              "      <td>SNIa</td>\n",
              "      <td>SNIa</td>\n",
              "    </tr>\n",
              "    <tr>\n",
              "      <th>605</th>\n",
              "      <td>ZTF19acjerdh</td>\n",
              "      <td>SNIa</td>\n",
              "      <td>SNIa</td>\n",
              "    </tr>\n",
              "    <tr>\n",
              "      <th>606</th>\n",
              "      <td>ZTF19abrdliq</td>\n",
              "      <td>SNIbc</td>\n",
              "      <td>SNIa</td>\n",
              "    </tr>\n",
              "    <tr>\n",
              "      <th>607</th>\n",
              "      <td>ZTF19abecaca</td>\n",
              "      <td>SNII</td>\n",
              "      <td>SNIIn</td>\n",
              "    </tr>\n",
              "  </tbody>\n",
              "</table>\n",
              "<p>608 rows × 3 columns</p>\n",
              "</div>"
            ],
            "text/plain": [
              "              oid pred_labels classALeRCE\n",
              "0    ZTF19aaleptm        SNII        SNIa\n",
              "1    ZTF19aauxmqj        SNIa        SNIa\n",
              "2    ZTF19aavjzwm        SNII        SNII\n",
              "3    ZTF18aazblzy        SNIa        SNIa\n",
              "4    ZTF18acqwdla        SNII        SNII\n",
              "..            ...         ...         ...\n",
              "603  ZTF19aavkvpw        SNIa       SNIbc\n",
              "604  ZTF19abimkwn        SNIa        SNIa\n",
              "605  ZTF19acjerdh        SNIa        SNIa\n",
              "606  ZTF19abrdliq       SNIbc        SNIa\n",
              "607  ZTF19abecaca        SNII       SNIIn\n",
              "\n",
              "[608 rows x 3 columns]"
            ]
          },
          "metadata": {},
          "execution_count": 140
        }
      ]
    },
    {
      "cell_type": "markdown",
      "metadata": {
        "id": "NZr80gNDF5Od"
      },
      "source": [
        "# RESULTADOS CLASIFICACIÓN PRELIMINAR"
      ],
      "id": "NZr80gNDF5Od"
    },
    {
      "cell_type": "code",
      "metadata": {
        "colab": {
          "base_uri": "https://localhost:8080/"
        },
        "id": "g-evHjZ30L2f",
        "outputId": "c4556a59-f51e-4daa-ab25-f07b56925494"
      },
      "source": [
        "iguales = sum([comparacion_resultados['pred_labels']==comparacion_resultados['classALeRCE']])\n",
        "total = iguales.shape[0] \n",
        "print('N° de aciertos usando arboles de decisión como clasificador:')\n",
        "print( f'N° de aciertos: {iguales.sum()}, N° de errores: {total-iguales.sum()}')\n",
        "print(f'Porcentaje de clasificaciones correctas: {\"{:.2f}\".format((iguales.sum()/total)*100)}% \\nPorcentaje de clasificaciones incorrectas: {\"{:.2f}\".format(((total-iguales.sum())/total)*100)}%')"
      ],
      "id": "g-evHjZ30L2f",
      "execution_count": null,
      "outputs": [
        {
          "output_type": "stream",
          "name": "stdout",
          "text": [
            "N° de aciertos usando arboles de decisión como clasificador:\n",
            "N° de aciertos: 452, N° de errores: 156\n",
            "Porcentaje de clasificaciones correctas: 74.34% \n",
            "Porcentaje de clasificaciones incorrectas: 25.66%\n"
          ]
        }
      ]
    },
    {
      "cell_type": "markdown",
      "metadata": {
        "id": "sD_-jrS2ehXd"
      },
      "source": [
        "# Clasificación preliminar, utilizando arboles de decisión y un previo PCA() a los datos:\n",
        "Ejemplo uso Pca antes de la clasificacion"
      ],
      "id": "sD_-jrS2ehXd"
    },
    {
      "cell_type": "code",
      "metadata": {
        "id": "wngSJXBEegW5",
        "colab": {
          "base_uri": "https://localhost:8080/"
        },
        "outputId": "0105f31e-1efe-4e1e-8759-9d046eb8337e"
      },
      "source": [
        "# initiate PCA and classifier\n",
        "pca = PCA()\n",
        "classifier_para_pca = DecisionTreeClassifier()\n",
        "\n",
        "\n",
        "# transform / fit\n",
        "X_transformed = pca.fit_transform(data)\n",
        "classifier_para_pca.fit(X_transformed, target_entrenamiento)\n"
      ],
      "id": "wngSJXBEegW5",
      "execution_count": null,
      "outputs": [
        {
          "output_type": "execute_result",
          "data": {
            "text/plain": [
              "DecisionTreeClassifier()"
            ]
          },
          "metadata": {},
          "execution_count": 142
        }
      ]
    },
    {
      "cell_type": "code",
      "metadata": {
        "id": "ofSlmj2TH-YR",
        "colab": {
          "base_uri": "https://localhost:8080/",
          "height": 315
        },
        "outputId": "712dd8d6-a163-43e3-f372-6701fcdac46a"
      },
      "source": [
        "#-----------------PCA DE LAS FEATURES/CARACTERISTICAS-----------------------------\n",
        "graficar_pca = pd.DataFrame(X_transformed)\n",
        "fig1 = plt.figure()\n",
        "plt.title('PCA')\n",
        "fig1.patch.set_facecolor('white')\n",
        "plt.scatter(graficar_pca[0], graficar_pca[1],s=100,alpha=0.5)\n",
        "plt.title(\"PCA de las features\")\n",
        "plt.xlabel(\"First Principal Component\",fontsize=14)\n",
        "plt.ylabel(\"Second Principal Component\",fontsize=14)\n",
        "\n"
      ],
      "id": "ofSlmj2TH-YR",
      "execution_count": null,
      "outputs": [
        {
          "output_type": "execute_result",
          "data": {
            "text/plain": [
              "Text(0, 0.5, 'Second Principal Component')"
            ]
          },
          "metadata": {},
          "execution_count": 143
        },
        {
          "output_type": "display_data",
          "data": {
            "image/png": "[encoded data removed]",
            "text/plain": [
              "<Figure size 432x288 with 1 Axes>"
            ]
          },
          "metadata": {}
        }
      ]
    },
    {
      "cell_type": "code",
      "metadata": {
        "id": "PvjPM_l9wPy-"
      },
      "source": [
        "# transform new data using already fitted pca\n",
        "# (don't re-fit the pca)\n",
        "newdata_transformed = pca.transform(newdata)\n",
        "\n",
        "# predict labels using the trained classifier\n",
        "\n",
        "pred_labels_pca = classifier_para_pca.predict(newdata_transformed)"
      ],
      "id": "PvjPM_l9wPy-",
      "execution_count": null,
      "outputs": []
    },
    {
      "cell_type": "code",
      "metadata": {
        "id": "y0Vvoc3fxDPA"
      },
      "source": [
        "pred_labels_df_pca = pd.DataFrame(pred_labels_pca,columns=['pred_labels']) "
      ],
      "id": "y0Vvoc3fxDPA",
      "execution_count": null,
      "outputs": []
    },
    {
      "cell_type": "code",
      "metadata": {
        "id": "He4qXBFjx9qW",
        "colab": {
          "base_uri": "https://localhost:8080/",
          "height": 420
        },
        "outputId": "2e71b220-9b8f-4351-f1f2-5500bcb1b233"
      },
      "source": [
        "pred_labels_df_pca.index = list(test[\"oid\"])\n",
        "pred_labels_df_pca = pred_labels_df_pca.reset_index()\n",
        "pred_labels_df_pca_n  = pred_labels_df_pca.rename(columns={'index':'oid'})\n",
        "comparacion_resultados_pca = pd.merge(pred_labels_df_pca_n, dfcrossmatches[['oid','classALeRCE']], left_on='oid', right_on='oid')\n",
        "comparacion_resultados_pca"
      ],
      "id": "He4qXBFjx9qW",
      "execution_count": null,
      "outputs": [
        {
          "output_type": "execute_result",
          "data": {
            "text/html": [
              "<div>\n",
              "<style scoped>\n",
              "    .dataframe tbody tr th:only-of-type {\n",
              "        vertical-align: middle;\n",
              "    }\n",
              "\n",
              "    .dataframe tbody tr th {\n",
              "        vertical-align: top;\n",
              "    }\n",
              "\n",
              "    .dataframe thead th {\n",
              "        text-align: right;\n",
              "    }\n",
              "</style>\n",
              "<table border=\"1\" class=\"dataframe\">\n",
              "  <thead>\n",
              "    <tr style=\"text-align: right;\">\n",
              "      <th></th>\n",
              "      <th>oid</th>\n",
              "      <th>pred_labels</th>\n",
              "      <th>classALeRCE</th>\n",
              "    </tr>\n",
              "  </thead>\n",
              "  <tbody>\n",
              "    <tr>\n",
              "      <th>0</th>\n",
              "      <td>ZTF19aaleptm</td>\n",
              "      <td>SNIa</td>\n",
              "      <td>SNIa</td>\n",
              "    </tr>\n",
              "    <tr>\n",
              "      <th>1</th>\n",
              "      <td>ZTF19aauxmqj</td>\n",
              "      <td>SNIa</td>\n",
              "      <td>SNIa</td>\n",
              "    </tr>\n",
              "    <tr>\n",
              "      <th>2</th>\n",
              "      <td>ZTF19aavjzwm</td>\n",
              "      <td>SNII</td>\n",
              "      <td>SNII</td>\n",
              "    </tr>\n",
              "    <tr>\n",
              "      <th>3</th>\n",
              "      <td>ZTF18aazblzy</td>\n",
              "      <td>SNIa</td>\n",
              "      <td>SNIa</td>\n",
              "    </tr>\n",
              "    <tr>\n",
              "      <th>4</th>\n",
              "      <td>ZTF18acqwdla</td>\n",
              "      <td>SNIa</td>\n",
              "      <td>SNII</td>\n",
              "    </tr>\n",
              "    <tr>\n",
              "      <th>...</th>\n",
              "      <td>...</td>\n",
              "      <td>...</td>\n",
              "      <td>...</td>\n",
              "    </tr>\n",
              "    <tr>\n",
              "      <th>603</th>\n",
              "      <td>ZTF19aavkvpw</td>\n",
              "      <td>SNIa</td>\n",
              "      <td>SNIbc</td>\n",
              "    </tr>\n",
              "    <tr>\n",
              "      <th>604</th>\n",
              "      <td>ZTF19abimkwn</td>\n",
              "      <td>SNIa</td>\n",
              "      <td>SNIa</td>\n",
              "    </tr>\n",
              "    <tr>\n",
              "      <th>605</th>\n",
              "      <td>ZTF19acjerdh</td>\n",
              "      <td>SNIa</td>\n",
              "      <td>SNIa</td>\n",
              "    </tr>\n",
              "    <tr>\n",
              "      <th>606</th>\n",
              "      <td>ZTF19abrdliq</td>\n",
              "      <td>SLSN</td>\n",
              "      <td>SNIa</td>\n",
              "    </tr>\n",
              "    <tr>\n",
              "      <th>607</th>\n",
              "      <td>ZTF19abecaca</td>\n",
              "      <td>SNII</td>\n",
              "      <td>SNIIn</td>\n",
              "    </tr>\n",
              "  </tbody>\n",
              "</table>\n",
              "<p>608 rows × 3 columns</p>\n",
              "</div>"
            ],
            "text/plain": [
              "              oid pred_labels classALeRCE\n",
              "0    ZTF19aaleptm        SNIa        SNIa\n",
              "1    ZTF19aauxmqj        SNIa        SNIa\n",
              "2    ZTF19aavjzwm        SNII        SNII\n",
              "3    ZTF18aazblzy        SNIa        SNIa\n",
              "4    ZTF18acqwdla        SNIa        SNII\n",
              "..            ...         ...         ...\n",
              "603  ZTF19aavkvpw        SNIa       SNIbc\n",
              "604  ZTF19abimkwn        SNIa        SNIa\n",
              "605  ZTF19acjerdh        SNIa        SNIa\n",
              "606  ZTF19abrdliq        SLSN        SNIa\n",
              "607  ZTF19abecaca        SNII       SNIIn\n",
              "\n",
              "[608 rows x 3 columns]"
            ]
          },
          "metadata": {},
          "execution_count": 146
        }
      ]
    },
    {
      "cell_type": "markdown",
      "metadata": {
        "id": "YmmLHpfOKqIO"
      },
      "source": [
        "# Resultados clasificación preliminar usando previamente PCA()\n"
      ],
      "id": "YmmLHpfOKqIO"
    },
    {
      "cell_type": "code",
      "metadata": {
        "id": "jaS-9HVc0RCH",
        "colab": {
          "base_uri": "https://localhost:8080/"
        },
        "outputId": "795b0cb5-1af1-4476-cbd0-8af47b11f8d3"
      },
      "source": [
        "iguales_pca = sum([comparacion_resultados_pca['pred_labels']==comparacion_resultados_pca['classALeRCE']])\n",
        "total_usando_pca = iguales_pca.shape[0] \n",
        "print('N° de aciertos usando arboles de decisión como clasificador:')\n",
        "print( f'N° de aciertos: {iguales_pca.sum()}, N° de errores: {total_usando_pca-iguales_pca.sum()}')\n",
        "print(f'Porcentaje de clasificaciones correctas: {\"{:.2f}\".format((iguales_pca.sum()/total)*100)}% \\nPorcentaje de clasificaciones incorrectas: {\"{:.2f}\".format(((total_usando_pca-iguales_pca.sum())/total)*100)}%')"
      ],
      "id": "jaS-9HVc0RCH",
      "execution_count": null,
      "outputs": [
        {
          "output_type": "stream",
          "name": "stdout",
          "text": [
            "N° de aciertos usando arboles de decisión como clasificador:\n",
            "N° de aciertos: 449, N° de errores: 159\n",
            "Porcentaje de clasificaciones correctas: 73.85% \n",
            "Porcentaje de clasificaciones incorrectas: 26.15%\n"
          ]
        }
      ]
    }
  ]
}